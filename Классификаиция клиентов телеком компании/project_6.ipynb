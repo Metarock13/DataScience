{
 "cells": [
  {
   "cell_type": "markdown",
   "metadata": {},
   "source": [
    "# Рекомендация тарифов"
   ]
  },
  {
   "cell_type": "markdown",
   "metadata": {},
   "source": [
    "В вашем распоряжении данные о поведении клиентов, которые уже перешли на эти тарифы (из проекта курса «Статистический анализ данных»). Нужно построить модель для задачи классификации, которая выберет подходящий тариф. Предобработка данных не понадобится — вы её уже сделали.\n",
    "\n",
    "Постройте модель с максимально большим значением *accuracy*. Чтобы сдать проект успешно, нужно довести долю правильных ответов по крайней мере до 0.75. Проверьте *accuracy* на тестовой выборке самостоятельно."
   ]
  },
  {
   "cell_type": "markdown",
   "metadata": {},
   "source": [
    "## Описание данных"
   ]
  },
  {
   "cell_type": "markdown",
   "metadata": {},
   "source": [
    "сalls — количество звонков,\n",
    "\n",
    "minutes — суммарная длительность звонков в минутах,\n",
    "\n",
    "messages — количество sms-сообщений,\n",
    "\n",
    "mb_used — израсходованный интернет-трафик в Мб,\n",
    "\n",
    "is_ultra — каким тарифом пользовался в течение месяца («Ультра» — 1, «Смарт» — 0)."
   ]
  },
  {
   "cell_type": "markdown",
   "metadata": {},
   "source": [
    "## Откройте и изучите файл"
   ]
  },
  {
   "cell_type": "code",
   "execution_count": 1,
   "metadata": {},
   "outputs": [],
   "source": [
    "import pandas as pd\n",
    "import seaborn as sns\n",
    "import matplotlib.pyplot as plt\n",
    "\n",
    "from sklearn.metrics import accuracy_score\n",
    "from sklearn.model_selection import train_test_split\n",
    "from sklearn.tree import DecisionTreeClassifier\n",
    "from sklearn.linear_model import LogisticRegression\n",
    "from sklearn.ensemble import RandomForestClassifier\n",
    "from sklearn.dummy import DummyClassifier"
   ]
  },
  {
   "cell_type": "code",
   "execution_count": 2,
   "metadata": {},
   "outputs": [],
   "source": [
    "data = pd.read_csv('/datasets/users_behavior.csv')"
   ]
  },
  {
   "cell_type": "code",
   "execution_count": 3,
   "metadata": {},
   "outputs": [
    {
     "data": {
      "text/html": [
       "<div>\n",
       "<style scoped>\n",
       "    .dataframe tbody tr th:only-of-type {\n",
       "        vertical-align: middle;\n",
       "    }\n",
       "\n",
       "    .dataframe tbody tr th {\n",
       "        vertical-align: top;\n",
       "    }\n",
       "\n",
       "    .dataframe thead th {\n",
       "        text-align: right;\n",
       "    }\n",
       "</style>\n",
       "<table border=\"1\" class=\"dataframe\">\n",
       "  <thead>\n",
       "    <tr style=\"text-align: right;\">\n",
       "      <th></th>\n",
       "      <th>calls</th>\n",
       "      <th>minutes</th>\n",
       "      <th>messages</th>\n",
       "      <th>mb_used</th>\n",
       "      <th>is_ultra</th>\n",
       "    </tr>\n",
       "  </thead>\n",
       "  <tbody>\n",
       "    <tr>\n",
       "      <th>0</th>\n",
       "      <td>40.0</td>\n",
       "      <td>311.90</td>\n",
       "      <td>83.0</td>\n",
       "      <td>19915.42</td>\n",
       "      <td>0</td>\n",
       "    </tr>\n",
       "    <tr>\n",
       "      <th>1</th>\n",
       "      <td>85.0</td>\n",
       "      <td>516.75</td>\n",
       "      <td>56.0</td>\n",
       "      <td>22696.96</td>\n",
       "      <td>0</td>\n",
       "    </tr>\n",
       "    <tr>\n",
       "      <th>2</th>\n",
       "      <td>77.0</td>\n",
       "      <td>467.66</td>\n",
       "      <td>86.0</td>\n",
       "      <td>21060.45</td>\n",
       "      <td>0</td>\n",
       "    </tr>\n",
       "    <tr>\n",
       "      <th>3</th>\n",
       "      <td>106.0</td>\n",
       "      <td>745.53</td>\n",
       "      <td>81.0</td>\n",
       "      <td>8437.39</td>\n",
       "      <td>1</td>\n",
       "    </tr>\n",
       "    <tr>\n",
       "      <th>4</th>\n",
       "      <td>66.0</td>\n",
       "      <td>418.74</td>\n",
       "      <td>1.0</td>\n",
       "      <td>14502.75</td>\n",
       "      <td>0</td>\n",
       "    </tr>\n",
       "    <tr>\n",
       "      <th>5</th>\n",
       "      <td>58.0</td>\n",
       "      <td>344.56</td>\n",
       "      <td>21.0</td>\n",
       "      <td>15823.37</td>\n",
       "      <td>0</td>\n",
       "    </tr>\n",
       "    <tr>\n",
       "      <th>6</th>\n",
       "      <td>57.0</td>\n",
       "      <td>431.64</td>\n",
       "      <td>20.0</td>\n",
       "      <td>3738.90</td>\n",
       "      <td>1</td>\n",
       "    </tr>\n",
       "    <tr>\n",
       "      <th>7</th>\n",
       "      <td>15.0</td>\n",
       "      <td>132.40</td>\n",
       "      <td>6.0</td>\n",
       "      <td>21911.60</td>\n",
       "      <td>0</td>\n",
       "    </tr>\n",
       "    <tr>\n",
       "      <th>8</th>\n",
       "      <td>7.0</td>\n",
       "      <td>43.39</td>\n",
       "      <td>3.0</td>\n",
       "      <td>2538.67</td>\n",
       "      <td>1</td>\n",
       "    </tr>\n",
       "    <tr>\n",
       "      <th>9</th>\n",
       "      <td>90.0</td>\n",
       "      <td>665.41</td>\n",
       "      <td>38.0</td>\n",
       "      <td>17358.61</td>\n",
       "      <td>0</td>\n",
       "    </tr>\n",
       "    <tr>\n",
       "      <th>10</th>\n",
       "      <td>82.0</td>\n",
       "      <td>560.51</td>\n",
       "      <td>20.0</td>\n",
       "      <td>9619.53</td>\n",
       "      <td>1</td>\n",
       "    </tr>\n",
       "    <tr>\n",
       "      <th>11</th>\n",
       "      <td>45.0</td>\n",
       "      <td>344.32</td>\n",
       "      <td>13.0</td>\n",
       "      <td>19898.81</td>\n",
       "      <td>0</td>\n",
       "    </tr>\n",
       "    <tr>\n",
       "      <th>12</th>\n",
       "      <td>51.0</td>\n",
       "      <td>437.13</td>\n",
       "      <td>61.0</td>\n",
       "      <td>21523.58</td>\n",
       "      <td>0</td>\n",
       "    </tr>\n",
       "    <tr>\n",
       "      <th>13</th>\n",
       "      <td>56.0</td>\n",
       "      <td>433.07</td>\n",
       "      <td>16.0</td>\n",
       "      <td>16702.36</td>\n",
       "      <td>0</td>\n",
       "    </tr>\n",
       "    <tr>\n",
       "      <th>14</th>\n",
       "      <td>108.0</td>\n",
       "      <td>587.90</td>\n",
       "      <td>0.0</td>\n",
       "      <td>14406.50</td>\n",
       "      <td>1</td>\n",
       "    </tr>\n",
       "  </tbody>\n",
       "</table>\n",
       "</div>"
      ],
      "text/plain": [
       "    calls  minutes  messages   mb_used  is_ultra\n",
       "0    40.0   311.90      83.0  19915.42         0\n",
       "1    85.0   516.75      56.0  22696.96         0\n",
       "2    77.0   467.66      86.0  21060.45         0\n",
       "3   106.0   745.53      81.0   8437.39         1\n",
       "4    66.0   418.74       1.0  14502.75         0\n",
       "5    58.0   344.56      21.0  15823.37         0\n",
       "6    57.0   431.64      20.0   3738.90         1\n",
       "7    15.0   132.40       6.0  21911.60         0\n",
       "8     7.0    43.39       3.0   2538.67         1\n",
       "9    90.0   665.41      38.0  17358.61         0\n",
       "10   82.0   560.51      20.0   9619.53         1\n",
       "11   45.0   344.32      13.0  19898.81         0\n",
       "12   51.0   437.13      61.0  21523.58         0\n",
       "13   56.0   433.07      16.0  16702.36         0\n",
       "14  108.0   587.90       0.0  14406.50         1"
      ]
     },
     "execution_count": 3,
     "metadata": {},
     "output_type": "execute_result"
    }
   ],
   "source": [
    "data.head(15)"
   ]
  },
  {
   "cell_type": "code",
   "execution_count": 4,
   "metadata": {},
   "outputs": [
    {
     "name": "stdout",
     "output_type": "stream",
     "text": [
      "<class 'pandas.core.frame.DataFrame'>\n",
      "RangeIndex: 3214 entries, 0 to 3213\n",
      "Data columns (total 5 columns):\n",
      " #   Column    Non-Null Count  Dtype  \n",
      "---  ------    --------------  -----  \n",
      " 0   calls     3214 non-null   float64\n",
      " 1   minutes   3214 non-null   float64\n",
      " 2   messages  3214 non-null   float64\n",
      " 3   mb_used   3214 non-null   float64\n",
      " 4   is_ultra  3214 non-null   int64  \n",
      "dtypes: float64(4), int64(1)\n",
      "memory usage: 125.7 KB\n"
     ]
    }
   ],
   "source": [
    "data.info()"
   ]
  },
  {
   "cell_type": "code",
   "execution_count": 5,
   "metadata": {},
   "outputs": [
    {
     "data": {
      "text/plain": [
       "calls       0\n",
       "minutes     0\n",
       "messages    0\n",
       "mb_used     0\n",
       "is_ultra    0\n",
       "dtype: int64"
      ]
     },
     "execution_count": 5,
     "metadata": {},
     "output_type": "execute_result"
    }
   ],
   "source": [
    "data.isna().sum()"
   ]
  },
  {
   "cell_type": "code",
   "execution_count": 6,
   "metadata": {},
   "outputs": [
    {
     "data": {
      "text/plain": [
       "0"
      ]
     },
     "execution_count": 6,
     "metadata": {},
     "output_type": "execute_result"
    }
   ],
   "source": [
    "data.duplicated().sum()"
   ]
  },
  {
   "cell_type": "markdown",
   "metadata": {},
   "source": [
    "**Вывод**\n",
    "Данные не требуют предварительной обработки"
   ]
  },
  {
   "cell_type": "code",
   "execution_count": 7,
   "metadata": {},
   "outputs": [
    {
     "name": "stdout",
     "output_type": "stream",
     "text": [
      "             calls   minutes  messages   mb_used  is_ultra\n",
      "calls     1.000000  0.982083  0.177385  0.286442  0.207122\n",
      "minutes   0.982083  1.000000  0.173110  0.280967  0.206955\n",
      "messages  0.177385  0.173110  1.000000  0.195721  0.203830\n",
      "mb_used   0.286442  0.280967  0.195721  1.000000  0.198568\n",
      "is_ultra  0.207122  0.206955  0.203830  0.198568  1.000000\n"
     ]
    },
    {
     "data": {
      "text/plain": [
       "<AxesSubplot:>"
      ]
     },
     "execution_count": 7,
     "metadata": {},
     "output_type": "execute_result"
    },
    {
     "data": {
      "image/png": "[encoded data removed]",
      "text/plain": [
       "<Figure size 432x288 with 2 Axes>"
      ]
     },
     "metadata": {
      "needs_background": "light"
     },
     "output_type": "display_data"
    }
   ],
   "source": [
    "corr_matrix = data.corr()\n",
    "print(corr_matrix)\n",
    "sns.heatmap(corr_matrix, annot=True, cmap='coolwarm')"
   ]
  },
  {
   "cell_type": "markdown",
   "metadata": {},
   "source": [
    "**Вывод по замечаию**\n",
    "\n",
    "Корреляция между признаками calls и minutes составляет 0.98, что указывает на очень сильную положительную корреляцию между ними. Это может быть связано с тем, что чем больше звонков пользователь совершает, тем больше времени он проводит на связи.\n",
    "\n",
    "Корреляция между is_ultra и другими признаками относительно невысока, но она все же присутствует. Это может указывать на то, что признак is_ultra имеет некоторое влияние на другие признаки в датасете, хотя это не является определенным знаком мультиколлинеарности."
   ]
  },
  {
   "cell_type": "markdown",
   "metadata": {},
   "source": [
    "## Разбейте данные на выборки"
   ]
  },
  {
   "cell_type": "markdown",
   "metadata": {},
   "source": [
    "Для достижения цели требуется разделить информацию на различные наборы:\n",
    "\n",
    "Обучающая выборка\n",
    "\n",
    "Валидационная выборка\n",
    "\n",
    "Тестовая выборка\n",
    "\n",
    "Используемые переменные:\n",
    "\n",
    "features_train, target_train - Обучающая выборка\n",
    "\n",
    "features_valid, target_valid -Валидационная выборка\n",
    "\n",
    "features_test, target_test - Тестовая выборка"
   ]
  },
  {
   "cell_type": "code",
   "execution_count": 8,
   "metadata": {},
   "outputs": [],
   "source": [
    "obuchenie, test = train_test_split(data, test_size=0.4, random_state=12345)\n",
    "features = test.drop('is_ultra', axis=1)\n",
    "target = test['is_ultra']"
   ]
  },
  {
   "cell_type": "code",
   "execution_count": 9,
   "metadata": {},
   "outputs": [
    {
     "data": {
      "text/plain": [
       "(1928, 5)"
      ]
     },
     "execution_count": 9,
     "metadata": {},
     "output_type": "execute_result"
    }
   ],
   "source": [
    "obuchenie.shape"
   ]
  },
  {
   "cell_type": "code",
   "execution_count": 10,
   "metadata": {},
   "outputs": [],
   "source": [
    "features_valid, features_test, target_valid, target_test = train_test_split(features, target, stratify=target, test_size=0.5, random_state=12345)\n",
    "features_train = obuchenie.drop('is_ultra', axis=1)\n",
    "target_train = obuchenie['is_ultra']"
   ]
  },
  {
   "cell_type": "code",
   "execution_count": 11,
   "metadata": {},
   "outputs": [
    {
     "data": {
      "text/plain": [
       "(643, 4)"
      ]
     },
     "execution_count": 11,
     "metadata": {},
     "output_type": "execute_result"
    }
   ],
   "source": [
    "features_test.shape"
   ]
  },
  {
   "cell_type": "code",
   "execution_count": 12,
   "metadata": {},
   "outputs": [
    {
     "data": {
      "text/plain": [
       "(643, 4)"
      ]
     },
     "execution_count": 12,
     "metadata": {},
     "output_type": "execute_result"
    }
   ],
   "source": [
    "features_valid.shape"
   ]
  },
  {
   "cell_type": "markdown",
   "metadata": {},
   "source": [
    "## Исследуйте модели"
   ]
  },
  {
   "cell_type": "markdown",
   "metadata": {},
   "source": [
    "Рассмотрим модель машинного обучения, известную как \"Дерево решений\":"
   ]
  },
  {
   "cell_type": "code",
   "execution_count": 13,
   "metadata": {
    "scrolled": true
   },
   "outputs": [
    {
     "name": "stdout",
     "output_type": "stream",
     "text": [
      "Глубина дерева: 7 Качество: 0.7993779160186625\n"
     ]
    },
    {
     "data": {
      "image/png": "[encoded data removed]",
      "text/plain": [
       "<Figure size 432x288 with 1 Axes>"
      ]
     },
     "metadata": {
      "needs_background": "light"
     },
     "output_type": "display_data"
    },
    {
     "name": "stdout",
     "output_type": "stream",
     "text": [
      "CPU times: user 277 ms, sys: 16.7 ms, total: 293 ms\n",
      "Wall time: 296 ms\n"
     ]
    }
   ],
   "source": [
    "%%time \n",
    "\n",
    "train_accuracy = []\n",
    "valid_accuracy = []\n",
    "best_accuracy = 0\n",
    "best_depth = 0\n",
    "\n",
    "for depth in range(1, 15):\n",
    "    model = DecisionTreeClassifier(max_depth=depth, random_state=1234)\n",
    "    model.fit(features_train, target_train)\n",
    "    train_acc = model.score(features_train, target_train)\n",
    "    valid_acc = model.score(features_valid, target_valid)\n",
    "    train_accuracy.append(train_acc)\n",
    "    valid_accuracy.append(valid_acc)\n",
    "    if valid_acc > best_accuracy:\n",
    "        best_accuracy = valid_acc\n",
    "        best_depth = depth\n",
    "\n",
    "print(\"Глубина дерева:\", best_depth, \"Качество:\", best_accuracy)\n",
    "\n",
    "plt.plot(range(1, 15), train_accuracy, label='train')\n",
    "plt.plot(range(1, 15), valid_accuracy, label='validation')\n",
    "plt.legend()\n",
    "plt.xlabel('Глубина дерева')\n",
    "plt.ylabel('Качество')\n",
    "plt.show()"
   ]
  },
  {
   "cell_type": "markdown",
   "metadata": {},
   "source": [
    "Рассмотрим модель машинного обучения, известную как \"Случаный лес\":"
   ]
  },
  {
   "cell_type": "code",
   "execution_count": 14,
   "metadata": {},
   "outputs": [
    {
     "name": "stdout",
     "output_type": "stream",
     "text": [
      "Глубина дерева: 7 Количество деревьев: 40 Количество выборок (max): 2 Качество: 0.8149300155520995\n",
      "CPU times: user 15.4 s, sys: 118 ms, total: 15.6 s\n",
      "Wall time: 15.6 s\n"
     ]
    }
   ],
   "source": [
    "%%time \n",
    "\n",
    "best_accuracy = 0\n",
    "best_depth = 0\n",
    "for depth in range(1,10):\n",
    "    for est in range(5,50,5):\n",
    "        for sample in range(2,5):\n",
    "            model = RandomForestClassifier(max_depth=depth, n_estimators=est, min_samples_leaf=sample, random_state=1234)\n",
    "            model.fit(features_train , target_train)\n",
    "            accuracy = model.score(features_valid, target_valid)\n",
    "            if accuracy > best_accuracy:\n",
    "                best_accuracy = accuracy\n",
    "                best_depth = depth\n",
    "                best_est = est\n",
    "                best_sample = sample\n",
    "print(\"Глубина дерева:\", best_depth, \"Количество деревьев:\", best_est, \"Количество выборок (max):\", best_sample, \"Качество:\", best_accuracy)"
   ]
  },
  {
   "cell_type": "markdown",
   "metadata": {},
   "source": [
    "Рассмотрим модель машинного обучения, известную как \"Логическая регрессия\":"
   ]
  },
  {
   "cell_type": "code",
   "execution_count": 15,
   "metadata": {},
   "outputs": [
    {
     "name": "stdout",
     "output_type": "stream",
     "text": [
      "Качество: 0.6905132192846034\n",
      "CPU times: user 23.7 ms, sys: 3.99 ms, total: 27.7 ms\n",
      "Wall time: 25.9 ms\n"
     ]
    }
   ],
   "source": [
    "%%time \n",
    "\n",
    "model = LogisticRegression()\n",
    "model.fit(features_train , target_train)\n",
    "accuracy = model.score(features_valid, target_valid)\n",
    "print(\"Качество:\", accuracy)"
   ]
  },
  {
   "cell_type": "markdown",
   "metadata": {},
   "source": [
    "**Вывод**\n",
    "\n",
    "Среди трех моделей машинного обучения, лучшее качество показала модель \"Случайный лес\", при использовании определенных гиперпараметров: max_depth=7, max_samples_leaf=2 и n_estimators=40, с результатом 0.815. Другие две модели, \"Дерево решений\" с гиперпараметрами max_depth=9 (0.799) и \"Логистическая регрессия\" (0.690), показали результаты менее эффективные по сравнению с моделью \"Случайный лес\"."
   ]
  },
  {
   "cell_type": "markdown",
   "metadata": {},
   "source": [
    "**вывод**\n",
    "\n",
    "\n",
    "Ситуация, когда на валидации при увеличении глубины дерева метрика качества начинает снижаться, называется переобучением модели. Переобучение происходит, когда модель слишком хорошо подстраивается под тренировочные данные, в результате чего она теряет обобщающую способность и начинает плохо работать на новых данных.\n",
    "\n",
    "На train метрика качества при увеличении глубины дерева может продолжать расти или оставаться примерно на одном уровне, что является еще одним признаком переобучения модели.\n",
    "\n",
    "\n",
    "\n",
    "Случайный лес является ансамблевой моделью, которая комбинирует несколько решающих деревьев, чтобы улучшить точность классификации. Он работает путем генерации случайных подмножеств признаков и наборов данных и обучения решающих деревьев на каждом из этих подмножеств. Когда несколько деревьев объединяются в случайный лес, он учитывает их совместные прогнозы, что может привести к более точным и стабильным результатам.\n",
    "\n",
    "Кроме того, случайный лес имеет ряд преимуществ перед другими методами машинного обучения. Во-первых, он обладает способностью автоматически выбирать наиболее важные признаки для классификации. Во-вторых, он способен работать с большими наборами данных и множеством признаков. В-третьих, он имеет низкий уровень переобучения и не требует большого количества гиперпараметров для настройки.\n",
    "\n",
    "\n",
    "\n",
    "Возможно, причина, по которой логистическая регрессия показывает более низкое качество, заключается в том, что она не учитывает сложные взаимодействия между признаками и не может моделировать нелинейные зависимости.\n",
    "\n",
    "Случайный лес и дерево решений, с другой стороны, могут учитывать сложные взаимодействия между признаками и моделировать нелинейные зависимости. Они могут также автоматически выбирать наиболее информативные признаки для классификации.\n",
    "\n",
    "Кроме того, логистическая регрессия является линейной моделью, которая может быть эффективна только в случаях, когда связь между признаками и целевой переменной является линейной. Если связь между признаками и целевой переменной не является линейной, то логистическая регрессия может работать хуже."
   ]
  },
  {
   "cell_type": "markdown",
   "metadata": {},
   "source": [
    "## Проверьте модель на тестовой выборке"
   ]
  },
  {
   "cell_type": "markdown",
   "metadata": {},
   "source": [
    "Поскольку модель \"Случайный лес\" показала лучшие результаты, мы будем проверять ее на тестовой выборке."
   ]
  },
  {
   "cell_type": "code",
   "execution_count": 16,
   "metadata": {},
   "outputs": [
    {
     "name": "stdout",
     "output_type": "stream",
     "text": [
      "Качество: 0.7791601866251944\n"
     ]
    }
   ],
   "source": [
    "model = RandomForestClassifier(max_depth=7, n_estimators=40, min_samples_leaf=2, random_state=1234)\n",
    "model.fit(features_train , target_train)\n",
    "accuracy = model.score(features_test, target_test)\n",
    "print(\"Качество:\", accuracy)"
   ]
  },
  {
   "cell_type": "markdown",
   "metadata": {},
   "source": [
    "**Делаем деньги на прогнозах**\n",
    "\n",
    "Собрать данные о новых клиентах и определить их параметры.\n",
    "\n",
    "Применить модель машинного обучения к данным новых клиентов и получить предсказания о том, какой тариф им наиболее подходит.\n",
    "\n",
    "Предложить клиенту подходящий тариф и дополнительные услуги на основе его параметров и предсказаний модели.\n",
    "\n",
    "Следить за результатами и корректировать стратегию, если необходимо."
   ]
  },
  {
   "cell_type": "markdown",
   "metadata": {},
   "source": [
    "## **Вывод**\n",
    "\n",
    "\n",
    "Среди трех моделей, которые были протестированы, \"Случайный лес\" показал наилучшие результаты с метрикой качества 0.779 при настройке гиперпараметров max_depth=7, max_samples_leaf=2 и n_estimators=40. Качество модели \"Дерево решений\" достигло 0.786 при установке max_depth=9, а модель \"Логистическая регрессия\" показала результат 0.690."
   ]
  },
  {
   "cell_type": "markdown",
   "metadata": {},
   "source": [
    "**ФИНАЛЬНЫЙ ВЫВОД**\n",
    "\n",
    "\n",
    "В итоге, были проверены три модели: \"Дерево решений\", \"Случайный лес\" и \"Логистическая регрессия\", и на основе лучших метрик качества, можно сделать вывод, что модель \"Случайный лес\" с параметрами max_depth=7, max_samples_leaf=2 и n_estimators=40 показала наилучшие результаты."
   ]
  },
  {
   "cell_type": "markdown",
   "metadata": {},
   "source": [
    "## (бонус) Проверьте модели на адекватность"
   ]
  },
  {
   "cell_type": "code",
   "execution_count": 17,
   "metadata": {},
   "outputs": [
    {
     "name": "stdout",
     "output_type": "stream",
     "text": [
      "Accuracy модели случайного леса равна 0.7853810264385692, а DummyClassifier равна 0.6951788491446346\n",
      "Модель случайного леса адекватна\n"
     ]
    }
   ],
   "source": [
    "dummy_clf = DummyClassifier(strategy='most_frequent')\n",
    "dummy_clf.fit(features_train, target_train)\n",
    "prediction_dummy = dummy_clf.predict(features_test)\n",
    "dummy_acc = accuracy_score(target_test, prediction_dummy)\n",
    "\n",
    "forest_clf = RandomForestClassifier(max_depth=7, n_estimators=35, min_samples_leaf=3, random_state=1234)\n",
    "forest_clf.fit(features_train , target_train)\n",
    "prediction_forest = forest_clf.predict(features_test)\n",
    "forest_acc = accuracy_score(target_test, prediction_forest)\n",
    "\n",
    "print(f'Accuracy модели случайного леса равна {forest_acc}, а DummyClassifier равна {dummy_acc}')\n",
    "\n",
    "if dummy_acc < forest_acc:\n",
    "    print('Модель случайного леса адекватна')\n",
    "else:\n",
    "    print('Модель случайного леса не адекватна')"
   ]
  },
  {
   "cell_type": "markdown",
   "metadata": {},
   "source": [
    "**Вывод**\n",
    "\n",
    "В результате проверки модели на адекватность мы получили Accuracy модели случайного леса равной 0.79, а DummyClassifier равной 0.69, что говорит нам о том, что модель случайного леса является адекватной."
   ]
  },
  {
   "cell_type": "code",
   "execution_count": null,
   "metadata": {},
   "outputs": [],
   "source": []
  }
 ],
 "metadata": {
  "ExecuteTimeLog": [
   {
    "duration": 1274,
    "start_time": "2023-03-22T09:13:24.207Z"
   },
   {
    "duration": 143,
    "start_time": "2023-03-22T09:13:26.796Z"
   },
   {
    "duration": 95,
    "start_time": "2023-03-22T09:13:31.375Z"
   },
   {
    "duration": 21,
    "start_time": "2023-03-22T09:13:37.450Z"
   },
   {
    "duration": 19,
    "start_time": "2023-03-22T09:13:38.437Z"
   },
   {
    "duration": 7,
    "start_time": "2023-03-22T09:13:40.010Z"
   },
   {
    "duration": 6,
    "start_time": "2023-03-22T09:13:41.106Z"
   },
   {
    "duration": 6,
    "start_time": "2023-03-22T09:13:45.359Z"
   },
   {
    "duration": 9,
    "start_time": "2023-03-22T09:13:47.332Z"
   },
   {
    "duration": 9,
    "start_time": "2023-03-22T09:13:49.050Z"
   },
   {
    "duration": 7,
    "start_time": "2023-03-22T09:13:51.823Z"
   },
   {
    "duration": 4,
    "start_time": "2023-03-22T09:13:52.879Z"
   },
   {
    "duration": 110,
    "start_time": "2023-03-22T09:13:58.131Z"
   },
   {
    "duration": 15882,
    "start_time": "2023-03-22T09:14:05.046Z"
   },
   {
    "duration": 29,
    "start_time": "2023-03-22T09:14:26.621Z"
   },
   {
    "duration": 107,
    "start_time": "2023-03-22T09:14:33.875Z"
   },
   {
    "duration": 105,
    "start_time": "2023-03-22T09:14:39.985Z"
   },
   {
    "duration": 2181,
    "start_time": "2023-03-22T10:32:36.460Z"
   },
   {
    "duration": 32,
    "start_time": "2023-03-22T10:32:38.643Z"
   },
   {
    "duration": 17,
    "start_time": "2023-03-22T10:32:38.678Z"
   },
   {
    "duration": 11,
    "start_time": "2023-03-22T10:32:38.698Z"
   },
   {
    "duration": 5,
    "start_time": "2023-03-22T10:32:38.711Z"
   },
   {
    "duration": 24,
    "start_time": "2023-03-22T10:32:38.717Z"
   },
   {
    "duration": 5,
    "start_time": "2023-03-22T10:32:38.743Z"
   },
   {
    "duration": 4,
    "start_time": "2023-03-22T10:32:38.749Z"
   },
   {
    "duration": 5,
    "start_time": "2023-03-22T10:32:38.754Z"
   },
   {
    "duration": 3,
    "start_time": "2023-03-22T10:32:38.761Z"
   },
   {
    "duration": 4,
    "start_time": "2023-03-22T10:32:38.765Z"
   },
   {
    "duration": 141,
    "start_time": "2023-03-22T10:32:38.770Z"
   },
   {
    "duration": 2177,
    "start_time": "2023-03-22T10:32:46.033Z"
   },
   {
    "duration": 38,
    "start_time": "2023-03-22T10:32:48.212Z"
   },
   {
    "duration": 17,
    "start_time": "2023-03-22T10:32:48.252Z"
   },
   {
    "duration": 10,
    "start_time": "2023-03-22T10:32:48.270Z"
   },
   {
    "duration": 9,
    "start_time": "2023-03-22T10:32:48.281Z"
   },
   {
    "duration": 5,
    "start_time": "2023-03-22T10:32:48.291Z"
   },
   {
    "duration": 9,
    "start_time": "2023-03-22T10:32:48.298Z"
   },
   {
    "duration": 8,
    "start_time": "2023-03-22T10:32:48.308Z"
   },
   {
    "duration": 6,
    "start_time": "2023-03-22T10:32:48.340Z"
   },
   {
    "duration": 4,
    "start_time": "2023-03-22T10:32:48.348Z"
   },
   {
    "duration": 4,
    "start_time": "2023-03-22T10:32:48.354Z"
   },
   {
    "duration": 136,
    "start_time": "2023-03-22T10:32:48.359Z"
   },
   {
    "duration": 14867,
    "start_time": "2023-03-22T10:32:48.496Z"
   },
   {
    "duration": 19,
    "start_time": "2023-03-22T10:33:03.365Z"
   },
   {
    "duration": 121,
    "start_time": "2023-03-22T10:33:03.385Z"
   },
   {
    "duration": 115,
    "start_time": "2023-03-22T10:33:03.508Z"
   },
   {
    "duration": 1563,
    "start_time": "2023-03-27T14:55:22.831Z"
   },
   {
    "duration": 61,
    "start_time": "2023-03-27T14:55:24.396Z"
   },
   {
    "duration": 18,
    "start_time": "2023-03-27T14:55:25.056Z"
   },
   {
    "duration": 13,
    "start_time": "2023-03-27T14:55:25.752Z"
   },
   {
    "duration": 7,
    "start_time": "2023-03-27T14:55:26.444Z"
   },
   {
    "duration": 8,
    "start_time": "2023-03-27T14:55:27.150Z"
   },
   {
    "duration": 428,
    "start_time": "2023-03-27T14:55:31.284Z"
   },
   {
    "duration": 390,
    "start_time": "2023-03-27T14:55:56.037Z"
   },
   {
    "duration": 380,
    "start_time": "2023-03-27T14:57:47.449Z"
   },
   {
    "duration": 3,
    "start_time": "2023-03-27T15:07:47.274Z"
   },
   {
    "duration": 25,
    "start_time": "2023-03-27T15:07:48.546Z"
   },
   {
    "duration": 13,
    "start_time": "2023-03-27T15:07:49.274Z"
   },
   {
    "duration": 11,
    "start_time": "2023-03-27T15:07:49.989Z"
   },
   {
    "duration": 7,
    "start_time": "2023-03-27T15:07:50.619Z"
   },
   {
    "duration": 7,
    "start_time": "2023-03-27T15:07:51.176Z"
   },
   {
    "duration": 386,
    "start_time": "2023-03-27T15:07:53.476Z"
   },
   {
    "duration": 6,
    "start_time": "2023-03-27T15:07:57.533Z"
   },
   {
    "duration": 4,
    "start_time": "2023-03-27T15:07:58.252Z"
   },
   {
    "duration": 7,
    "start_time": "2023-03-27T15:08:01.535Z"
   },
   {
    "duration": 4,
    "start_time": "2023-03-27T15:08:02.746Z"
   },
   {
    "duration": 4,
    "start_time": "2023-03-27T15:08:03.676Z"
   },
   {
    "duration": 108,
    "start_time": "2023-03-27T15:08:17.461Z"
   },
   {
    "duration": 7,
    "start_time": "2023-03-27T15:08:34.189Z"
   },
   {
    "duration": 3,
    "start_time": "2023-03-27T15:09:06.434Z"
   },
   {
    "duration": 25,
    "start_time": "2023-03-27T15:09:07.691Z"
   },
   {
    "duration": 18,
    "start_time": "2023-03-27T15:09:08.282Z"
   },
   {
    "duration": 10,
    "start_time": "2023-03-27T15:09:08.781Z"
   },
   {
    "duration": 7,
    "start_time": "2023-03-27T15:09:09.276Z"
   },
   {
    "duration": 6,
    "start_time": "2023-03-27T15:09:09.779Z"
   },
   {
    "duration": 456,
    "start_time": "2023-03-27T15:09:11.284Z"
   },
   {
    "duration": 7,
    "start_time": "2023-03-27T15:09:13.552Z"
   },
   {
    "duration": 4,
    "start_time": "2023-03-27T15:09:14.111Z"
   },
   {
    "duration": 5,
    "start_time": "2023-03-27T15:09:14.708Z"
   },
   {
    "duration": 5,
    "start_time": "2023-03-27T15:09:15.306Z"
   },
   {
    "duration": 3,
    "start_time": "2023-03-27T15:09:15.810Z"
   },
   {
    "duration": 104,
    "start_time": "2023-03-27T15:09:18.080Z"
   },
   {
    "duration": 15666,
    "start_time": "2023-03-27T15:09:25.916Z"
   },
   {
    "duration": 30,
    "start_time": "2023-03-27T15:09:41.584Z"
   },
   {
    "duration": 113,
    "start_time": "2023-03-27T15:09:41.616Z"
   },
   {
    "duration": 139,
    "start_time": "2023-03-27T15:09:41.731Z"
   },
   {
    "duration": 15332,
    "start_time": "2023-03-27T15:46:27.407Z"
   },
   {
    "duration": 3,
    "start_time": "2023-03-27T15:49:48.165Z"
   },
   {
    "duration": 25,
    "start_time": "2023-03-27T15:49:51.613Z"
   },
   {
    "duration": 15,
    "start_time": "2023-03-27T15:49:52.541Z"
   },
   {
    "duration": 11,
    "start_time": "2023-03-27T15:49:53.628Z"
   },
   {
    "duration": 6,
    "start_time": "2023-03-27T15:49:54.629Z"
   },
   {
    "duration": 6,
    "start_time": "2023-03-27T15:49:57.316Z"
   },
   {
    "duration": 394,
    "start_time": "2023-03-27T15:50:04.589Z"
   },
   {
    "duration": 7,
    "start_time": "2023-03-27T15:50:07.891Z"
   },
   {
    "duration": 5,
    "start_time": "2023-03-27T15:50:08.392Z"
   },
   {
    "duration": 6,
    "start_time": "2023-03-27T15:50:08.924Z"
   },
   {
    "duration": 5,
    "start_time": "2023-03-27T15:50:10.278Z"
   },
   {
    "duration": 5,
    "start_time": "2023-03-27T15:50:11.832Z"
   },
   {
    "duration": 104,
    "start_time": "2023-03-27T15:50:19.457Z"
   },
   {
    "duration": 15508,
    "start_time": "2023-03-27T15:50:27.793Z"
   },
   {
    "duration": 120,
    "start_time": "2023-03-27T15:51:22.962Z"
   },
   {
    "duration": 15559,
    "start_time": "2023-03-27T15:51:30.793Z"
   },
   {
    "duration": 26,
    "start_time": "2023-03-27T15:51:46.354Z"
   },
   {
    "duration": 105,
    "start_time": "2023-03-27T15:51:54.611Z"
   },
   {
    "duration": 15325,
    "start_time": "2023-03-27T16:05:53.586Z"
   },
   {
    "duration": 292,
    "start_time": "2023-03-27T16:07:25.036Z"
   },
   {
    "duration": 3,
    "start_time": "2023-03-27T16:12:05.780Z"
   },
   {
    "duration": 24,
    "start_time": "2023-03-27T16:12:06.732Z"
   },
   {
    "duration": 12,
    "start_time": "2023-03-27T16:12:07.212Z"
   },
   {
    "duration": 12,
    "start_time": "2023-03-27T16:12:07.753Z"
   },
   {
    "duration": 6,
    "start_time": "2023-03-27T16:12:08.295Z"
   },
   {
    "duration": 7,
    "start_time": "2023-03-27T16:12:08.832Z"
   },
   {
    "duration": 352,
    "start_time": "2023-03-27T16:12:10.543Z"
   },
   {
    "duration": 7,
    "start_time": "2023-03-27T16:12:13.482Z"
   },
   {
    "duration": 5,
    "start_time": "2023-03-27T16:12:13.984Z"
   },
   {
    "duration": 9,
    "start_time": "2023-03-27T16:12:14.432Z"
   },
   {
    "duration": 4,
    "start_time": "2023-03-27T16:12:16.709Z"
   },
   {
    "duration": 4,
    "start_time": "2023-03-27T16:12:17.324Z"
   },
   {
    "duration": 8,
    "start_time": "2023-03-27T16:12:20.801Z"
   },
   {
    "duration": 294,
    "start_time": "2023-03-27T16:12:36.332Z"
   },
   {
    "duration": 288,
    "start_time": "2023-03-27T16:14:50.992Z"
   },
   {
    "duration": 15531,
    "start_time": "2023-03-27T16:16:26.792Z"
   },
   {
    "duration": 25,
    "start_time": "2023-03-27T16:16:42.351Z"
   },
   {
    "duration": 1120,
    "start_time": "2023-03-27T16:19:21.247Z"
   },
   {
    "duration": 26,
    "start_time": "2023-03-27T16:19:24.091Z"
   },
   {
    "duration": 19,
    "start_time": "2023-03-27T16:19:25.566Z"
   },
   {
    "duration": 13,
    "start_time": "2023-03-27T16:19:27.863Z"
   },
   {
    "duration": 6,
    "start_time": "2023-03-27T16:19:28.940Z"
   },
   {
    "duration": 6,
    "start_time": "2023-03-27T16:19:29.814Z"
   },
   {
    "duration": 104,
    "start_time": "2023-03-27T16:19:33.608Z"
   },
   {
    "duration": 1370,
    "start_time": "2023-03-27T16:20:28.251Z"
   },
   {
    "duration": 27,
    "start_time": "2023-03-27T16:20:29.623Z"
   },
   {
    "duration": 17,
    "start_time": "2023-03-27T16:20:30.246Z"
   },
   {
    "duration": 12,
    "start_time": "2023-03-27T16:20:30.761Z"
   },
   {
    "duration": 6,
    "start_time": "2023-03-27T16:20:31.449Z"
   },
   {
    "duration": 8,
    "start_time": "2023-03-27T16:20:32.016Z"
   },
   {
    "duration": 392,
    "start_time": "2023-03-27T16:20:35.991Z"
   },
   {
    "duration": 7,
    "start_time": "2023-03-27T16:20:56.030Z"
   },
   {
    "duration": 4,
    "start_time": "2023-03-27T16:20:56.587Z"
   },
   {
    "duration": 7,
    "start_time": "2023-03-27T16:20:57.064Z"
   },
   {
    "duration": 4,
    "start_time": "2023-03-27T16:20:57.621Z"
   },
   {
    "duration": 4,
    "start_time": "2023-03-27T16:20:58.208Z"
   },
   {
    "duration": 296,
    "start_time": "2023-03-27T16:21:47.241Z"
   },
   {
    "duration": 1385,
    "start_time": "2023-03-27T16:22:29.946Z"
   },
   {
    "duration": 25,
    "start_time": "2023-03-27T16:22:32.826Z"
   },
   {
    "duration": 19,
    "start_time": "2023-03-27T16:22:34.048Z"
   },
   {
    "duration": 12,
    "start_time": "2023-03-27T16:22:34.483Z"
   },
   {
    "duration": 8,
    "start_time": "2023-03-27T16:22:34.956Z"
   },
   {
    "duration": 7,
    "start_time": "2023-03-27T16:22:35.496Z"
   },
   {
    "duration": 370,
    "start_time": "2023-03-27T16:22:37.113Z"
   },
   {
    "duration": 7,
    "start_time": "2023-03-27T16:22:40.002Z"
   },
   {
    "duration": 4,
    "start_time": "2023-03-27T16:22:40.562Z"
   },
   {
    "duration": 8,
    "start_time": "2023-03-27T16:22:41.114Z"
   },
   {
    "duration": 5,
    "start_time": "2023-03-27T16:22:41.721Z"
   },
   {
    "duration": 5,
    "start_time": "2023-03-27T16:22:42.365Z"
   },
   {
    "duration": 303,
    "start_time": "2023-03-27T16:22:46.461Z"
   },
   {
    "duration": 15557,
    "start_time": "2023-03-27T16:23:29.048Z"
   },
   {
    "duration": 29,
    "start_time": "2023-03-27T16:23:44.608Z"
   },
   {
    "duration": 146,
    "start_time": "2023-03-27T17:02:37.796Z"
   },
   {
    "duration": 133,
    "start_time": "2023-03-27T17:04:33.064Z"
   }
  ],
  "kernelspec": {
   "display_name": "Python 3 (ipykernel)",
   "language": "python",
   "name": "python3"
  },
  "language_info": {
   "codemirror_mode": {
    "name": "ipython",
    "version": 3
   },
   "file_extension": ".py",
   "mimetype": "text/x-python",
   "name": "python",
   "nbconvert_exporter": "python",
   "pygments_lexer": "ipython3",
   "version": "3.10.9"
  },
  "toc": {
   "base_numbering": 1,
   "nav_menu": {},
   "number_sections": true,
   "sideBar": true,
   "skip_h1_title": true,
   "title_cell": "Table of Contents",
   "title_sidebar": "Contents",
   "toc_cell": false,
   "toc_position": {},
   "toc_section_display": true,
   "toc_window_display": false
  }
 },
 "nbformat": 4,
 "nbformat_minor": 2
}
