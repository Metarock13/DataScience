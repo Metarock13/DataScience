{
 "cells": [
  {
   "cell_type": "markdown",
   "metadata": {
    "toc": true
   },
   "source": [
    "<h1>Содержание<span class=\"tocSkip\"></span></h1>\n",
    "<div class=\"toc\"><ul class=\"toc-item\"><li><span><a href=\"#Загрузка-данных\" data-toc-modified-id=\"Загрузка-данных-1\"><span class=\"toc-item-num\">1&nbsp;&nbsp;</span>Загрузка данных</a></span></li><li><span><a href=\"#Умножение-матриц\" data-toc-modified-id=\"Умножение-матриц-2\"><span class=\"toc-item-num\">2&nbsp;&nbsp;</span>Умножение матриц</a></span></li><li><span><a href=\"#Алгоритм-преобразования\" data-toc-modified-id=\"Алгоритм-преобразования-3\"><span class=\"toc-item-num\">3&nbsp;&nbsp;</span>Алгоритм преобразования</a></span></li><li><span><a href=\"#Проверка-алгоритма\" data-toc-modified-id=\"Проверка-алгоритма-4\"><span class=\"toc-item-num\">4&nbsp;&nbsp;</span>Проверка алгоритма</a></span></li><li><span><a href=\"#Чек-лист-проверки\" data-toc-modified-id=\"Чек-лист-проверки-5\"><span class=\"toc-item-num\">5&nbsp;&nbsp;</span>Чек-лист проверки</a></span></li></ul></div>"
   ]
  },
  {
   "cell_type": "markdown",
   "metadata": {},
   "source": [
    "# Защита персональных данных клиентов"
   ]
  },
  {
   "cell_type": "markdown",
   "metadata": {},
   "source": [
    "Вам нужно защитить данные клиентов страховой компании «Хоть потоп». Разработайте такой метод преобразования данных, чтобы по ним было сложно восстановить персональную информацию. Обоснуйте корректность его работы.\n",
    "\n",
    "Нужно защитить данные, чтобы при преобразовании качество моделей машинного обучения не ухудшилось. Подбирать наилучшую модель не требуется."
   ]
  },
  {
   "cell_type": "markdown",
   "metadata": {},
   "source": [
    "## Загрузка данных"
   ]
  },
  {
   "cell_type": "code",
   "execution_count": 1,
   "metadata": {},
   "outputs": [],
   "source": [
    "import pandas as pd\n",
    "from sklearn.model_selection import train_test_split\n",
    "from sklearn.linear_model import LinearRegression\n",
    "from sklearn.metrics import r2_score\n",
    "import numpy as np"
   ]
  },
  {
   "cell_type": "code",
   "execution_count": 2,
   "metadata": {},
   "outputs": [],
   "source": [
    "data = pd.read_csv('/datasets/insurance.csv')"
   ]
  },
  {
   "cell_type": "code",
   "execution_count": 3,
   "metadata": {},
   "outputs": [
    {
     "data": {
      "text/html": [
       "<div>\n",
       "<style scoped>\n",
       "    .dataframe tbody tr th:only-of-type {\n",
       "        vertical-align: middle;\n",
       "    }\n",
       "\n",
       "    .dataframe tbody tr th {\n",
       "        vertical-align: top;\n",
       "    }\n",
       "\n",
       "    .dataframe thead th {\n",
       "        text-align: right;\n",
       "    }\n",
       "</style>\n",
       "<table border=\"1\" class=\"dataframe\">\n",
       "  <thead>\n",
       "    <tr style=\"text-align: right;\">\n",
       "      <th></th>\n",
       "      <th>Пол</th>\n",
       "      <th>Возраст</th>\n",
       "      <th>Зарплата</th>\n",
       "      <th>Члены семьи</th>\n",
       "      <th>Страховые выплаты</th>\n",
       "    </tr>\n",
       "  </thead>\n",
       "  <tbody>\n",
       "    <tr>\n",
       "      <th>0</th>\n",
       "      <td>1</td>\n",
       "      <td>41.0</td>\n",
       "      <td>49600.0</td>\n",
       "      <td>1</td>\n",
       "      <td>0</td>\n",
       "    </tr>\n",
       "    <tr>\n",
       "      <th>1</th>\n",
       "      <td>0</td>\n",
       "      <td>46.0</td>\n",
       "      <td>38000.0</td>\n",
       "      <td>1</td>\n",
       "      <td>1</td>\n",
       "    </tr>\n",
       "    <tr>\n",
       "      <th>2</th>\n",
       "      <td>0</td>\n",
       "      <td>29.0</td>\n",
       "      <td>21000.0</td>\n",
       "      <td>0</td>\n",
       "      <td>0</td>\n",
       "    </tr>\n",
       "    <tr>\n",
       "      <th>3</th>\n",
       "      <td>0</td>\n",
       "      <td>21.0</td>\n",
       "      <td>41700.0</td>\n",
       "      <td>2</td>\n",
       "      <td>0</td>\n",
       "    </tr>\n",
       "    <tr>\n",
       "      <th>4</th>\n",
       "      <td>1</td>\n",
       "      <td>28.0</td>\n",
       "      <td>26100.0</td>\n",
       "      <td>0</td>\n",
       "      <td>0</td>\n",
       "    </tr>\n",
       "  </tbody>\n",
       "</table>\n",
       "</div>"
      ],
      "text/plain": [
       "   Пол  Возраст  Зарплата  Члены семьи  Страховые выплаты\n",
       "0    1     41.0   49600.0            1                  0\n",
       "1    0     46.0   38000.0            1                  1\n",
       "2    0     29.0   21000.0            0                  0\n",
       "3    0     21.0   41700.0            2                  0\n",
       "4    1     28.0   26100.0            0                  0"
      ]
     },
     "execution_count": 3,
     "metadata": {},
     "output_type": "execute_result"
    }
   ],
   "source": [
    "data.head()"
   ]
  },
  {
   "cell_type": "code",
   "execution_count": 4,
   "metadata": {},
   "outputs": [
    {
     "data": {
      "text/plain": [
       "Пол                  0\n",
       "Возраст              0\n",
       "Зарплата             0\n",
       "Члены семьи          0\n",
       "Страховые выплаты    0\n",
       "dtype: int64"
      ]
     },
     "execution_count": 4,
     "metadata": {},
     "output_type": "execute_result"
    }
   ],
   "source": [
    "data.isna().sum()"
   ]
  },
  {
   "cell_type": "code",
   "execution_count": 5,
   "metadata": {},
   "outputs": [
    {
     "name": "stdout",
     "output_type": "stream",
     "text": [
      "<class 'pandas.core.frame.DataFrame'>\n",
      "RangeIndex: 5000 entries, 0 to 4999\n",
      "Data columns (total 5 columns):\n",
      " #   Column             Non-Null Count  Dtype  \n",
      "---  ------             --------------  -----  \n",
      " 0   Пол                5000 non-null   int64  \n",
      " 1   Возраст            5000 non-null   float64\n",
      " 2   Зарплата           5000 non-null   float64\n",
      " 3   Члены семьи        5000 non-null   int64  \n",
      " 4   Страховые выплаты  5000 non-null   int64  \n",
      "dtypes: float64(2), int64(3)\n",
      "memory usage: 195.4 KB\n"
     ]
    }
   ],
   "source": [
    "data.info()"
   ]
  },
  {
   "cell_type": "markdown",
   "metadata": {},
   "source": [
    "После загрузки данных установлено отсутствие пропусков, что означает, что можно продолжать работу с данными."
   ]
  },
  {
   "cell_type": "markdown",
   "metadata": {},
   "source": [
    "## Умножение матриц"
   ]
  },
  {
   "cell_type": "markdown",
   "metadata": {},
   "source": [
    "Обозначения:\n",
    "\n",
    "- $X$ — матрица признаков (нулевой столбец состоит из единиц)\n",
    "\n",
    "- $y$ — вектор целевого признака\n",
    "\n",
    "- $P$ — матрица, на которую умножаются признаки\n",
    "\n",
    "- $w$ — вектор весов линейной регрессии (нулевой элемент равен сдвигу)"
   ]
  },
  {
   "cell_type": "markdown",
   "metadata": {},
   "source": [
    "Предсказания:\n",
    "\n",
    "$$\n",
    "a = Xw\n",
    "$$\n",
    "\n",
    "Задача обучения:\n",
    "\n",
    "$$\n",
    "w = \\arg\\min_w MSE(Xw, y)\n",
    "$$\n",
    "\n",
    "Формула обучения:\n",
    "\n",
    "$$\n",
    "w = (X^T X)^{-1} X^T y\n",
    "$$"
   ]
  },
  {
   "cell_type": "markdown",
   "metadata": {},
   "source": [
    "**Ответ:** b. Не изменится.\n",
    "\n",
    "**Обоснование:** $$\n",
    "w' = ((XP)^T XP)^{-1} (XP)^T y = (P^T X^T X P)^{-1} (XP)^T y = (P^T (X^T X) P)^{-1} P^T X^T y = P^{-1} (X^T X)^{-1} (P^T)^{-1} P^T X^T y=P^{-1}w\n",
    "$$\n",
    "$$\n",
    "a' = X\\cdot P\\cdot w' = X\\cdot P\\cdot P^{-1}w = X\\cdot w\n",
    "$$\n",
    "$$\n",
    "a' = a\n",
    "$$"
   ]
  },
  {
   "cell_type": "markdown",
   "metadata": {},
   "source": [
    "Эти выражения идентичны друг другу, и векторы, которые были использованы для предсказания, совпадают."
   ]
  },
  {
   "cell_type": "markdown",
   "metadata": {},
   "source": [
    "Параметры линейной регрессии в исходной задаче и в преобразованной связаны следующим образом:\n",
    "$$\n",
    "w_P = w P^{-1}\n",
    "$$\n",
    "где $w$ - вектор весов линейной регрессии в исходной задаче, $w_P$ - вектор весов линейной регрессии в преобразованной задаче, а $P$ - матрица, на которую умножаются признаки.\n",
    "\n",
    "Это соотношение можно получить из формулы для вычисления вектора весов $w$:\n",
    "$$\n",
    "w = (X^T X)^{-1} X^T y\n",
    "$$\n",
    "\n",
    "Если вместо матрицы признаков $X$ использовать преобразованную матрицу признаков $XP$, то формула для вектора весов будет выглядеть следующим образом:\n",
    "\n",
    "$$\n",
    "w_P = ((XP)^T XP)^{-1} (XP)^T y\n",
    "$$\n",
    "\n",
    "Подставляя $XP = X P$, получаем:\n",
    "\n",
    "$$\n",
    "w_P = (P^T X^T XP)^{-1} P^T X^T y\n",
    "$$\n",
    "\n",
    "Используя свойство обратной матрицы ($A A^{-1} = A^{-1} A = I$), можно преобразовать выражение:\n",
    "\n",
    "$$\n",
    "w_P = P^{-1}( X^T X)^{-1} X^T y = wP^{-1}\n",
    "$$\n",
    "\n",
    "Таким образом, параметры линейной регрессии в исходной задаче и в преобразованной связаны матрицей преобразования признаков $P$ и умножением вектора весов линейной регрессии $w$ на обратную матрицу $P^{-1}$."
   ]
  },
  {
   "cell_type": "markdown",
   "metadata": {},
   "source": [
    "## Алгоритм преобразования"
   ]
  },
  {
   "cell_type": "markdown",
   "metadata": {},
   "source": [
    "**Алгоритм**\n",
    "\n",
    "Сначала будет выполнен следующий набор действий: изначально отделим целевой признак, затем произведем разбиение выборки и обучим модель на первоначальных данных. Затем оценим метрику R2.\n",
    "\n",
    "Далее перейдем к следующему этапу, который будет состоять в создании случайной матрицы и ее инвертировании. После этого умножим матрицу с данными признаков на случайную матрицу. Затем отделим целевой признак, разобьем выборки и обучим модель, а затем оценим метрику R2.\n",
    "\n",
    "Наконец, сравним показатель R2, полученный после выполнения первого набора действий, с показателем R2, полученным после выполнения второго набора действий."
   ]
  },
  {
   "cell_type": "markdown",
   "metadata": {},
   "source": [
    "**Обоснование**\n",
    "\n",
    "При умножении матриц мы комбинируем несколько наборов данных и записываем результат в новую матрицу, однако вес каждого вектора останется таким же, как и в изначальном наборе."
   ]
  },
  {
   "cell_type": "markdown",
   "metadata": {},
   "source": [
    "## Проверка алгоритма"
   ]
  },
  {
   "cell_type": "markdown",
   "metadata": {},
   "source": [
    "Реализация до"
   ]
  },
  {
   "cell_type": "code",
   "execution_count": 6,
   "metadata": {},
   "outputs": [],
   "source": [
    "features = data.drop('Страховые выплаты',axis=1)\n",
    "target = data['Страховые выплаты']"
   ]
  },
  {
   "cell_type": "code",
   "execution_count": 7,
   "metadata": {},
   "outputs": [],
   "source": [
    "features_train, features_test, target_train, target_test = train_test_split(features, target, test_size=0.4, random_state=12345)\n",
    "model = LinearRegression()\n",
    "model = model.fit(features_train, target_train)\n",
    "predictions = model.predict(features_test)"
   ]
  },
  {
   "cell_type": "code",
   "execution_count": 8,
   "metadata": {},
   "outputs": [
    {
     "data": {
      "text/plain": [
       "0.42375177725680335"
      ]
     },
     "execution_count": 8,
     "metadata": {},
     "output_type": "execute_result"
    }
   ],
   "source": [
    "r2_score(target_test, predictions)"
   ]
  },
  {
   "cell_type": "markdown",
   "metadata": {},
   "source": [
    "Реализация после"
   ]
  },
  {
   "cell_type": "code",
   "execution_count": 9,
   "metadata": {},
   "outputs": [],
   "source": [
    "matrix = np.random.rand(4,4)\n",
    "matrix_inverse = np.linalg.inv(matrix)"
   ]
  },
  {
   "cell_type": "code",
   "execution_count": 10,
   "metadata": {},
   "outputs": [
    {
     "data": {
      "text/plain": [
       "array([[ 1.00000000e+00, -2.12830153e-16,  7.95069816e-16,\n",
       "         5.27647712e-16],\n",
       "       [ 1.59213100e-17,  1.00000000e+00,  1.05951695e-15,\n",
       "        -7.63272459e-16],\n",
       "       [-6.60869460e-18, -1.28550517e-17,  1.00000000e+00,\n",
       "         3.79463140e-16],\n",
       "       [ 8.48466867e-17,  1.01586161e-17,  4.34445970e-16,\n",
       "         1.00000000e+00]])"
      ]
     },
     "execution_count": 10,
     "metadata": {},
     "output_type": "execute_result"
    }
   ],
   "source": [
    "matrix @ matrix_inverse"
   ]
  },
  {
   "cell_type": "code",
   "execution_count": 11,
   "metadata": {},
   "outputs": [],
   "source": [
    "tests = features.values @ matrix"
   ]
  },
  {
   "cell_type": "code",
   "execution_count": 12,
   "metadata": {},
   "outputs": [],
   "source": [
    "tests_train, tests_test, target_train, target_test = train_test_split(tests, target, test_size=0.4, random_state=12345)\n",
    "model1 = LinearRegression()\n",
    "model1 = model1.fit(tests_train, target_train)\n",
    "predictions1 = model1.predict(tests_test)"
   ]
  },
  {
   "cell_type": "code",
   "execution_count": 13,
   "metadata": {},
   "outputs": [
    {
     "data": {
      "text/plain": [
       "0.42375177725689706"
      ]
     },
     "execution_count": 13,
     "metadata": {},
     "output_type": "execute_result"
    }
   ],
   "source": [
    "r2_score(target_test, predictions1)"
   ]
  },
  {
   "cell_type": "markdown",
   "metadata": {},
   "source": [
    "Метрика R2 осталась практически неизменной"
   ]
  },
  {
   "cell_type": "markdown",
   "metadata": {},
   "source": [
    "**Общий вывод**"
   ]
  },
  {
   "cell_type": "markdown",
   "metadata": {},
   "source": [
    "Были рассмотрены данные, не содержащие пропусков, аномалий и других отклонений, которые могли бы помешать дальнейшей работе. Мы установили, что если признаки умножаются на обратимую матрицу, то метрика R2 не изменится. Был разработан алгоритм, который включал сравнение метрики R2 до и после преобразования. Практическое применение этого алгоритма доказало, что метрика R2 остается неизменной при умножении признаков на обратимую матрицу."
   ]
  },
  {
   "cell_type": "code",
   "execution_count": null,
   "metadata": {},
   "outputs": [],
   "source": []
  }
 ],
 "metadata": {
  "ExecuteTimeLog": [
   {
    "duration": 1135,
    "start_time": "2023-05-10T15:51:41.674Z"
   },
   {
    "duration": 105,
    "start_time": "2023-05-10T15:51:42.811Z"
   },
   {
    "duration": 17,
    "start_time": "2023-05-10T15:51:42.918Z"
   },
   {
    "duration": 29,
    "start_time": "2023-05-10T15:51:42.937Z"
   },
   {
    "duration": 15,
    "start_time": "2023-05-10T15:51:42.968Z"
   },
   {
    "duration": 6,
    "start_time": "2023-05-10T15:51:42.985Z"
   },
   {
    "duration": 14,
    "start_time": "2023-05-10T15:51:42.993Z"
   },
   {
    "duration": 7,
    "start_time": "2023-05-10T15:51:43.009Z"
   },
   {
    "duration": 21,
    "start_time": "2023-05-10T15:51:43.017Z"
   },
   {
    "duration": 145,
    "start_time": "2023-05-10T15:51:43.041Z"
   },
   {
    "duration": 6,
    "start_time": "2023-05-10T15:51:43.188Z"
   },
   {
    "duration": 8,
    "start_time": "2023-05-10T15:51:43.196Z"
   },
   {
    "duration": 6,
    "start_time": "2023-05-10T15:51:43.206Z"
   },
   {
    "duration": 2498,
    "start_time": "2023-05-11T11:18:21.172Z"
   },
   {
    "duration": 24,
    "start_time": "2023-05-11T11:18:23.672Z"
   },
   {
    "duration": 17,
    "start_time": "2023-05-11T11:18:23.697Z"
   },
   {
    "duration": 6,
    "start_time": "2023-05-11T11:18:23.715Z"
   },
   {
    "duration": 24,
    "start_time": "2023-05-11T11:18:23.723Z"
   },
   {
    "duration": 3,
    "start_time": "2023-05-11T11:18:23.749Z"
   },
   {
    "duration": 12,
    "start_time": "2023-05-11T11:18:23.754Z"
   },
   {
    "duration": 4,
    "start_time": "2023-05-11T11:18:23.768Z"
   },
   {
    "duration": 28,
    "start_time": "2023-05-11T11:18:23.773Z"
   },
   {
    "duration": 10,
    "start_time": "2023-05-11T11:18:23.803Z"
   },
   {
    "duration": 42,
    "start_time": "2023-05-11T11:18:23.815Z"
   },
   {
    "duration": 10,
    "start_time": "2023-05-11T11:18:23.860Z"
   },
   {
    "duration": 88,
    "start_time": "2023-05-11T11:18:23.871Z"
   }
  ],
  "kernelspec": {
   "display_name": "Python 3 (ipykernel)",
   "language": "python",
   "name": "python3"
  },
  "language_info": {
   "codemirror_mode": {
    "name": "ipython",
    "version": 3
   },
   "file_extension": ".py",
   "mimetype": "text/x-python",
   "name": "python",
   "nbconvert_exporter": "python",
   "pygments_lexer": "ipython3",
   "version": "3.10.9"
  },
  "toc": {
   "base_numbering": 1,
   "nav_menu": {},
   "number_sections": true,
   "sideBar": true,
   "skip_h1_title": true,
   "title_cell": "Содержание",
   "title_sidebar": "Contents",
   "toc_cell": true,
   "toc_position": {},
   "toc_section_display": true,
   "toc_window_display": false
  }
 },
 "nbformat": 4,
 "nbformat_minor": 2
}
