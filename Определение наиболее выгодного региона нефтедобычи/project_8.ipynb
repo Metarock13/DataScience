{
 "cells": [
  {
   "cell_type": "markdown",
   "metadata": {},
   "source": [
    "# Выбор локации для скважины"
   ]
  },
  {
   "cell_type": "markdown",
   "metadata": {},
   "source": [
    "Допустим, вы работаете в добывающей компании «ГлавРосГосНефть». Нужно решить, где бурить новую скважину.\n",
    "\n",
    "Вам предоставлены пробы нефти в трёх регионах: в каждом 10 000 месторождений, где измерили качество нефти и объём её запасов. Постройте модель машинного обучения, которая поможет определить регион, где добыча принесёт наибольшую прибыль. Проанализируйте возможную прибыль и риски техникой *Bootstrap.*\n",
    "\n",
    "Шаги для выбора локации:\n",
    "\n",
    "- В избранном регионе ищут месторождения, для каждого определяют значения признаков;\n",
    "- Строят модель и оценивают объём запасов;\n",
    "- Выбирают месторождения с самым высокими оценками значений. Количество месторождений зависит от бюджета компании и стоимости разработки одной скважины;\n",
    "- Прибыль равна суммарной прибыли отобранных месторождений."
   ]
  },
  {
   "cell_type": "markdown",
   "metadata": {},
   "source": [
    "## Загрузка и подготовка данных"
   ]
  },
  {
   "cell_type": "code",
   "execution_count": 1,
   "metadata": {},
   "outputs": [],
   "source": [
    "import pandas as pd\n",
    "import numpy as np\n",
    "from scipy import stats as st\n",
    "\n",
    "from sklearn.model_selection import train_test_split\n",
    "from sklearn.preprocessing import StandardScaler\n",
    "from sklearn.linear_model import LinearRegression\n",
    "from sklearn.metrics import mean_squared_error\n",
    "import warnings"
   ]
  },
  {
   "cell_type": "code",
   "execution_count": 2,
   "metadata": {},
   "outputs": [],
   "source": [
    "warnings.filterwarnings('ignore')"
   ]
  },
  {
   "cell_type": "code",
   "execution_count": 3,
   "metadata": {},
   "outputs": [],
   "source": [
    "data0 = pd.read_csv('/datasets/geo_data_0.csv')\n",
    "data1 = pd.read_csv('/datasets/geo_data_1.csv')\n",
    "data2 = pd.read_csv('/datasets/geo_data_2.csv')"
   ]
  },
  {
   "cell_type": "markdown",
   "metadata": {},
   "source": [
    "Давайте рассмотрим исходные данные внимательнее"
   ]
  },
  {
   "cell_type": "code",
   "execution_count": 4,
   "metadata": {},
   "outputs": [
    {
     "data": {
      "text/html": [
       "<div>\n",
       "<style scoped>\n",
       "    .dataframe tbody tr th:only-of-type {\n",
       "        vertical-align: middle;\n",
       "    }\n",
       "\n",
       "    .dataframe tbody tr th {\n",
       "        vertical-align: top;\n",
       "    }\n",
       "\n",
       "    .dataframe thead th {\n",
       "        text-align: right;\n",
       "    }\n",
       "</style>\n",
       "<table border=\"1\" class=\"dataframe\">\n",
       "  <thead>\n",
       "    <tr style=\"text-align: right;\">\n",
       "      <th></th>\n",
       "      <th>id</th>\n",
       "      <th>f0</th>\n",
       "      <th>f1</th>\n",
       "      <th>f2</th>\n",
       "      <th>product</th>\n",
       "    </tr>\n",
       "  </thead>\n",
       "  <tbody>\n",
       "    <tr>\n",
       "      <th>0</th>\n",
       "      <td>txEyH</td>\n",
       "      <td>0.705745</td>\n",
       "      <td>-0.497823</td>\n",
       "      <td>1.221170</td>\n",
       "      <td>105.280062</td>\n",
       "    </tr>\n",
       "    <tr>\n",
       "      <th>1</th>\n",
       "      <td>2acmU</td>\n",
       "      <td>1.334711</td>\n",
       "      <td>-0.340164</td>\n",
       "      <td>4.365080</td>\n",
       "      <td>73.037750</td>\n",
       "    </tr>\n",
       "    <tr>\n",
       "      <th>2</th>\n",
       "      <td>409Wp</td>\n",
       "      <td>1.022732</td>\n",
       "      <td>0.151990</td>\n",
       "      <td>1.419926</td>\n",
       "      <td>85.265647</td>\n",
       "    </tr>\n",
       "    <tr>\n",
       "      <th>3</th>\n",
       "      <td>iJLyR</td>\n",
       "      <td>-0.032172</td>\n",
       "      <td>0.139033</td>\n",
       "      <td>2.978566</td>\n",
       "      <td>168.620776</td>\n",
       "    </tr>\n",
       "    <tr>\n",
       "      <th>4</th>\n",
       "      <td>Xdl7t</td>\n",
       "      <td>1.988431</td>\n",
       "      <td>0.155413</td>\n",
       "      <td>4.751769</td>\n",
       "      <td>154.036647</td>\n",
       "    </tr>\n",
       "  </tbody>\n",
       "</table>\n",
       "</div>"
      ],
      "text/plain": [
       "      id        f0        f1        f2     product\n",
       "0  txEyH  0.705745 -0.497823  1.221170  105.280062\n",
       "1  2acmU  1.334711 -0.340164  4.365080   73.037750\n",
       "2  409Wp  1.022732  0.151990  1.419926   85.265647\n",
       "3  iJLyR -0.032172  0.139033  2.978566  168.620776\n",
       "4  Xdl7t  1.988431  0.155413  4.751769  154.036647"
      ]
     },
     "execution_count": 4,
     "metadata": {},
     "output_type": "execute_result"
    }
   ],
   "source": [
    "data0.head()"
   ]
  },
  {
   "cell_type": "code",
   "execution_count": 5,
   "metadata": {},
   "outputs": [
    {
     "data": {
      "text/html": [
       "<div>\n",
       "<style scoped>\n",
       "    .dataframe tbody tr th:only-of-type {\n",
       "        vertical-align: middle;\n",
       "    }\n",
       "\n",
       "    .dataframe tbody tr th {\n",
       "        vertical-align: top;\n",
       "    }\n",
       "\n",
       "    .dataframe thead th {\n",
       "        text-align: right;\n",
       "    }\n",
       "</style>\n",
       "<table border=\"1\" class=\"dataframe\">\n",
       "  <thead>\n",
       "    <tr style=\"text-align: right;\">\n",
       "      <th></th>\n",
       "      <th>id</th>\n",
       "      <th>f0</th>\n",
       "      <th>f1</th>\n",
       "      <th>f2</th>\n",
       "      <th>product</th>\n",
       "    </tr>\n",
       "  </thead>\n",
       "  <tbody>\n",
       "    <tr>\n",
       "      <th>0</th>\n",
       "      <td>kBEdx</td>\n",
       "      <td>-15.001348</td>\n",
       "      <td>-8.276000</td>\n",
       "      <td>-0.005876</td>\n",
       "      <td>3.179103</td>\n",
       "    </tr>\n",
       "    <tr>\n",
       "      <th>1</th>\n",
       "      <td>62mP7</td>\n",
       "      <td>14.272088</td>\n",
       "      <td>-3.475083</td>\n",
       "      <td>0.999183</td>\n",
       "      <td>26.953261</td>\n",
       "    </tr>\n",
       "    <tr>\n",
       "      <th>2</th>\n",
       "      <td>vyE1P</td>\n",
       "      <td>6.263187</td>\n",
       "      <td>-5.948386</td>\n",
       "      <td>5.001160</td>\n",
       "      <td>134.766305</td>\n",
       "    </tr>\n",
       "    <tr>\n",
       "      <th>3</th>\n",
       "      <td>KcrkZ</td>\n",
       "      <td>-13.081196</td>\n",
       "      <td>-11.506057</td>\n",
       "      <td>4.999415</td>\n",
       "      <td>137.945408</td>\n",
       "    </tr>\n",
       "    <tr>\n",
       "      <th>4</th>\n",
       "      <td>AHL4O</td>\n",
       "      <td>12.702195</td>\n",
       "      <td>-8.147433</td>\n",
       "      <td>5.004363</td>\n",
       "      <td>134.766305</td>\n",
       "    </tr>\n",
       "  </tbody>\n",
       "</table>\n",
       "</div>"
      ],
      "text/plain": [
       "      id         f0         f1        f2     product\n",
       "0  kBEdx -15.001348  -8.276000 -0.005876    3.179103\n",
       "1  62mP7  14.272088  -3.475083  0.999183   26.953261\n",
       "2  vyE1P   6.263187  -5.948386  5.001160  134.766305\n",
       "3  KcrkZ -13.081196 -11.506057  4.999415  137.945408\n",
       "4  AHL4O  12.702195  -8.147433  5.004363  134.766305"
      ]
     },
     "execution_count": 5,
     "metadata": {},
     "output_type": "execute_result"
    }
   ],
   "source": [
    "data1.head()"
   ]
  },
  {
   "cell_type": "code",
   "execution_count": 6,
   "metadata": {},
   "outputs": [
    {
     "data": {
      "text/html": [
       "<div>\n",
       "<style scoped>\n",
       "    .dataframe tbody tr th:only-of-type {\n",
       "        vertical-align: middle;\n",
       "    }\n",
       "\n",
       "    .dataframe tbody tr th {\n",
       "        vertical-align: top;\n",
       "    }\n",
       "\n",
       "    .dataframe thead th {\n",
       "        text-align: right;\n",
       "    }\n",
       "</style>\n",
       "<table border=\"1\" class=\"dataframe\">\n",
       "  <thead>\n",
       "    <tr style=\"text-align: right;\">\n",
       "      <th></th>\n",
       "      <th>id</th>\n",
       "      <th>f0</th>\n",
       "      <th>f1</th>\n",
       "      <th>f2</th>\n",
       "      <th>product</th>\n",
       "    </tr>\n",
       "  </thead>\n",
       "  <tbody>\n",
       "    <tr>\n",
       "      <th>0</th>\n",
       "      <td>fwXo0</td>\n",
       "      <td>-1.146987</td>\n",
       "      <td>0.963328</td>\n",
       "      <td>-0.828965</td>\n",
       "      <td>27.758673</td>\n",
       "    </tr>\n",
       "    <tr>\n",
       "      <th>1</th>\n",
       "      <td>WJtFt</td>\n",
       "      <td>0.262778</td>\n",
       "      <td>0.269839</td>\n",
       "      <td>-2.530187</td>\n",
       "      <td>56.069697</td>\n",
       "    </tr>\n",
       "    <tr>\n",
       "      <th>2</th>\n",
       "      <td>ovLUW</td>\n",
       "      <td>0.194587</td>\n",
       "      <td>0.289035</td>\n",
       "      <td>-5.586433</td>\n",
       "      <td>62.871910</td>\n",
       "    </tr>\n",
       "    <tr>\n",
       "      <th>3</th>\n",
       "      <td>q6cA6</td>\n",
       "      <td>2.236060</td>\n",
       "      <td>-0.553760</td>\n",
       "      <td>0.930038</td>\n",
       "      <td>114.572842</td>\n",
       "    </tr>\n",
       "    <tr>\n",
       "      <th>4</th>\n",
       "      <td>WPMUX</td>\n",
       "      <td>-0.515993</td>\n",
       "      <td>1.716266</td>\n",
       "      <td>5.899011</td>\n",
       "      <td>149.600746</td>\n",
       "    </tr>\n",
       "  </tbody>\n",
       "</table>\n",
       "</div>"
      ],
      "text/plain": [
       "      id        f0        f1        f2     product\n",
       "0  fwXo0 -1.146987  0.963328 -0.828965   27.758673\n",
       "1  WJtFt  0.262778  0.269839 -2.530187   56.069697\n",
       "2  ovLUW  0.194587  0.289035 -5.586433   62.871910\n",
       "3  q6cA6  2.236060 -0.553760  0.930038  114.572842\n",
       "4  WPMUX -0.515993  1.716266  5.899011  149.600746"
      ]
     },
     "execution_count": 6,
     "metadata": {},
     "output_type": "execute_result"
    }
   ],
   "source": [
    "data2.head()"
   ]
  },
  {
   "cell_type": "markdown",
   "metadata": {},
   "source": [
    "Давайте осуществим проверку на наличие дубликатов"
   ]
  },
  {
   "cell_type": "code",
   "execution_count": 7,
   "metadata": {},
   "outputs": [
    {
     "data": {
      "text/html": [
       "<div>\n",
       "<style scoped>\n",
       "    .dataframe tbody tr th:only-of-type {\n",
       "        vertical-align: middle;\n",
       "    }\n",
       "\n",
       "    .dataframe tbody tr th {\n",
       "        vertical-align: top;\n",
       "    }\n",
       "\n",
       "    .dataframe thead th {\n",
       "        text-align: right;\n",
       "    }\n",
       "</style>\n",
       "<table border=\"1\" class=\"dataframe\">\n",
       "  <thead>\n",
       "    <tr style=\"text-align: right;\">\n",
       "      <th></th>\n",
       "      <th>id</th>\n",
       "      <th>f0</th>\n",
       "      <th>f1</th>\n",
       "      <th>f2</th>\n",
       "      <th>product</th>\n",
       "    </tr>\n",
       "  </thead>\n",
       "  <tbody>\n",
       "  </tbody>\n",
       "</table>\n",
       "</div>"
      ],
      "text/plain": [
       "Empty DataFrame\n",
       "Columns: [id, f0, f1, f2, product]\n",
       "Index: []"
      ]
     },
     "execution_count": 7,
     "metadata": {},
     "output_type": "execute_result"
    }
   ],
   "source": [
    "data0[data0.duplicated()]"
   ]
  },
  {
   "cell_type": "code",
   "execution_count": 8,
   "metadata": {},
   "outputs": [
    {
     "data": {
      "text/html": [
       "<div>\n",
       "<style scoped>\n",
       "    .dataframe tbody tr th:only-of-type {\n",
       "        vertical-align: middle;\n",
       "    }\n",
       "\n",
       "    .dataframe tbody tr th {\n",
       "        vertical-align: top;\n",
       "    }\n",
       "\n",
       "    .dataframe thead th {\n",
       "        text-align: right;\n",
       "    }\n",
       "</style>\n",
       "<table border=\"1\" class=\"dataframe\">\n",
       "  <thead>\n",
       "    <tr style=\"text-align: right;\">\n",
       "      <th></th>\n",
       "      <th>id</th>\n",
       "      <th>f0</th>\n",
       "      <th>f1</th>\n",
       "      <th>f2</th>\n",
       "      <th>product</th>\n",
       "    </tr>\n",
       "  </thead>\n",
       "  <tbody>\n",
       "  </tbody>\n",
       "</table>\n",
       "</div>"
      ],
      "text/plain": [
       "Empty DataFrame\n",
       "Columns: [id, f0, f1, f2, product]\n",
       "Index: []"
      ]
     },
     "execution_count": 8,
     "metadata": {},
     "output_type": "execute_result"
    }
   ],
   "source": [
    "data1[data1.duplicated()]"
   ]
  },
  {
   "cell_type": "code",
   "execution_count": 9,
   "metadata": {},
   "outputs": [
    {
     "data": {
      "text/html": [
       "<div>\n",
       "<style scoped>\n",
       "    .dataframe tbody tr th:only-of-type {\n",
       "        vertical-align: middle;\n",
       "    }\n",
       "\n",
       "    .dataframe tbody tr th {\n",
       "        vertical-align: top;\n",
       "    }\n",
       "\n",
       "    .dataframe thead th {\n",
       "        text-align: right;\n",
       "    }\n",
       "</style>\n",
       "<table border=\"1\" class=\"dataframe\">\n",
       "  <thead>\n",
       "    <tr style=\"text-align: right;\">\n",
       "      <th></th>\n",
       "      <th>id</th>\n",
       "      <th>f0</th>\n",
       "      <th>f1</th>\n",
       "      <th>f2</th>\n",
       "      <th>product</th>\n",
       "    </tr>\n",
       "  </thead>\n",
       "  <tbody>\n",
       "  </tbody>\n",
       "</table>\n",
       "</div>"
      ],
      "text/plain": [
       "Empty DataFrame\n",
       "Columns: [id, f0, f1, f2, product]\n",
       "Index: []"
      ]
     },
     "execution_count": 9,
     "metadata": {},
     "output_type": "execute_result"
    }
   ],
   "source": [
    "data2[data2.duplicated()]"
   ]
  },
  {
   "cell_type": "markdown",
   "metadata": {},
   "source": [
    "Осуществим проверку на наличие дубликатов отдельно по столбцу id"
   ]
  },
  {
   "cell_type": "code",
   "execution_count": 10,
   "metadata": {},
   "outputs": [
    {
     "data": {
      "text/html": [
       "<div>\n",
       "<style scoped>\n",
       "    .dataframe tbody tr th:only-of-type {\n",
       "        vertical-align: middle;\n",
       "    }\n",
       "\n",
       "    .dataframe tbody tr th {\n",
       "        vertical-align: top;\n",
       "    }\n",
       "\n",
       "    .dataframe thead th {\n",
       "        text-align: right;\n",
       "    }\n",
       "</style>\n",
       "<table border=\"1\" class=\"dataframe\">\n",
       "  <thead>\n",
       "    <tr style=\"text-align: right;\">\n",
       "      <th></th>\n",
       "      <th>id</th>\n",
       "      <th>f0</th>\n",
       "      <th>f1</th>\n",
       "      <th>f2</th>\n",
       "      <th>product</th>\n",
       "    </tr>\n",
       "  </thead>\n",
       "  <tbody>\n",
       "    <tr>\n",
       "      <th>7530</th>\n",
       "      <td>HZww2</td>\n",
       "      <td>1.061194</td>\n",
       "      <td>-0.373969</td>\n",
       "      <td>10.430210</td>\n",
       "      <td>158.828695</td>\n",
       "    </tr>\n",
       "    <tr>\n",
       "      <th>41724</th>\n",
       "      <td>bxg6G</td>\n",
       "      <td>-0.823752</td>\n",
       "      <td>0.546319</td>\n",
       "      <td>3.630479</td>\n",
       "      <td>93.007798</td>\n",
       "    </tr>\n",
       "    <tr>\n",
       "      <th>51970</th>\n",
       "      <td>A5aEY</td>\n",
       "      <td>-0.180335</td>\n",
       "      <td>0.935548</td>\n",
       "      <td>-2.094773</td>\n",
       "      <td>33.020205</td>\n",
       "    </tr>\n",
       "    <tr>\n",
       "      <th>63593</th>\n",
       "      <td>QcMuo</td>\n",
       "      <td>0.635635</td>\n",
       "      <td>-0.473422</td>\n",
       "      <td>0.862670</td>\n",
       "      <td>64.578675</td>\n",
       "    </tr>\n",
       "    <tr>\n",
       "      <th>66136</th>\n",
       "      <td>74z30</td>\n",
       "      <td>1.084962</td>\n",
       "      <td>-0.312358</td>\n",
       "      <td>6.990771</td>\n",
       "      <td>127.643327</td>\n",
       "    </tr>\n",
       "    <tr>\n",
       "      <th>69163</th>\n",
       "      <td>AGS9W</td>\n",
       "      <td>-0.933795</td>\n",
       "      <td>0.116194</td>\n",
       "      <td>-3.655896</td>\n",
       "      <td>19.230453</td>\n",
       "    </tr>\n",
       "    <tr>\n",
       "      <th>75715</th>\n",
       "      <td>Tdehs</td>\n",
       "      <td>0.112079</td>\n",
       "      <td>0.430296</td>\n",
       "      <td>3.218993</td>\n",
       "      <td>60.964018</td>\n",
       "    </tr>\n",
       "    <tr>\n",
       "      <th>90815</th>\n",
       "      <td>fiKDv</td>\n",
       "      <td>0.049883</td>\n",
       "      <td>0.841313</td>\n",
       "      <td>6.394613</td>\n",
       "      <td>137.346586</td>\n",
       "    </tr>\n",
       "    <tr>\n",
       "      <th>92341</th>\n",
       "      <td>TtcGQ</td>\n",
       "      <td>0.110711</td>\n",
       "      <td>1.022689</td>\n",
       "      <td>0.911381</td>\n",
       "      <td>101.318008</td>\n",
       "    </tr>\n",
       "    <tr>\n",
       "      <th>97785</th>\n",
       "      <td>bsk9y</td>\n",
       "      <td>0.378429</td>\n",
       "      <td>0.005837</td>\n",
       "      <td>0.160827</td>\n",
       "      <td>160.637302</td>\n",
       "    </tr>\n",
       "  </tbody>\n",
       "</table>\n",
       "</div>"
      ],
      "text/plain": [
       "          id        f0        f1         f2     product\n",
       "7530   HZww2  1.061194 -0.373969  10.430210  158.828695\n",
       "41724  bxg6G -0.823752  0.546319   3.630479   93.007798\n",
       "51970  A5aEY -0.180335  0.935548  -2.094773   33.020205\n",
       "63593  QcMuo  0.635635 -0.473422   0.862670   64.578675\n",
       "66136  74z30  1.084962 -0.312358   6.990771  127.643327\n",
       "69163  AGS9W -0.933795  0.116194  -3.655896   19.230453\n",
       "75715  Tdehs  0.112079  0.430296   3.218993   60.964018\n",
       "90815  fiKDv  0.049883  0.841313   6.394613  137.346586\n",
       "92341  TtcGQ  0.110711  1.022689   0.911381  101.318008\n",
       "97785  bsk9y  0.378429  0.005837   0.160827  160.637302"
      ]
     },
     "execution_count": 10,
     "metadata": {},
     "output_type": "execute_result"
    }
   ],
   "source": [
    "data0[data0.duplicated(subset = ['id'])]"
   ]
  },
  {
   "cell_type": "code",
   "execution_count": 11,
   "metadata": {},
   "outputs": [
    {
     "data": {
      "text/html": [
       "<div>\n",
       "<style scoped>\n",
       "    .dataframe tbody tr th:only-of-type {\n",
       "        vertical-align: middle;\n",
       "    }\n",
       "\n",
       "    .dataframe tbody tr th {\n",
       "        vertical-align: top;\n",
       "    }\n",
       "\n",
       "    .dataframe thead th {\n",
       "        text-align: right;\n",
       "    }\n",
       "</style>\n",
       "<table border=\"1\" class=\"dataframe\">\n",
       "  <thead>\n",
       "    <tr style=\"text-align: right;\">\n",
       "      <th></th>\n",
       "      <th>id</th>\n",
       "      <th>f0</th>\n",
       "      <th>f1</th>\n",
       "      <th>f2</th>\n",
       "      <th>product</th>\n",
       "    </tr>\n",
       "  </thead>\n",
       "  <tbody>\n",
       "    <tr>\n",
       "      <th>41906</th>\n",
       "      <td>LHZR0</td>\n",
       "      <td>-8.989672</td>\n",
       "      <td>-4.286607</td>\n",
       "      <td>2.009139</td>\n",
       "      <td>57.085625</td>\n",
       "    </tr>\n",
       "    <tr>\n",
       "      <th>82178</th>\n",
       "      <td>bfPNe</td>\n",
       "      <td>-6.202799</td>\n",
       "      <td>-4.820045</td>\n",
       "      <td>2.995107</td>\n",
       "      <td>84.038886</td>\n",
       "    </tr>\n",
       "    <tr>\n",
       "      <th>82873</th>\n",
       "      <td>wt4Uk</td>\n",
       "      <td>10.259972</td>\n",
       "      <td>-9.376355</td>\n",
       "      <td>4.994297</td>\n",
       "      <td>134.766305</td>\n",
       "    </tr>\n",
       "    <tr>\n",
       "      <th>84461</th>\n",
       "      <td>5ltQ6</td>\n",
       "      <td>18.213839</td>\n",
       "      <td>2.191999</td>\n",
       "      <td>3.993869</td>\n",
       "      <td>107.813044</td>\n",
       "    </tr>\n",
       "  </tbody>\n",
       "</table>\n",
       "</div>"
      ],
      "text/plain": [
       "          id         f0        f1        f2     product\n",
       "41906  LHZR0  -8.989672 -4.286607  2.009139   57.085625\n",
       "82178  bfPNe  -6.202799 -4.820045  2.995107   84.038886\n",
       "82873  wt4Uk  10.259972 -9.376355  4.994297  134.766305\n",
       "84461  5ltQ6  18.213839  2.191999  3.993869  107.813044"
      ]
     },
     "execution_count": 11,
     "metadata": {},
     "output_type": "execute_result"
    }
   ],
   "source": [
    "data1[data1.duplicated(subset = ['id'])]"
   ]
  },
  {
   "cell_type": "code",
   "execution_count": 12,
   "metadata": {},
   "outputs": [
    {
     "data": {
      "text/html": [
       "<div>\n",
       "<style scoped>\n",
       "    .dataframe tbody tr th:only-of-type {\n",
       "        vertical-align: middle;\n",
       "    }\n",
       "\n",
       "    .dataframe tbody tr th {\n",
       "        vertical-align: top;\n",
       "    }\n",
       "\n",
       "    .dataframe thead th {\n",
       "        text-align: right;\n",
       "    }\n",
       "</style>\n",
       "<table border=\"1\" class=\"dataframe\">\n",
       "  <thead>\n",
       "    <tr style=\"text-align: right;\">\n",
       "      <th></th>\n",
       "      <th>id</th>\n",
       "      <th>f0</th>\n",
       "      <th>f1</th>\n",
       "      <th>f2</th>\n",
       "      <th>product</th>\n",
       "    </tr>\n",
       "  </thead>\n",
       "  <tbody>\n",
       "    <tr>\n",
       "      <th>43233</th>\n",
       "      <td>xCHr8</td>\n",
       "      <td>-0.847066</td>\n",
       "      <td>2.101796</td>\n",
       "      <td>5.597130</td>\n",
       "      <td>184.388641</td>\n",
       "    </tr>\n",
       "    <tr>\n",
       "      <th>49564</th>\n",
       "      <td>VF7Jo</td>\n",
       "      <td>-0.883115</td>\n",
       "      <td>0.560537</td>\n",
       "      <td>0.723601</td>\n",
       "      <td>136.233420</td>\n",
       "    </tr>\n",
       "    <tr>\n",
       "      <th>55967</th>\n",
       "      <td>KUPhW</td>\n",
       "      <td>1.211150</td>\n",
       "      <td>3.176408</td>\n",
       "      <td>5.543540</td>\n",
       "      <td>132.831802</td>\n",
       "    </tr>\n",
       "    <tr>\n",
       "      <th>95090</th>\n",
       "      <td>Vcm5J</td>\n",
       "      <td>2.587702</td>\n",
       "      <td>1.986875</td>\n",
       "      <td>2.482245</td>\n",
       "      <td>92.327572</td>\n",
       "    </tr>\n",
       "  </tbody>\n",
       "</table>\n",
       "</div>"
      ],
      "text/plain": [
       "          id        f0        f1        f2     product\n",
       "43233  xCHr8 -0.847066  2.101796  5.597130  184.388641\n",
       "49564  VF7Jo -0.883115  0.560537  0.723601  136.233420\n",
       "55967  KUPhW  1.211150  3.176408  5.543540  132.831802\n",
       "95090  Vcm5J  2.587702  1.986875  2.482245   92.327572"
      ]
     },
     "execution_count": 12,
     "metadata": {},
     "output_type": "execute_result"
    }
   ],
   "source": [
    "data2[data2.duplicated(subset = ['id'])]"
   ]
  },
  {
   "cell_type": "markdown",
   "metadata": {},
   "source": [
    "Осуществим проверку на наличие пропусков"
   ]
  },
  {
   "cell_type": "code",
   "execution_count": 13,
   "metadata": {},
   "outputs": [
    {
     "data": {
      "text/plain": [
       "id         0\n",
       "f0         0\n",
       "f1         0\n",
       "f2         0\n",
       "product    0\n",
       "dtype: int64"
      ]
     },
     "execution_count": 13,
     "metadata": {},
     "output_type": "execute_result"
    }
   ],
   "source": [
    "data0.isna().sum()"
   ]
  },
  {
   "cell_type": "code",
   "execution_count": 14,
   "metadata": {},
   "outputs": [
    {
     "data": {
      "text/plain": [
       "id         0\n",
       "f0         0\n",
       "f1         0\n",
       "f2         0\n",
       "product    0\n",
       "dtype: int64"
      ]
     },
     "execution_count": 14,
     "metadata": {},
     "output_type": "execute_result"
    }
   ],
   "source": [
    "data1.isna().sum()"
   ]
  },
  {
   "cell_type": "code",
   "execution_count": 15,
   "metadata": {},
   "outputs": [
    {
     "data": {
      "text/plain": [
       "id         0\n",
       "f0         0\n",
       "f1         0\n",
       "f2         0\n",
       "product    0\n",
       "dtype: int64"
      ]
     },
     "execution_count": 15,
     "metadata": {},
     "output_type": "execute_result"
    }
   ],
   "source": [
    "data2.isna().sum()"
   ]
  },
  {
   "cell_type": "markdown",
   "metadata": {},
   "source": [
    "Мы можем удалить столбец id, так как он нам не нужен."
   ]
  },
  {
   "cell_type": "code",
   "execution_count": 16,
   "metadata": {},
   "outputs": [],
   "source": [
    "data0 = data0.drop('id', axis = 1)\n",
    "data1 = data1.drop('id', axis = 1)\n",
    "data2 = data2.drop('id', axis = 1)"
   ]
  },
  {
   "cell_type": "markdown",
   "metadata": {},
   "source": [
    "Вывод: Мы провели первоначальный анализ данных, включая проверку на пропуски, дубликаты и качество самих данных. В наших выборках не обнаружено полных дубликатов, но есть несколько дубликатов, отличающихся только по идентификатору (id). Решено оставить данные без изменений и продолжить работу с ними."
   ]
  },
  {
   "cell_type": "markdown",
   "metadata": {},
   "source": [
    "## Обучение и проверка модели"
   ]
  },
  {
   "cell_type": "markdown",
   "metadata": {},
   "source": [
    "Разобьем данные на обучающую и валидационную выборки в соотношении 75:25."
   ]
  },
  {
   "cell_type": "markdown",
   "metadata": {},
   "source": [
    "Сделаем данные однородными по масштабу."
   ]
  },
  {
   "cell_type": "code",
   "execution_count": 17,
   "metadata": {},
   "outputs": [],
   "source": [
    "features0 = data0.drop('product', axis=1)\n",
    "target0 = data0['product']\n",
    "features_train0, features_valid0, target_train0, target_valid0 = train_test_split(features0, target0, train_size=0.25, random_state=12345, shuffle=False)\n"
   ]
  },
  {
   "cell_type": "code",
   "execution_count": 18,
   "metadata": {},
   "outputs": [],
   "source": [
    "scaler = StandardScaler()\n",
    "scaler.fit(features_train0)\n",
    "features_train0 = scaler.transform(features_train0)\n",
    "features_valid0 = scaler.transform(features_valid0)"
   ]
  },
  {
   "cell_type": "code",
   "execution_count": 19,
   "metadata": {},
   "outputs": [],
   "source": [
    "features1 = data1.drop('product', axis=1)\n",
    "target1 = data1['product']\n",
    "features_train1, features_valid1, target_train1, target_valid1 = train_test_split(features1, target1, train_size=0.25, random_state=12345, shuffle=False)"
   ]
  },
  {
   "cell_type": "code",
   "execution_count": 20,
   "metadata": {},
   "outputs": [],
   "source": [
    "scaler1 = StandardScaler()\n",
    "scaler1.fit(features_train1)\n",
    "features_train1 = scaler.transform(features_train1)\n",
    "features_valid1 = scaler.transform(features_valid1)"
   ]
  },
  {
   "cell_type": "code",
   "execution_count": 21,
   "metadata": {},
   "outputs": [],
   "source": [
    "features2 = data2.drop('product', axis=1)\n",
    "target2 = data2['product']\n",
    "features_train2, features_valid2, target_train2, target_valid2 = train_test_split(features2, target2, train_size=0.25, random_state=12345, shuffle=False)"
   ]
  },
  {
   "cell_type": "code",
   "execution_count": 22,
   "metadata": {},
   "outputs": [],
   "source": [
    "scaler2 = StandardScaler()\n",
    "scaler2.fit(features_train2)\n",
    "features_train2 = scaler.transform(features_train2)\n",
    "features_valid2 = scaler.transform(features_valid2)"
   ]
  },
  {
   "cell_type": "markdown",
   "metadata": {},
   "source": [
    "Далее мы приступим к обучению моделей, получению прогнозов, определению среднего запаса предсказанного сырья и вычислению среднеквадратичной ошибки (RMSE) модели"
   ]
  },
  {
   "cell_type": "code",
   "execution_count": 26,
   "metadata": {},
   "outputs": [],
   "source": [
    "def rmse_prediction(features_train, target_train, features_valid, target_valid ):\n",
    "    model = LinearRegression()\n",
    "    model.fit(features_train,target_train)\n",
    "    predictions = model.predict(features_valid)\n",
    "    np_array = np.array(predictions)\n",
    "    new_predictions = pd.Series(np_array, index = target_valid.index)\n",
    "    print(\"RMSE =\", mean_squared_error(target_valid,new_predictions) ** 0.5)\n",
    "    print('Средний запас предсказанного сырья',new_predictions.mean())\n",
    "    return new_predictions"
   ]
  },
  {
   "cell_type": "code",
   "execution_count": 27,
   "metadata": {},
   "outputs": [
    {
     "name": "stdout",
     "output_type": "stream",
     "text": [
      "RMSE = 37.61893312647744\n",
      "Средний запас предсказанного сырья 92.67746991590629\n"
     ]
    }
   ],
   "source": [
    "new_predictions0 = rmse_prediction(features_train0, target_train0, features_valid0, target_valid0 )"
   ]
  },
  {
   "cell_type": "code",
   "execution_count": 28,
   "metadata": {},
   "outputs": [
    {
     "name": "stdout",
     "output_type": "stream",
     "text": [
      "RMSE = 0.8915393978719793\n",
      "Средний запас предсказанного сырья 68.93047860154645\n"
     ]
    }
   ],
   "source": [
    "new_predictions1 = rmse_prediction(features_train1, target_train1, features_valid1, target_valid1)"
   ]
  },
  {
   "cell_type": "code",
   "execution_count": 29,
   "metadata": {},
   "outputs": [
    {
     "name": "stdout",
     "output_type": "stream",
     "text": [
      "RMSE = 39.97593851112621\n",
      "Средний запас предсказанного сырья 95.02403363016249\n"
     ]
    }
   ],
   "source": [
    "new_predictions2 = rmse_prediction(features_train2, target_train2, features_valid2, target_valid2)"
   ]
  },
  {
   "cell_type": "markdown",
   "metadata": {},
   "source": [
    "Вывод: самые точные предсказания мы получили при работе со вторым датасетом. В первом и третьем датасетах значение RMSE довольно высокое, что указывает на значительное расхождение между прогнозируемыми данными и реальными."
   ]
  },
  {
   "cell_type": "markdown",
   "metadata": {},
   "source": [
    "## Подготовка к расчёту прибыли"
   ]
  },
  {
   "cell_type": "markdown",
   "metadata": {},
   "source": [
    "При разведке региона исследуют 500 точек, из которых с помощью машинного обучения выбирают 200 лучших для разработки.\n",
    "Бюджет на разработку скважин в регионе — 10 млрд рублей.\n",
    "При нынешних ценах один баррель сырья приносит 450 рублей дохода. Доход с каждой единицы продукта составляет 450 тыс. рублей, поскольку объём указан в тысячах баррелей.\n",
    "После оценки рисков нужно оставить лишь те регионы, в которых вероятность убытков меньше 2.5%. Среди них выбирают регион с наибольшей средней прибылью."
   ]
  },
  {
   "cell_type": "code",
   "execution_count": 30,
   "metadata": {},
   "outputs": [],
   "source": [
    "BUDGET = 10000000000\n",
    "PRICE = 450000\n",
    "OIL = 200\n",
    "POINT = 500\n",
    "BEST_POINT = 200"
   ]
  },
  {
   "cell_type": "code",
   "execution_count": 31,
   "metadata": {},
   "outputs": [
    {
     "data": {
      "text/plain": [
       "111.11111111111111"
      ]
     },
     "execution_count": 31,
     "metadata": {},
     "output_type": "execute_result"
    }
   ],
   "source": [
    "break_even = BUDGET/PRICE/OIL\n",
    "break_even"
   ]
  },
  {
   "cell_type": "markdown",
   "metadata": {},
   "source": [
    "Вывод: Стоит оценить запасы в скважинах, чтобы определить, насколько безубыточный объем существенно превышает основные объемы, содержащиеся в них."
   ]
  },
  {
   "cell_type": "code",
   "execution_count": 32,
   "metadata": {},
   "outputs": [
    {
     "name": "stdout",
     "output_type": "stream",
     "text": [
      "25% скважин в первом регионе содержат сырья: 128.56408897150277\n",
      "16% скважин в втором регионе содержат сырья: 134.76630515769844\n",
      "25% скважин в третьем регионе содержат сырья: 130.5950267155838\n"
     ]
    }
   ],
   "source": [
    "print(\"25% скважин в первом регионе содержат сырья:\",data0['product'].quantile(0.75))\n",
    "print(\"16% скважин в втором регионе содержат сырья:\",data1['product'].quantile(0.84))\n",
    "print(\"25% скважин в третьем регионе содержат сырья:\",data2['product'].quantile(0.75))"
   ]
  },
  {
   "cell_type": "markdown",
   "metadata": {},
   "source": [
    "**выводы**\n",
    "\n",
    "Мы поделили бюджет (10 млрд рублей) на доход от каждых 1000 баррелей (450 тыс. рублей = 450 * 1000 баррелей) и затем разделили на 200 скважин, которые мы выберем для разработки. Таким образом, мы получили средний объем запасов на каждую скважину, чтобы не уйти в убыток - 112 тысяч баррелей в среднем на скважину (округлено в большую сторону).\n",
    "\n",
    "Если сравнить безубыточный объем сырья с средним запасом в каждом регионе, то можно заметить, что в каждом регионе средний объем запасов меньше безубыточного. Максимальный средний запас находится в третьем регионе и равен 95 тысячам баррелей на скважину, что не достаточно для выхода в прибыль.\n",
    "\n",
    "Анализируя распределение объемов запасов по регионам на основе 3-го квантиля, мы замечаем, что в первом и третьем регионах 25% скважин достигают минимального порога безубыточности.\n",
    "\n",
    "В то же время во втором регионе 3-й квантиль не достигает порога в 112 тысяч баррелей. Порог превышается только для 16% скважин."
   ]
  },
  {
   "cell_type": "code",
   "execution_count": 33,
   "metadata": {},
   "outputs": [],
   "source": [
    "def calculation(target, predictions, cost, count):\n",
    "    probs_sorted = predictions.sort_values(ascending=False)\n",
    "    deposits = target[probs_sorted.index][:count]\n",
    "    return cost * deposits.sum() - BUDGET\n"
   ]
  },
  {
   "cell_type": "markdown",
   "metadata": {},
   "source": [
    "## Расчёт прибыли и рисков"
   ]
  },
  {
   "cell_type": "code",
   "execution_count": 34,
   "metadata": {},
   "outputs": [],
   "source": [
    "state = np.random.RandomState(12345)"
   ]
  },
  {
   "cell_type": "code",
   "execution_count": 35,
   "metadata": {},
   "outputs": [
    {
     "name": "stdout",
     "output_type": "stream",
     "text": [
      "Средняя выручка 424056697.5815736\n",
      "Риск того, что будет убыточно 5.2\n",
      "95%-й Доверительный интервал: ( -65714844.61684732 , 937944190.6030636 )\n"
     ]
    }
   ],
   "source": [
    "values = []\n",
    "for i in range(500):\n",
    "    targetsome = target_valid0.sample(replace = True, random_state = state, n = POINT)\n",
    "    predictionsome = new_predictions0[targetsome.index]\n",
    "    values.append(calculation(targetsome,predictionsome,PRICE, BEST_POINT))\n",
    "\n",
    "values = pd.Series(values)\n",
    "print(\"Средняя выручка\", values.mean())\n",
    "print(\"Риск того, что будет убыточно\", st.percentileofscore(values, 0))\n",
    "print(\"95%-й Доверительный интервал: (\", values.quantile(.025),\",\", values.quantile(.975),\")\")"
   ]
  },
  {
   "cell_type": "code",
   "execution_count": 36,
   "metadata": {},
   "outputs": [
    {
     "name": "stdout",
     "output_type": "stream",
     "text": [
      "Средняя выручка 471307700.84493583\n",
      "Риск того, что будет убыточно 2.2\n",
      "95%-й Доверительный интервал: ( 23545096.96265221 , 872254045.3112618 )\n"
     ]
    }
   ],
   "source": [
    "values = []\n",
    "for i in range(500):\n",
    "    targetsome = target_valid1.sample(replace = True, random_state = state, n = POINT)\n",
    "    predictionsome = new_predictions1[targetsome.index]\n",
    "    values.append(calculation(targetsome,predictionsome,PRICE, BEST_POINT))\n",
    "\n",
    "values = pd.Series(values)\n",
    "print(\"Средняя выручка\", values.mean())\n",
    "print(\"Риск того, что будет убыточно\", st.percentileofscore(values, 0))\n",
    "print(\"95%-й Доверительный интервал: (\", values.quantile(.025),\",\", values.quantile(.975),\")\")"
   ]
  },
  {
   "cell_type": "code",
   "execution_count": 37,
   "metadata": {},
   "outputs": [
    {
     "name": "stdout",
     "output_type": "stream",
     "text": [
      "Средняя выручка 395470417.8117764\n",
      "Риск того, что будет убыточно 7.6000000000000005\n",
      "95%-й Доверительный интервал: ( -166344418.20862022 , 936719611.1945325 )\n"
     ]
    }
   ],
   "source": [
    "values = []\n",
    "for i in range(500):\n",
    "    targetsome = target_valid2.sample(replace = True, random_state = state, n = POINT)\n",
    "    predictionsome = new_predictions2[targetsome.index]\n",
    "    values.append(calculation(targetsome,predictionsome,PRICE, BEST_POINT))\n",
    "\n",
    "values = pd.Series(values)\n",
    "print(\"Средняя выручка\", values.mean())\n",
    "print(\"Риск того, что будет убыточно\", st.percentileofscore(values, 0))\n",
    "print(\"95%-й Доверительный интервал: (\", values.quantile(.025),\",\", values.quantile(.975),\")\")"
   ]
  },
  {
   "cell_type": "code",
   "execution_count": 38,
   "metadata": {},
   "outputs": [
    {
     "name": "stdout",
     "output_type": "stream",
     "text": [
      "Среднее значение запасов для региона 1 = 92.5\n",
      "Среднее значение запасов для региона 2 = 68.83\n",
      "Среднее значение запасов для региона 3 = 95.0\n"
     ]
    }
   ],
   "source": [
    "for n, t in enumerate([target0, target1, target2], start=1):\n",
    "    print(f'Среднее значение запасов для региона {n} = {np.round(t.mean(), 2)}')"
   ]
  },
  {
   "cell_type": "markdown",
   "metadata": {},
   "source": [
    "Вывод: Следует рассмотреть разработку второго региона, поскольку он представляет наименьший риск."
   ]
  },
  {
   "cell_type": "markdown",
   "metadata": {},
   "source": [
    "**Общий вывод**"
   ]
  },
  {
   "cell_type": "markdown",
   "metadata": {},
   "source": [
    "Анализ данных показал отсутствие пропусков, дубликатов и других ненужных элементов. Так как столбец ID не использовался в работе, он был удален, и данные были подготовлены. Затем было необходимо масштабировать данные и обучить модель линейной регрессии. В результате были получены следующие результаты:"
   ]
  },
  {
   "cell_type": "markdown",
   "metadata": {},
   "source": [
    "1 регион: RMSE = 37.61893312647744, Средний запас предсказанного сырья 92.67746991590556\n",
    "\n",
    "2 регион: RMSE = 0.8915393978719723, Средний запас предсказанного сырья 68.93047860154668\n",
    "\n",
    "3 регион: RMSE = 39.97593851112621, Средний запас предсказанного сырья 95.02403363016235"
   ]
  },
  {
   "cell_type": "markdown",
   "metadata": {},
   "source": [
    "Самые точные прогнозы были получены на втором датасете. В то время как на первом и последнем датасетах показатель RMSE довольно высокий, что указывает на значительные расхождения между предсказанными и фактическими данными."
   ]
  },
  {
   "cell_type": "markdown",
   "metadata": {},
   "source": [
    "Затем мы произведем вычисления для определения средней выручки, средних объемов и риска, и получим следующие результаты:"
   ]
  },
  {
   "cell_type": "markdown",
   "metadata": {},
   "source": [
    "1 регион: Средняя выручка 424056697.5815736, 95%-й Доверительный интервал (-65714844.61684732, 937944190.6030636), Риск убытков 5.2, Среднее значение объема скважин 92.5\n",
    "\n",
    "2 регион: Средняя выручка 471307700.84493595, 95%-й Доверительный интервал (23545096.96265221, 872254045.3112618), Риск убытков 2.2, Среднее значение объема скважин 68.83\n",
    "\n",
    "3 регион: Средняя выручка 395470417.81177634, 95%-й Доверительный интервал (-166344418.20862022, 936719611.1945325), Риск убытков 7.6, Среднее значение объема скважин 95.0"
   ]
  },
  {
   "cell_type": "markdown",
   "metadata": {},
   "source": [
    "Рекомендуется рассмотреть разработку именно во **втором** регионе, поскольку он имеет наименьший риск."
   ]
  }
 ],
 "metadata": {
  "ExecuteTimeLog": [
   {
    "duration": 1000,
    "start_time": "2023-04-18T17:15:38.638Z"
   },
   {
    "duration": 3,
    "start_time": "2023-04-18T17:15:39.639Z"
   },
   {
    "duration": 2195,
    "start_time": "2023-04-18T17:15:39.643Z"
   },
   {
    "duration": 13,
    "start_time": "2023-04-18T17:15:41.840Z"
   },
   {
    "duration": 13,
    "start_time": "2023-04-18T17:15:41.855Z"
   },
   {
    "duration": 9,
    "start_time": "2023-04-18T17:15:41.869Z"
   },
   {
    "duration": 47,
    "start_time": "2023-04-18T17:15:41.879Z"
   },
   {
    "duration": 60,
    "start_time": "2023-04-18T17:15:41.928Z"
   },
   {
    "duration": 42,
    "start_time": "2023-04-18T17:15:41.990Z"
   },
   {
    "duration": 25,
    "start_time": "2023-04-18T17:15:42.033Z"
   },
   {
    "duration": 24,
    "start_time": "2023-04-18T17:15:42.059Z"
   },
   {
    "duration": 24,
    "start_time": "2023-04-18T17:15:42.084Z"
   },
   {
    "duration": 30,
    "start_time": "2023-04-18T17:15:42.109Z"
   },
   {
    "duration": 11,
    "start_time": "2023-04-18T17:15:42.141Z"
   },
   {
    "duration": 8,
    "start_time": "2023-04-18T17:15:42.153Z"
   },
   {
    "duration": 10,
    "start_time": "2023-04-18T17:15:42.162Z"
   },
   {
    "duration": 10,
    "start_time": "2023-04-18T17:15:42.173Z"
   },
   {
    "duration": 10,
    "start_time": "2023-04-18T17:15:42.184Z"
   },
   {
    "duration": 10,
    "start_time": "2023-04-18T17:15:42.196Z"
   },
   {
    "duration": 10,
    "start_time": "2023-04-18T17:15:42.236Z"
   },
   {
    "duration": 17,
    "start_time": "2023-04-18T17:15:42.247Z"
   },
   {
    "duration": 13,
    "start_time": "2023-04-18T17:15:42.266Z"
   },
   {
    "duration": 58,
    "start_time": "2023-04-18T17:15:42.281Z"
   },
   {
    "duration": 99,
    "start_time": "2023-04-18T17:15:42.341Z"
   },
   {
    "duration": 99,
    "start_time": "2023-04-18T17:15:42.442Z"
   },
   {
    "duration": 3,
    "start_time": "2023-04-18T17:15:42.542Z"
   },
   {
    "duration": 103,
    "start_time": "2023-04-18T17:15:42.546Z"
   },
   {
    "duration": 5,
    "start_time": "2023-04-18T17:15:42.651Z"
   },
   {
    "duration": 4,
    "start_time": "2023-04-18T17:15:42.658Z"
   },
   {
    "duration": 577,
    "start_time": "2023-04-18T17:15:42.736Z"
   },
   {
    "duration": 591,
    "start_time": "2023-04-18T17:15:43.314Z"
   },
   {
    "duration": 554,
    "start_time": "2023-04-18T17:15:43.907Z"
   },
   {
    "duration": 5,
    "start_time": "2023-04-18T17:15:44.463Z"
   },
   {
    "duration": 1209,
    "start_time": "2023-04-18T17:34:23.618Z"
   },
   {
    "duration": 2,
    "start_time": "2023-04-18T17:34:24.829Z"
   },
   {
    "duration": 834,
    "start_time": "2023-04-18T17:34:24.832Z"
   },
   {
    "duration": 14,
    "start_time": "2023-04-18T17:34:25.668Z"
   },
   {
    "duration": 9,
    "start_time": "2023-04-18T17:34:27.314Z"
   },
   {
    "duration": 10,
    "start_time": "2023-04-18T17:34:27.483Z"
   },
   {
    "duration": 52,
    "start_time": "2023-04-18T17:34:29.738Z"
   },
   {
    "duration": 59,
    "start_time": "2023-04-18T17:34:30.022Z"
   },
   {
    "duration": 55,
    "start_time": "2023-04-18T17:34:30.445Z"
   },
   {
    "duration": 32,
    "start_time": "2023-04-18T17:34:33.641Z"
   },
   {
    "duration": 30,
    "start_time": "2023-04-18T17:34:35.142Z"
   },
   {
    "duration": 35,
    "start_time": "2023-04-18T17:34:35.338Z"
   },
   {
    "duration": 11,
    "start_time": "2023-04-18T17:34:39.340Z"
   },
   {
    "duration": 12,
    "start_time": "2023-04-18T17:34:39.718Z"
   },
   {
    "duration": 12,
    "start_time": "2023-04-18T17:34:40.234Z"
   },
   {
    "duration": 13,
    "start_time": "2023-04-18T17:34:51.834Z"
   },
   {
    "duration": 12,
    "start_time": "2023-04-18T17:35:55.083Z"
   },
   {
    "duration": 11,
    "start_time": "2023-04-18T17:36:03.328Z"
   },
   {
    "duration": 11,
    "start_time": "2023-04-18T17:36:35.104Z"
   },
   {
    "duration": 11,
    "start_time": "2023-04-18T17:36:36.322Z"
   },
   {
    "duration": 12,
    "start_time": "2023-04-18T17:36:36.888Z"
   },
   {
    "duration": 11,
    "start_time": "2023-04-18T17:36:41.777Z"
   },
   {
    "duration": 12,
    "start_time": "2023-04-18T17:37:05.922Z"
   },
   {
    "duration": 12,
    "start_time": "2023-04-18T17:37:14.443Z"
   },
   {
    "duration": 14,
    "start_time": "2023-04-18T17:37:20.018Z"
   },
   {
    "duration": 3,
    "start_time": "2023-04-18T17:39:06.223Z"
   },
   {
    "duration": 4,
    "start_time": "2023-04-18T17:39:12.910Z"
   },
   {
    "duration": 5,
    "start_time": "2023-04-18T17:40:15.098Z"
   },
   {
    "duration": 4,
    "start_time": "2023-04-18T17:40:29.929Z"
   },
   {
    "duration": 678,
    "start_time": "2023-04-18T17:40:58.780Z"
   },
   {
    "duration": 699,
    "start_time": "2023-04-18T17:41:01.398Z"
   },
   {
    "duration": 733,
    "start_time": "2023-04-18T17:41:10.222Z"
   },
   {
    "duration": 613,
    "start_time": "2023-04-18T17:41:31.402Z"
   },
   {
    "duration": 667,
    "start_time": "2023-04-18T17:41:50.480Z"
   },
   {
    "duration": 703,
    "start_time": "2023-04-18T17:41:57.030Z"
   },
   {
    "duration": 598,
    "start_time": "2023-04-18T17:42:07.002Z"
   },
   {
    "duration": 620,
    "start_time": "2023-04-18T17:42:14.825Z"
   },
   {
    "duration": 609,
    "start_time": "2023-04-18T17:42:16.807Z"
   },
   {
    "duration": 6,
    "start_time": "2023-04-18T17:42:25.741Z"
   },
   {
    "duration": 1101,
    "start_time": "2023-04-19T18:01:12.116Z"
   },
   {
    "duration": 4,
    "start_time": "2023-04-19T18:01:13.219Z"
   },
   {
    "duration": 1610,
    "start_time": "2023-04-19T18:01:13.225Z"
   },
   {
    "duration": 17,
    "start_time": "2023-04-19T18:01:14.838Z"
   },
   {
    "duration": 9,
    "start_time": "2023-04-19T18:01:14.857Z"
   },
   {
    "duration": 9,
    "start_time": "2023-04-19T18:01:14.868Z"
   },
   {
    "duration": 57,
    "start_time": "2023-04-19T18:01:14.879Z"
   },
   {
    "duration": 57,
    "start_time": "2023-04-19T18:01:14.937Z"
   },
   {
    "duration": 54,
    "start_time": "2023-04-19T18:01:14.996Z"
   },
   {
    "duration": 48,
    "start_time": "2023-04-19T18:01:15.053Z"
   },
   {
    "duration": 29,
    "start_time": "2023-04-19T18:01:15.103Z"
   },
   {
    "duration": 31,
    "start_time": "2023-04-19T18:01:15.133Z"
   },
   {
    "duration": 36,
    "start_time": "2023-04-19T18:01:15.166Z"
   },
   {
    "duration": 14,
    "start_time": "2023-04-19T18:01:15.204Z"
   },
   {
    "duration": 11,
    "start_time": "2023-04-19T18:01:15.220Z"
   },
   {
    "duration": 14,
    "start_time": "2023-04-19T18:01:15.233Z"
   },
   {
    "duration": 19,
    "start_time": "2023-04-19T18:01:15.249Z"
   },
   {
    "duration": 31,
    "start_time": "2023-04-19T18:01:15.270Z"
   },
   {
    "duration": 10,
    "start_time": "2023-04-19T18:01:15.303Z"
   },
   {
    "duration": 14,
    "start_time": "2023-04-19T18:01:15.314Z"
   },
   {
    "duration": 9,
    "start_time": "2023-04-19T18:01:15.330Z"
   },
   {
    "duration": 11,
    "start_time": "2023-04-19T18:01:15.341Z"
   },
   {
    "duration": 2,
    "start_time": "2023-04-19T18:01:15.354Z"
   },
   {
    "duration": 35,
    "start_time": "2023-04-19T18:01:15.358Z"
   },
   {
    "duration": 6,
    "start_time": "2023-04-19T18:01:15.395Z"
   },
   {
    "duration": 8,
    "start_time": "2023-04-19T18:01:15.402Z"
   },
   {
    "duration": 18,
    "start_time": "2023-04-19T18:01:15.412Z"
   },
   {
    "duration": 98,
    "start_time": "2023-04-19T18:01:15.498Z"
   },
   {
    "duration": 96,
    "start_time": "2023-04-19T18:01:15.602Z"
   },
   {
    "duration": 3,
    "start_time": "2023-04-19T18:01:15.701Z"
   },
   {
    "duration": 97,
    "start_time": "2023-04-19T18:01:15.796Z"
   },
   {
    "duration": 3,
    "start_time": "2023-04-19T18:01:15.895Z"
   },
   {
    "duration": 12,
    "start_time": "2023-04-19T18:01:15.900Z"
   },
   {
    "duration": 120,
    "start_time": "2023-04-19T18:01:15.914Z"
   },
   {
    "duration": 0,
    "start_time": "2023-04-19T18:01:16.036Z"
   },
   {
    "duration": 0,
    "start_time": "2023-04-19T18:01:16.037Z"
   },
   {
    "duration": 0,
    "start_time": "2023-04-19T18:01:16.039Z"
   },
   {
    "duration": 1161,
    "start_time": "2023-04-19T18:13:19.410Z"
   },
   {
    "duration": 3,
    "start_time": "2023-04-19T18:13:20.573Z"
   },
   {
    "duration": 400,
    "start_time": "2023-04-19T18:13:20.577Z"
   },
   {
    "duration": 17,
    "start_time": "2023-04-19T18:13:20.979Z"
   },
   {
    "duration": 10,
    "start_time": "2023-04-19T18:13:20.998Z"
   },
   {
    "duration": 11,
    "start_time": "2023-04-19T18:13:21.010Z"
   },
   {
    "duration": 76,
    "start_time": "2023-04-19T18:13:21.023Z"
   },
   {
    "duration": 49,
    "start_time": "2023-04-19T18:13:21.101Z"
   },
   {
    "duration": 74,
    "start_time": "2023-04-19T18:13:21.152Z"
   },
   {
    "duration": 41,
    "start_time": "2023-04-19T18:13:21.228Z"
   },
   {
    "duration": 55,
    "start_time": "2023-04-19T18:13:21.272Z"
   },
   {
    "duration": 34,
    "start_time": "2023-04-19T18:13:21.329Z"
   },
   {
    "duration": 29,
    "start_time": "2023-04-19T18:13:21.365Z"
   },
   {
    "duration": 10,
    "start_time": "2023-04-19T18:13:21.397Z"
   },
   {
    "duration": 12,
    "start_time": "2023-04-19T18:13:21.409Z"
   },
   {
    "duration": 12,
    "start_time": "2023-04-19T18:13:21.423Z"
   },
   {
    "duration": 15,
    "start_time": "2023-04-19T18:13:21.437Z"
   },
   {
    "duration": 42,
    "start_time": "2023-04-19T18:13:21.454Z"
   },
   {
    "duration": 13,
    "start_time": "2023-04-19T18:13:21.498Z"
   },
   {
    "duration": 14,
    "start_time": "2023-04-19T18:13:21.513Z"
   },
   {
    "duration": 11,
    "start_time": "2023-04-19T18:13:21.529Z"
   },
   {
    "duration": 11,
    "start_time": "2023-04-19T18:13:21.542Z"
   },
   {
    "duration": 3,
    "start_time": "2023-04-19T18:13:21.554Z"
   },
   {
    "duration": 34,
    "start_time": "2023-04-19T18:13:21.559Z"
   },
   {
    "duration": 5,
    "start_time": "2023-04-19T18:13:21.595Z"
   },
   {
    "duration": 8,
    "start_time": "2023-04-19T18:13:21.602Z"
   },
   {
    "duration": 18,
    "start_time": "2023-04-19T18:13:21.611Z"
   },
   {
    "duration": 100,
    "start_time": "2023-04-19T18:13:21.695Z"
   },
   {
    "duration": 102,
    "start_time": "2023-04-19T18:13:21.796Z"
   },
   {
    "duration": 194,
    "start_time": "2023-04-19T18:13:21.900Z"
   },
   {
    "duration": 11,
    "start_time": "2023-04-19T18:13:22.096Z"
   },
   {
    "duration": 20,
    "start_time": "2023-04-19T18:13:22.108Z"
   },
   {
    "duration": 32,
    "start_time": "2023-04-19T18:13:22.130Z"
   },
   {
    "duration": 699,
    "start_time": "2023-04-19T18:13:22.164Z"
   },
   {
    "duration": 691,
    "start_time": "2023-04-19T18:13:22.865Z"
   },
   {
    "duration": 674,
    "start_time": "2023-04-19T18:13:23.557Z"
   },
   {
    "duration": 5,
    "start_time": "2023-04-19T18:13:24.233Z"
   },
   {
    "duration": 1136,
    "start_time": "2023-04-19T18:18:41.083Z"
   },
   {
    "duration": 3,
    "start_time": "2023-04-19T18:18:42.221Z"
   },
   {
    "duration": 390,
    "start_time": "2023-04-19T18:18:42.225Z"
   },
   {
    "duration": 17,
    "start_time": "2023-04-19T18:18:42.617Z"
   },
   {
    "duration": 10,
    "start_time": "2023-04-19T18:18:42.636Z"
   },
   {
    "duration": 9,
    "start_time": "2023-04-19T18:18:42.648Z"
   },
   {
    "duration": 70,
    "start_time": "2023-04-19T18:18:42.659Z"
   },
   {
    "duration": 48,
    "start_time": "2023-04-19T18:18:42.730Z"
   },
   {
    "duration": 66,
    "start_time": "2023-04-19T18:18:42.780Z"
   },
   {
    "duration": 50,
    "start_time": "2023-04-19T18:18:42.848Z"
   },
   {
    "duration": 31,
    "start_time": "2023-04-19T18:18:42.900Z"
   },
   {
    "duration": 31,
    "start_time": "2023-04-19T18:18:42.934Z"
   },
   {
    "duration": 32,
    "start_time": "2023-04-19T18:18:42.967Z"
   },
   {
    "duration": 14,
    "start_time": "2023-04-19T18:18:43.003Z"
   },
   {
    "duration": 13,
    "start_time": "2023-04-19T18:18:43.018Z"
   },
   {
    "duration": 12,
    "start_time": "2023-04-19T18:18:43.032Z"
   },
   {
    "duration": 47,
    "start_time": "2023-04-19T18:18:43.046Z"
   },
   {
    "duration": 11,
    "start_time": "2023-04-19T18:18:43.095Z"
   },
   {
    "duration": 14,
    "start_time": "2023-04-19T18:18:43.108Z"
   },
   {
    "duration": 10,
    "start_time": "2023-04-19T18:18:43.124Z"
   },
   {
    "duration": 10,
    "start_time": "2023-04-19T18:18:43.136Z"
   },
   {
    "duration": 10,
    "start_time": "2023-04-19T18:18:43.148Z"
   },
   {
    "duration": 33,
    "start_time": "2023-04-19T18:18:43.160Z"
   },
   {
    "duration": 2,
    "start_time": "2023-04-19T18:18:43.195Z"
   },
   {
    "duration": 6,
    "start_time": "2023-04-19T18:18:43.199Z"
   },
   {
    "duration": 10,
    "start_time": "2023-04-19T18:18:43.207Z"
   },
   {
    "duration": 20,
    "start_time": "2023-04-19T18:18:43.219Z"
   },
   {
    "duration": 10,
    "start_time": "2023-04-19T18:18:43.294Z"
   },
   {
    "duration": 193,
    "start_time": "2023-04-19T18:18:43.306Z"
   },
   {
    "duration": 92,
    "start_time": "2023-04-19T18:18:43.501Z"
   },
   {
    "duration": 5,
    "start_time": "2023-04-19T18:18:43.595Z"
   },
   {
    "duration": 13,
    "start_time": "2023-04-19T18:18:43.602Z"
   },
   {
    "duration": 4,
    "start_time": "2023-04-19T18:18:43.616Z"
   },
   {
    "duration": 5,
    "start_time": "2023-04-19T18:18:43.622Z"
   },
   {
    "duration": 709,
    "start_time": "2023-04-19T18:18:43.628Z"
   },
   {
    "duration": 678,
    "start_time": "2023-04-19T18:18:44.338Z"
   },
   {
    "duration": 676,
    "start_time": "2023-04-19T18:18:45.018Z"
   },
   {
    "duration": 7,
    "start_time": "2023-04-19T18:18:45.696Z"
   },
   {
    "duration": 1036,
    "start_time": "2023-04-19T18:19:36.836Z"
   },
   {
    "duration": 2,
    "start_time": "2023-04-19T18:19:37.875Z"
   },
   {
    "duration": 375,
    "start_time": "2023-04-19T18:19:37.879Z"
   },
   {
    "duration": 18,
    "start_time": "2023-04-19T18:19:38.257Z"
   },
   {
    "duration": 9,
    "start_time": "2023-04-19T18:19:38.277Z"
   },
   {
    "duration": 13,
    "start_time": "2023-04-19T18:19:38.287Z"
   },
   {
    "duration": 53,
    "start_time": "2023-04-19T18:19:38.302Z"
   },
   {
    "duration": 73,
    "start_time": "2023-04-19T18:19:38.357Z"
   },
   {
    "duration": 63,
    "start_time": "2023-04-19T18:19:38.431Z"
   },
   {
    "duration": 31,
    "start_time": "2023-04-19T18:19:38.496Z"
   },
   {
    "duration": 29,
    "start_time": "2023-04-19T18:19:38.528Z"
   },
   {
    "duration": 50,
    "start_time": "2023-04-19T18:19:38.559Z"
   },
   {
    "duration": 9,
    "start_time": "2023-04-19T18:19:38.611Z"
   },
   {
    "duration": 9,
    "start_time": "2023-04-19T18:19:38.624Z"
   },
   {
    "duration": 10,
    "start_time": "2023-04-19T18:19:38.634Z"
   },
   {
    "duration": 11,
    "start_time": "2023-04-19T18:19:38.646Z"
   },
   {
    "duration": 39,
    "start_time": "2023-04-19T18:19:38.659Z"
   },
   {
    "duration": 11,
    "start_time": "2023-04-19T18:19:38.700Z"
   },
   {
    "duration": 11,
    "start_time": "2023-04-19T18:19:38.712Z"
   },
   {
    "duration": 10,
    "start_time": "2023-04-19T18:19:38.724Z"
   },
   {
    "duration": 9,
    "start_time": "2023-04-19T18:19:38.736Z"
   },
   {
    "duration": 52,
    "start_time": "2023-04-19T18:19:38.747Z"
   },
   {
    "duration": 3,
    "start_time": "2023-04-19T18:19:38.800Z"
   },
   {
    "duration": 6,
    "start_time": "2023-04-19T18:19:38.804Z"
   },
   {
    "duration": 10,
    "start_time": "2023-04-19T18:19:38.812Z"
   },
   {
    "duration": 11,
    "start_time": "2023-04-19T18:19:38.824Z"
   },
   {
    "duration": 61,
    "start_time": "2023-04-19T18:19:38.837Z"
   },
   {
    "duration": 97,
    "start_time": "2023-04-19T18:19:38.900Z"
   },
   {
    "duration": 102,
    "start_time": "2023-04-19T18:19:38.999Z"
   },
   {
    "duration": 3,
    "start_time": "2023-04-19T18:19:39.103Z"
   },
   {
    "duration": 94,
    "start_time": "2023-04-19T18:19:39.108Z"
   },
   {
    "duration": 97,
    "start_time": "2023-04-19T18:19:39.204Z"
   },
   {
    "duration": 4,
    "start_time": "2023-04-19T18:19:39.302Z"
   },
   {
    "duration": 8,
    "start_time": "2023-04-19T18:19:39.307Z"
   },
   {
    "duration": 722,
    "start_time": "2023-04-19T18:19:39.316Z"
   },
   {
    "duration": 679,
    "start_time": "2023-04-19T18:19:40.040Z"
   },
   {
    "duration": 738,
    "start_time": "2023-04-19T18:19:40.720Z"
   },
   {
    "duration": 5,
    "start_time": "2023-04-19T18:19:41.460Z"
   },
   {
    "duration": 53,
    "start_time": "2023-04-19T18:26:50.853Z"
   },
   {
    "duration": 1148,
    "start_time": "2023-04-19T18:28:50.792Z"
   },
   {
    "duration": 3,
    "start_time": "2023-04-19T18:28:51.944Z"
   },
   {
    "duration": 405,
    "start_time": "2023-04-19T18:28:51.949Z"
   },
   {
    "duration": 18,
    "start_time": "2023-04-19T18:28:52.357Z"
   },
   {
    "duration": 21,
    "start_time": "2023-04-19T18:28:52.377Z"
   },
   {
    "duration": 9,
    "start_time": "2023-04-19T18:28:52.401Z"
   },
   {
    "duration": 61,
    "start_time": "2023-04-19T18:28:52.412Z"
   },
   {
    "duration": 59,
    "start_time": "2023-04-19T18:28:52.475Z"
   },
   {
    "duration": 68,
    "start_time": "2023-04-19T18:28:52.536Z"
   },
   {
    "duration": 31,
    "start_time": "2023-04-19T18:28:52.606Z"
   },
   {
    "duration": 30,
    "start_time": "2023-04-19T18:28:52.639Z"
   },
   {
    "duration": 47,
    "start_time": "2023-04-19T18:28:52.670Z"
   },
   {
    "duration": 9,
    "start_time": "2023-04-19T18:28:52.719Z"
   },
   {
    "duration": 10,
    "start_time": "2023-04-19T18:28:52.731Z"
   },
   {
    "duration": 10,
    "start_time": "2023-04-19T18:28:52.742Z"
   },
   {
    "duration": 50,
    "start_time": "2023-04-19T18:28:52.753Z"
   },
   {
    "duration": 13,
    "start_time": "2023-04-19T18:28:52.805Z"
   },
   {
    "duration": 11,
    "start_time": "2023-04-19T18:28:52.820Z"
   },
   {
    "duration": 11,
    "start_time": "2023-04-19T18:28:52.832Z"
   },
   {
    "duration": 11,
    "start_time": "2023-04-19T18:28:52.844Z"
   },
   {
    "duration": 39,
    "start_time": "2023-04-19T18:28:52.857Z"
   },
   {
    "duration": 11,
    "start_time": "2023-04-19T18:28:52.898Z"
   },
   {
    "duration": 3,
    "start_time": "2023-04-19T18:28:52.910Z"
   },
   {
    "duration": 5,
    "start_time": "2023-04-19T18:28:52.915Z"
   },
   {
    "duration": 6,
    "start_time": "2023-04-19T18:28:52.922Z"
   },
   {
    "duration": 8,
    "start_time": "2023-04-19T18:28:52.929Z"
   },
   {
    "duration": 62,
    "start_time": "2023-04-19T18:28:52.939Z"
   },
   {
    "duration": 95,
    "start_time": "2023-04-19T18:28:53.003Z"
   },
   {
    "duration": 195,
    "start_time": "2023-04-19T18:28:53.099Z"
   },
   {
    "duration": 8,
    "start_time": "2023-04-19T18:28:53.296Z"
   },
   {
    "duration": 93,
    "start_time": "2023-04-19T18:28:53.306Z"
   },
   {
    "duration": 13,
    "start_time": "2023-04-19T18:28:53.401Z"
   },
   {
    "duration": 3,
    "start_time": "2023-04-19T18:28:53.416Z"
   },
   {
    "duration": 7,
    "start_time": "2023-04-19T18:28:53.421Z"
   },
   {
    "duration": 721,
    "start_time": "2023-04-19T18:28:53.430Z"
   },
   {
    "duration": 704,
    "start_time": "2023-04-19T18:28:54.153Z"
   },
   {
    "duration": 756,
    "start_time": "2023-04-19T18:28:54.858Z"
   },
   {
    "duration": 5,
    "start_time": "2023-04-19T18:28:55.616Z"
   }
  ],
  "kernelspec": {
   "display_name": "Python 3 (ipykernel)",
   "language": "python",
   "name": "python3"
  },
  "language_info": {
   "codemirror_mode": {
    "name": "ipython",
    "version": 3
   },
   "file_extension": ".py",
   "mimetype": "text/x-python",
   "name": "python",
   "nbconvert_exporter": "python",
   "pygments_lexer": "ipython3",
   "version": "3.10.9"
  },
  "toc": {
   "base_numbering": 1,
   "nav_menu": {},
   "number_sections": true,
   "sideBar": true,
   "skip_h1_title": true,
   "title_cell": "Table of Contents",
   "title_sidebar": "Contents",
   "toc_cell": false,
   "toc_position": {
    "height": "calc(100% - 180px)",
    "left": "10px",
    "top": "150px",
    "width": "165px"
   },
   "toc_section_display": true,
   "toc_window_display": true
  }
 },
 "nbformat": 4,
 "nbformat_minor": 2
}
