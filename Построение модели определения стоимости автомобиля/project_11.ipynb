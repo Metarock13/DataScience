{
 "cells": [
  {
   "cell_type": "markdown",
   "metadata": {},
   "source": [
    "# Определение стоимости автомобилей"
   ]
  },
  {
   "cell_type": "markdown",
   "metadata": {},
   "source": [
    "Сервис по продаже автомобилей с пробегом «Не бит, не крашен» разрабатывает приложение для привлечения новых клиентов. В нём можно быстро узнать рыночную стоимость своего автомобиля. В вашем распоряжении исторические данные: технические характеристики, комплектации и цены автомобилей. Вам нужно построить модель для определения стоимости. \n",
    "\n",
    "Заказчику важны:\n",
    "\n",
    "- качество предсказания;\n",
    "- скорость предсказания;\n",
    "- время обучения."
   ]
  },
  {
   "cell_type": "markdown",
   "metadata": {},
   "source": [
    "**Описание данных**\n",
    "\n",
    "Признаки\n",
    "\n",
    "DateCrawled — дата скачивания анкеты из базы\n",
    "\n",
    "VehicleType — тип автомобильного кузова\n",
    "\n",
    "RegistrationYear — год регистрации автомобиля\n",
    "\n",
    "Gearbox — тип коробки передач\n",
    "\n",
    "Power — мощность (л. с.)\n",
    "\n",
    "Model — модель автомобиля\n",
    "\n",
    "Kilometer — пробег (км)\n",
    "\n",
    "RegistrationMonth — месяц регистрации автомобиля\n",
    "\n",
    "FuelType — тип топлива\n",
    "\n",
    "Brand — марка автомобиля\n",
    "\n",
    "Repaired — была машина в ремонте или нет\n",
    "\n",
    "DateCreated — дата создания анкеты\n",
    "\n",
    "NumberOfPictures — количество фотографий автомобиля\n",
    "\n",
    "PostalCode — почтовый индекс владельца анкеты (пользователя)\n",
    "\n",
    "LastSeen — дата последней активности пользователя\n",
    "\n",
    "Целевой признак\n",
    "\n",
    "Price — цена (евро)"
   ]
  },
  {
   "cell_type": "markdown",
   "metadata": {},
   "source": [
    "## Подготовка данных"
   ]
  },
  {
   "cell_type": "code",
   "execution_count": 1,
   "metadata": {},
   "outputs": [
    {
     "name": "stdout",
     "output_type": "stream",
     "text": [
      "Defaulting to user installation because normal site-packages is not writeable\n",
      "Requirement already satisfied: lightgbm in c:\\users\\metar\\appdata\\roaming\\python\\python39\\site-packages (3.3.5)\n",
      "Requirement already satisfied: wheel in c:\\programdata\\anaconda3\\lib\\site-packages (from lightgbm) (0.37.1)\n",
      "Requirement already satisfied: scipy in c:\\programdata\\anaconda3\\lib\\site-packages (from lightgbm) (1.9.1)\n",
      "Requirement already satisfied: scikit-learn!=0.22.0 in c:\\programdata\\anaconda3\\lib\\site-packages (from lightgbm) (1.0.2)\n",
      "Requirement already satisfied: numpy in c:\\programdata\\anaconda3\\lib\\site-packages (from lightgbm) (1.21.5)\n",
      "Requirement already satisfied: joblib>=0.11 in c:\\programdata\\anaconda3\\lib\\site-packages (from scikit-learn!=0.22.0->lightgbm) (1.1.0)\n",
      "Requirement already satisfied: threadpoolctl>=2.0.0 in c:\\programdata\\anaconda3\\lib\\site-packages (from scikit-learn!=0.22.0->lightgbm) (2.2.0)\n"
     ]
    }
   ],
   "source": [
    "!pip install lightgbm"
   ]
  },
  {
   "cell_type": "code",
   "execution_count": 2,
   "metadata": {},
   "outputs": [],
   "source": [
    "import pandas as pd\n",
    "from sklearn.model_selection import train_test_split\n",
    "from sklearn.tree import DecisionTreeRegressor\n",
    "from sklearn.ensemble import RandomForestRegressor\n",
    "from sklearn.metrics import mean_squared_error\n",
    "import lightgbm as lgb\n",
    "from sklearn.preprocessing import OrdinalEncoder"
   ]
  },
  {
   "cell_type": "code",
   "execution_count": 3,
   "metadata": {},
   "outputs": [],
   "source": [
    "data = pd.read_csv('datasets/autos.csv')"
   ]
  },
  {
   "cell_type": "code",
   "execution_count": 4,
   "metadata": {},
   "outputs": [
    {
     "name": "stdout",
     "output_type": "stream",
     "text": [
      "<class 'pandas.core.frame.DataFrame'>\n",
      "RangeIndex: 354369 entries, 0 to 354368\n",
      "Data columns (total 16 columns):\n",
      " #   Column             Non-Null Count   Dtype \n",
      "---  ------             --------------   ----- \n",
      " 0   DateCrawled        354369 non-null  object\n",
      " 1   Price              354369 non-null  int64 \n",
      " 2   VehicleType        316879 non-null  object\n",
      " 3   RegistrationYear   354369 non-null  int64 \n",
      " 4   Gearbox            334536 non-null  object\n",
      " 5   Power              354369 non-null  int64 \n",
      " 6   Model              334664 non-null  object\n",
      " 7   Kilometer          354369 non-null  int64 \n",
      " 8   RegistrationMonth  354369 non-null  int64 \n",
      " 9   FuelType           321474 non-null  object\n",
      " 10  Brand              354369 non-null  object\n",
      " 11  Repaired           283215 non-null  object\n",
      " 12  DateCreated        354369 non-null  object\n",
      " 13  NumberOfPictures   354369 non-null  int64 \n",
      " 14  PostalCode         354369 non-null  int64 \n",
      " 15  LastSeen           354369 non-null  object\n",
      "dtypes: int64(7), object(9)\n",
      "memory usage: 43.3+ MB\n"
     ]
    }
   ],
   "source": [
    "data.info()"
   ]
  },
  {
   "cell_type": "code",
   "execution_count": 5,
   "metadata": {},
   "outputs": [
    {
     "data": {
      "text/plain": [
       "DateCrawled              0\n",
       "Price                    0\n",
       "VehicleType          37490\n",
       "RegistrationYear         0\n",
       "Gearbox              19833\n",
       "Power                    0\n",
       "Model                19705\n",
       "Kilometer                0\n",
       "RegistrationMonth        0\n",
       "FuelType             32895\n",
       "Brand                    0\n",
       "Repaired             71154\n",
       "DateCreated              0\n",
       "NumberOfPictures         0\n",
       "PostalCode               0\n",
       "LastSeen                 0\n",
       "dtype: int64"
      ]
     },
     "execution_count": 5,
     "metadata": {},
     "output_type": "execute_result"
    }
   ],
   "source": [
    "data.isna().sum()"
   ]
  },
  {
   "cell_type": "markdown",
   "metadata": {},
   "source": [
    "У некоторых столбцов отсутствуют данные. Невозможно заменить их на основе других столбцов, и использование значения \"неизвестно\" может привести к искажению результатов. Поскольку пропущенные значения составляют небольшую долю от общего объема данных, можем удалить их."
   ]
  },
  {
   "cell_type": "code",
   "execution_count": 7,
   "metadata": {},
   "outputs": [],
   "source": [
    "data[\"Repaired\"] = data[\"Repaired\"].fillna(\"yes\")\n",
    "data['VehicleType'] = data['VehicleType'].fillna('Unknown')\n",
    "data['Gearbox'] = data['Gearbox'].fillna('Unknown')\n",
    "data['Model'] = data['Model'].fillna('Unknown')\n",
    "data[\"FuelType\"] = data[\"FuelType\"].fillna('Unknown')"
   ]
  },
  {
   "cell_type": "markdown",
   "metadata": {},
   "source": [
    "Приведем названия столбцов к нижнему регистру."
   ]
  },
  {
   "cell_type": "code",
   "execution_count": 8,
   "metadata": {},
   "outputs": [],
   "source": [
    "data.columns = data.columns.str.lower()"
   ]
  },
  {
   "cell_type": "markdown",
   "metadata": {},
   "source": [
    "Проверим, присутствуют ли дубликаты, и если таковые обнаружатся, удалим их."
   ]
  },
  {
   "cell_type": "code",
   "execution_count": 9,
   "metadata": {},
   "outputs": [
    {
     "data": {
      "text/plain": [
       "4"
      ]
     },
     "execution_count": 9,
     "metadata": {},
     "output_type": "execute_result"
    }
   ],
   "source": [
    "data.duplicated().sum()"
   ]
  },
  {
   "cell_type": "code",
   "execution_count": 10,
   "metadata": {},
   "outputs": [],
   "source": [
    "data = data.drop_duplicates().reset_index(drop=True)"
   ]
  },
  {
   "cell_type": "markdown",
   "metadata": {},
   "source": [
    "Исключим из анализа столбцы, которые не являются необходимыми для наших дальнейших задач, так как они не содержат значимой информации для нас."
   ]
  },
  {
   "cell_type": "code",
   "execution_count": 11,
   "metadata": {},
   "outputs": [],
   "source": [
    "data = data.drop([\"datecrawled\",\"datecreated\",\"lastseen\",\"numberofpictures\",\"postalcode\"],axis = 1)"
   ]
  },
  {
   "cell_type": "code",
   "execution_count": 12,
   "metadata": {},
   "outputs": [
    {
     "data": {
      "text/html": [
       "<div>\n",
       "<style scoped>\n",
       "    .dataframe tbody tr th:only-of-type {\n",
       "        vertical-align: middle;\n",
       "    }\n",
       "\n",
       "    .dataframe tbody tr th {\n",
       "        vertical-align: top;\n",
       "    }\n",
       "\n",
       "    .dataframe thead th {\n",
       "        text-align: right;\n",
       "    }\n",
       "</style>\n",
       "<table border=\"1\" class=\"dataframe\">\n",
       "  <thead>\n",
       "    <tr style=\"text-align: right;\">\n",
       "      <th></th>\n",
       "      <th>price</th>\n",
       "      <th>vehicletype</th>\n",
       "      <th>registrationyear</th>\n",
       "      <th>gearbox</th>\n",
       "      <th>power</th>\n",
       "      <th>model</th>\n",
       "      <th>kilometer</th>\n",
       "      <th>registrationmonth</th>\n",
       "      <th>fueltype</th>\n",
       "      <th>brand</th>\n",
       "      <th>repaired</th>\n",
       "    </tr>\n",
       "  </thead>\n",
       "  <tbody>\n",
       "    <tr>\n",
       "      <th>0</th>\n",
       "      <td>480</td>\n",
       "      <td>Unknown</td>\n",
       "      <td>1993</td>\n",
       "      <td>manual</td>\n",
       "      <td>0</td>\n",
       "      <td>golf</td>\n",
       "      <td>150000</td>\n",
       "      <td>0</td>\n",
       "      <td>petrol</td>\n",
       "      <td>volkswagen</td>\n",
       "      <td>yes</td>\n",
       "    </tr>\n",
       "    <tr>\n",
       "      <th>1</th>\n",
       "      <td>18300</td>\n",
       "      <td>coupe</td>\n",
       "      <td>2011</td>\n",
       "      <td>manual</td>\n",
       "      <td>190</td>\n",
       "      <td>Unknown</td>\n",
       "      <td>125000</td>\n",
       "      <td>5</td>\n",
       "      <td>gasoline</td>\n",
       "      <td>audi</td>\n",
       "      <td>yes</td>\n",
       "    </tr>\n",
       "    <tr>\n",
       "      <th>2</th>\n",
       "      <td>9800</td>\n",
       "      <td>suv</td>\n",
       "      <td>2004</td>\n",
       "      <td>auto</td>\n",
       "      <td>163</td>\n",
       "      <td>grand</td>\n",
       "      <td>125000</td>\n",
       "      <td>8</td>\n",
       "      <td>gasoline</td>\n",
       "      <td>jeep</td>\n",
       "      <td>yes</td>\n",
       "    </tr>\n",
       "    <tr>\n",
       "      <th>3</th>\n",
       "      <td>1500</td>\n",
       "      <td>small</td>\n",
       "      <td>2001</td>\n",
       "      <td>manual</td>\n",
       "      <td>75</td>\n",
       "      <td>golf</td>\n",
       "      <td>150000</td>\n",
       "      <td>6</td>\n",
       "      <td>petrol</td>\n",
       "      <td>volkswagen</td>\n",
       "      <td>no</td>\n",
       "    </tr>\n",
       "    <tr>\n",
       "      <th>4</th>\n",
       "      <td>3600</td>\n",
       "      <td>small</td>\n",
       "      <td>2008</td>\n",
       "      <td>manual</td>\n",
       "      <td>69</td>\n",
       "      <td>fabia</td>\n",
       "      <td>90000</td>\n",
       "      <td>7</td>\n",
       "      <td>gasoline</td>\n",
       "      <td>skoda</td>\n",
       "      <td>no</td>\n",
       "    </tr>\n",
       "  </tbody>\n",
       "</table>\n",
       "</div>"
      ],
      "text/plain": [
       "   price vehicletype  registrationyear gearbox  power    model  kilometer  \\\n",
       "0    480     Unknown              1993  manual      0     golf     150000   \n",
       "1  18300       coupe              2011  manual    190  Unknown     125000   \n",
       "2   9800         suv              2004    auto    163    grand     125000   \n",
       "3   1500       small              2001  manual     75     golf     150000   \n",
       "4   3600       small              2008  manual     69    fabia      90000   \n",
       "\n",
       "   registrationmonth  fueltype       brand repaired  \n",
       "0                  0    petrol  volkswagen      yes  \n",
       "1                  5  gasoline        audi      yes  \n",
       "2                  8  gasoline        jeep      yes  \n",
       "3                  6    petrol  volkswagen       no  \n",
       "4                  7  gasoline       skoda       no  "
      ]
     },
     "execution_count": 12,
     "metadata": {},
     "output_type": "execute_result"
    }
   ],
   "source": [
    "data.head()"
   ]
  },
  {
   "cell_type": "markdown",
   "metadata": {},
   "source": [
    "Осуществим проверку на наличие аномалий."
   ]
  },
  {
   "cell_type": "code",
   "execution_count": 13,
   "metadata": {},
   "outputs": [
    {
     "data": {
      "text/plain": [
       "array([  480, 18300,  9800, ..., 12395, 18429, 10985], dtype=int64)"
      ]
     },
     "execution_count": 13,
     "metadata": {},
     "output_type": "execute_result"
    }
   ],
   "source": [
    "data.price.unique()"
   ]
  },
  {
   "cell_type": "code",
   "execution_count": 14,
   "metadata": {},
   "outputs": [],
   "source": [
    "data = data.query('price >= 50')"
   ]
  },
  {
   "cell_type": "code",
   "execution_count": 15,
   "metadata": {},
   "outputs": [
    {
     "data": {
      "text/plain": [
       "array(['Unknown', 'coupe', 'suv', 'small', 'sedan', 'convertible', 'bus',\n",
       "       'wagon', 'other'], dtype=object)"
      ]
     },
     "execution_count": 15,
     "metadata": {},
     "output_type": "execute_result"
    }
   ],
   "source": [
    "data.vehicletype.unique()"
   ]
  },
  {
   "cell_type": "code",
   "execution_count": 16,
   "metadata": {},
   "outputs": [
    {
     "data": {
      "text/plain": [
       "array([1993, 2011, 2004, 2001, 2008, 1995, 2014, 1998, 2005, 1910, 2016,\n",
       "       2007, 2009, 2002, 2018, 1997, 1990, 2017, 1981, 2003, 1994, 1991,\n",
       "       1984, 2006, 1999, 2012, 2010, 2000, 1992, 2013, 1996, 1985, 1989,\n",
       "       2015, 1982, 1976, 1983, 1973, 1969, 1971, 1987, 1986, 1988, 1980,\n",
       "       1970, 1965, 1945, 1925, 1974, 1979, 1955, 1978, 1972, 1968, 1977,\n",
       "       1961, 1966, 1975, 1963, 1964, 1960, 1958, 1967, 1956, 3200, 1000,\n",
       "       1941, 9999, 8888, 1500, 2200, 4100, 1962, 1929, 1957, 1940, 3000,\n",
       "       2066, 1949, 2019, 1937, 1951, 1800, 1959, 1953, 1954, 1234, 8000,\n",
       "       5300, 9000, 2900, 6000, 5900, 5911, 1400, 5000, 1950, 4000, 1948,\n",
       "       1952, 8500, 1932, 1255, 3700, 3800, 4800, 1942, 7000, 1935, 1933,\n",
       "       1936, 1923, 2290, 1930, 1001, 9450, 1944, 2500, 1943, 1938, 1934,\n",
       "       1928, 5555, 5600, 1600, 1111, 2222, 1039, 1300, 2800, 1931, 4500,\n",
       "       1602, 7800, 1947, 1927, 7100, 8200, 1946], dtype=int64)"
      ]
     },
     "execution_count": 16,
     "metadata": {},
     "output_type": "execute_result"
    }
   ],
   "source": [
    "data.registrationyear.unique()"
   ]
  },
  {
   "cell_type": "markdown",
   "metadata": {},
   "source": [
    "Обнаружена аномалия, исключим из данных значения, предшествующие 1900 году и превышающие 2016 год."
   ]
  },
  {
   "cell_type": "code",
   "execution_count": 17,
   "metadata": {},
   "outputs": [],
   "source": [
    "data = data.loc[(data['registrationyear'] <= 2016) & (data['registrationyear'] >= 1900)]"
   ]
  },
  {
   "cell_type": "code",
   "execution_count": 18,
   "metadata": {},
   "outputs": [
    {
     "data": {
      "text/plain": [
       "array(['manual', 'auto', 'Unknown'], dtype=object)"
      ]
     },
     "execution_count": 18,
     "metadata": {},
     "output_type": "execute_result"
    }
   ],
   "source": [
    "data.gearbox.unique()"
   ]
  },
  {
   "cell_type": "code",
   "execution_count": 19,
   "metadata": {},
   "outputs": [
    {
     "data": {
      "text/plain": [
       "array([    0,   190,   163,    75,    69,   102,   109,   125,   101,\n",
       "         105,   140,   115,   131,    60,   136,   160,   231,    50,\n",
       "         118,   193,    99,   113,   218,   122,   129,    70,   306,\n",
       "          95,    61,   177,   170,    55,   143,   232,   150,   156,\n",
       "          80,    82,    90,   155,    54,   185,    87,   180,    86,\n",
       "          84,   224,   235,   200,   178,   265,    77,   110,   144,\n",
       "         120,   286,   116,   184,   126,   204,    88,   194,    64,\n",
       "         305,   197,   179,   250,    45,   313,    41,   165,    98,\n",
       "         130,   114,   211,    56,   201,   213,    58,   107,    83,\n",
       "         174,   100,   220,    73,   192,    68,    66,   299,    74,\n",
       "          52,   147,   310,    71,    97,    65,   239,   203,     5,\n",
       "         300,   103,    85,   258,   320,    63,    81,   148,    44,\n",
       "         145,   280,   260,   104,   188,   333,   186,   117,   141,\n",
       "         132,   234,   158,    39,    92,    51,   135,    59,   230,\n",
       "          53,   209,    43,   146,    67,   106,   166,   276,   344,\n",
       "          72,   249,   237,   245,   111,   326,   279,    23,   138,\n",
       "         175,    96,   226,    26,    37,   301,   334,   128,   133,\n",
       "         124,    33,   219,   241,   167,    94,   182,   196,   238,\n",
       "        1398,   228,   112,    48,   272,   139,    79,   256,   360,\n",
       "         243,   252,   396,   340,   121,   345,   187,   289,   222,\n",
       "         198,   284,   450,   233,   387,   347,   172,    57,   137,\n",
       "         212,   476,   314,    30,     7,    47,   173,   290,   207,\n",
       "         205,   171,    78,    91,    89,   349,    40,   108,   325,\n",
       "          76,   350,   953,    93,   142,   343,   199,   119,   164,\n",
       "          16,   264,   152,   367,   240,   208,   210,    46,   435,\n",
       "        1001,   225,   127,   176,   161,   603,   307,   354,    35,\n",
       "         206,   771,   355,   273,   223,   255,   151,   123,   154,\n",
       "         149,  7515,  1400,   268,   620,   400,   275,    34,     2,\n",
       "         242,  1779,   285,   162,   328,  1753,   329,   134,   420,\n",
       "         247,   168,   215,    18,   330,   283,   500,    62,    10,\n",
       "         183,   254,    15,   321,   315,   952,   169,   600,   181,\n",
       "         426,   379,    22,   157,    42,   195,   553,     4,   309,\n",
       "         507,   381,   271,   440,   189,   401,  2729,    21,   236,\n",
       "        1240,  1704,   521,     1,  1900,   270,    24,   159,   292,\n",
       "         515,  1200,   303,    29,    38,  1993,    14,   216,   610,\n",
       "         504,    49,   267,   331,   363,   261,   385,  1011,   253,\n",
       "         696, 10520,   376,   227,   311,    27,   217,    20,   322,\n",
       "        1999,    11,  1056,    25,   394,    12,   298,   296,  1659,\n",
       "         294,   551,  6920,   246,    17,  1625,   390,   221,  1367,\n",
       "         259,   606,  1597,   266,   374,   392,     9,   405,    13,\n",
       "         262,   601,   430,   295,     8,   411,   900,   541,  7512,\n",
       "         382, 10218,  7544,   999,   287,    19,   214,   751,   297,\n",
       "        1090,   457,   282,   602,   388,     6,  1000,  5411,   335,\n",
       "        1360,   202,  3750,   805,  1062,  2017,   750,  1024, 11530,\n",
       "         364,  1796,   269,   460,  1002,   288,  1780, 12012, 17932,\n",
       "         316,  2005,  1800,  1399,   191,   278,   380,   257,   449,\n",
       "        1256,   153,  1653,   520,   560,   281, 12510,     3,  1500,\n",
       "         386,    32,  1202,  2016,  1436,  1405,   671,   274,  1288,\n",
       "        1055, 10912,  6226,  1115,   277,  1105,   341,  1223,  2340,\n",
       "        8404,  1968,   338,   445,  1920,   370,   517,  4400, 10710,\n",
       "       10522,   431,  1164, 11509,   371,  1501,   428, 11635,   304,\n",
       "         348,  1703,  1995,   579, 10000,   580,   408,    31,   358,\n",
       "        1403,   489,  5575, 19211,   585,   365,   353,   490,   352,\n",
       "        1801,   346,   550,  3199,   800,  7508,  1312,  1937,   950,\n",
       "        4700,  1600,  3454, 19208,   251,   850,   337,   700,  2331,\n",
       "        2789,   487,    36,   519,  2461,  6006,  3500,  5815,  6018,\n",
       "        1781,  1503,   612,  1596,   229,  1506,  5809, 15020,  1300,\n",
       "        5867,  2172,  1598, 17410,  1363,   584,  1054,   851,  1339,\n",
       "         318,   510,   525,    28,  1151,   685,  6011,   317,   703,\n",
       "        1771, 15001,   514,   362,   332,   324,  6045,   425,   308,\n",
       "        6010,   475,   903,   640,  2000,   248,   651,  2799,   368,\n",
       "       17011,   505,  1103,  1521,   351, 16051,   398,  1998, 10311,\n",
       "         409,  1230, 17019, 12684,  8259,  1895,  1317,   871,   909,\n",
       "        1595,   776, 17700, 11011,  1199,   459,   357,  1162,  1120,\n",
       "       15033,  1896,   339,   361,  6512,   454,   650, 13616,   604,\n",
       "       16312,  1082,   336, 20000,   416,   678,  1401,  1021,  1870,\n",
       "         375, 13636,  1250,  6012,   323,  1158,  2009,   902,  6062,\n",
       "        1275,   572,   244,   399,  1016,   743,  1221,  2402,  1362,\n",
       "         544,   645,   907,   702,  1003,  1432,  9013,   442,  1017,\n",
       "       15017, 10910,  1992,   540,  2018, 11025,  1433,  1701,  2792,\n",
       "        1502,  1239,  1390, 14009,  1160, 11111,  1783,  9007,   923,\n",
       "        1149,   754,  1988,  2004,  5420,  1793,  1324,   356, 12512,\n",
       "        7511,  1299,   293, 19312,  1079,  1689,   998,  1100,  1933,\n",
       "         508, 16311,   682,  1922,  7529,   732,  2389,  1005,  1707,\n",
       "        1416,  1700,  8500,  1012, 10110,   421,  4507,  1631,  7518,\n",
       "         377,  1004,  1799,  9012,  2007,  2598,  1548,  1241],\n",
       "      dtype=int64)"
      ]
     },
     "execution_count": 19,
     "metadata": {},
     "output_type": "execute_result"
    }
   ],
   "source": [
    "data.power.unique()"
   ]
  },
  {
   "cell_type": "markdown",
   "metadata": {},
   "source": [
    "Обнаружена аномалия, исключим из данных значения мощности автомобиля, превышающие 700."
   ]
  },
  {
   "cell_type": "code",
   "execution_count": 20,
   "metadata": {},
   "outputs": [],
   "source": [
    "data = data.loc[data['power'] <= 700]"
   ]
  },
  {
   "cell_type": "markdown",
   "metadata": {},
   "source": [
    "Исключим из данных значения можности автомобиля, равный 0"
   ]
  },
  {
   "cell_type": "code",
   "execution_count": 21,
   "metadata": {},
   "outputs": [],
   "source": [
    "data = data.drop(data[data['power'] == 0].index)"
   ]
  },
  {
   "cell_type": "code",
   "execution_count": 22,
   "metadata": {},
   "outputs": [
    {
     "data": {
      "text/plain": [
       "array(['Unknown', 'grand', 'golf', 'fabia', '3er', '2_reihe', 'c_max',\n",
       "       '3_reihe', 'passat', 'navara', 'polo', 'twingo', 'a_klasse',\n",
       "       'scirocco', '5er', 'arosa', 'other', 'civic', 'transporter',\n",
       "       'punto', 'e_klasse', 'clio', 'kadett', 'one', 'fortwo', '1er',\n",
       "       'b_klasse', 'a8', 'jetta', 'fiesta', 'c_klasse', 'micra', 'vito',\n",
       "       'sprinter', 'astra', '156', 'escort', 'forester', 'xc_reihe',\n",
       "       'scenic', 'ka', 'a1', 'focus', 'a4', 'tt', 'a6', 'jazz', 'omega',\n",
       "       'slk', '7er', 'combo', 'corsa', '80', '147', 'z_reihe', 'sorento',\n",
       "       'ibiza', 'mustang', 'eos', 'touran', 'getz', 'insignia', 'almera',\n",
       "       'megane', 'a3', 'lupo', 'r19', 'caddy', 'mondeo', 'cordoba',\n",
       "       'colt', 'impreza', 'vectra', 'berlingo', 'tiguan', '6_reihe', 'c4',\n",
       "       'panda', 'up', 'i_reihe', 'ceed', 'kangoo', '5_reihe', 'yeti',\n",
       "       'octavia', 'zafira', 'mii', 'rx_reihe', '6er', 'modus', 'fox',\n",
       "       'matiz', 'beetle', 'rio', 'touareg', 'logan', 'spider', 'cuore',\n",
       "       's_max', 'a2', 'galaxy', 'c3', 'viano', 's_klasse', '1_reihe',\n",
       "       'sharan', 'avensis', 'roomster', 'sl', 'kaefer', 'santa', 'leon',\n",
       "       'cooper', '4_reihe', 'a5', 'sportage', 'laguna', 'ptcruiser',\n",
       "       'clk', 'primera', 'espace', 'exeo', '159', 'transit', 'juke',\n",
       "       'x_reihe', 'v40', 'carisma', 'accord', 'corolla', 'lanos',\n",
       "       'phaeton', 'verso', 'swift', 'rav', 'qashqai', 'picanto',\n",
       "       'boxster', 'superb', 'stilo', 'alhambra', 'roadster', 'ypsilon',\n",
       "       'galant', 'justy', '90', 'sirion', 'signum', 'crossfire', 'agila',\n",
       "       'duster', 'v50', 'mx_reihe', '500', 'meriva', 'c_reihe',\n",
       "       'v_klasse', 'm_klasse', 'yaris', 'c5', 'aygo', 'seicento', 'cc',\n",
       "       'carnival', 'fusion', '911', 'bora', 'forfour', 'cl', 'tigra',\n",
       "       '300c', '100', 'cr_reihe', 'spark', 'kuga', 'x_type', 'ducato',\n",
       "       's_type', 'x_trail', 'toledo', 'altea', 'voyager', 'calibra',\n",
       "       'v70', 'bravo', 'tucson', 'c1', 'citigo', 'jimny', 'cayenne',\n",
       "       'wrangler', 'lybra', 'lancer', 'captiva', 'discovery',\n",
       "       'freelander', 'sandero', 'q7', 'note', 'antara', '900', 'cherokee',\n",
       "       'clubman', 'defender', 'cx_reihe', 'legacy', 'pajero', 'auris',\n",
       "       'c2', 'niva', 's60', 'm_reihe', 'nubira', 'vivaro', 'g_klasse',\n",
       "       'lodgy', 'range_rover', '601', '850', 'q3', 'serie_2', 'glk',\n",
       "       'charade', 'croma', 'outlander', 'doblo', 'musa', '9000', 'kalos',\n",
       "       'v60', '200', '145', 'b_max', 'range_rover_sport', 'aveo', 'move',\n",
       "       'rangerover', 'q5', 'range_rover_evoque', 'materia', 'delta',\n",
       "       'terios', 'gl', 'kalina', 'elefantino', 'i3', 'samara', 'amarok',\n",
       "       'kappa', 'serie_3'], dtype=object)"
      ]
     },
     "execution_count": 22,
     "metadata": {},
     "output_type": "execute_result"
    }
   ],
   "source": [
    "data.model.unique()"
   ]
  },
  {
   "cell_type": "code",
   "execution_count": 23,
   "metadata": {},
   "outputs": [
    {
     "data": {
      "text/plain": [
       "array([125000, 150000,  90000,  30000,  70000, 100000,  60000,   5000,\n",
       "        20000,  80000,  50000,  40000,  10000], dtype=int64)"
      ]
     },
     "execution_count": 23,
     "metadata": {},
     "output_type": "execute_result"
    }
   ],
   "source": [
    "data.kilometer.unique()"
   ]
  },
  {
   "cell_type": "code",
   "execution_count": 24,
   "metadata": {},
   "outputs": [
    {
     "data": {
      "text/plain": [
       "array([ 5,  8,  6,  7, 10,  0, 12, 11,  2,  3,  1,  4,  9], dtype=int64)"
      ]
     },
     "execution_count": 24,
     "metadata": {},
     "output_type": "execute_result"
    }
   ],
   "source": [
    "data.registrationmonth.unique()"
   ]
  },
  {
   "cell_type": "code",
   "execution_count": 25,
   "metadata": {},
   "outputs": [
    {
     "data": {
      "text/plain": [
       "array(['gasoline', 'petrol', 'Unknown', 'lpg', 'other', 'hybrid', 'cng',\n",
       "       'electric'], dtype=object)"
      ]
     },
     "execution_count": 25,
     "metadata": {},
     "output_type": "execute_result"
    }
   ],
   "source": [
    "data.fueltype.unique()"
   ]
  },
  {
   "cell_type": "code",
   "execution_count": 26,
   "metadata": {},
   "outputs": [
    {
     "data": {
      "text/plain": [
       "array(['audi', 'jeep', 'volkswagen', 'skoda', 'bmw', 'peugeot', 'ford',\n",
       "       'mazda', 'nissan', 'renault', 'mercedes_benz', 'seat', 'honda',\n",
       "       'fiat', 'opel', 'mini', 'smart', 'hyundai', 'alfa_romeo', 'subaru',\n",
       "       'volvo', 'mitsubishi', 'kia', 'suzuki', 'lancia', 'citroen',\n",
       "       'toyota', 'chevrolet', 'dacia', 'sonstige_autos', 'daihatsu',\n",
       "       'chrysler', 'jaguar', 'daewoo', 'rover', 'porsche', 'saab',\n",
       "       'trabant', 'land_rover', 'lada'], dtype=object)"
      ]
     },
     "execution_count": 26,
     "metadata": {},
     "output_type": "execute_result"
    }
   ],
   "source": [
    "data.brand.unique()"
   ]
  },
  {
   "cell_type": "code",
   "execution_count": 27,
   "metadata": {},
   "outputs": [
    {
     "data": {
      "text/plain": [
       "array(['yes', 'no'], dtype=object)"
      ]
     },
     "execution_count": 27,
     "metadata": {},
     "output_type": "execute_result"
    }
   ],
   "source": [
    "data.repaired.unique()"
   ]
  },
  {
   "cell_type": "code",
   "execution_count": 28,
   "metadata": {},
   "outputs": [
    {
     "data": {
      "text/plain": [
       "23468"
      ]
     },
     "execution_count": 28,
     "metadata": {},
     "output_type": "execute_result"
    }
   ],
   "source": [
    "data.duplicated().sum()"
   ]
  },
  {
   "cell_type": "code",
   "execution_count": 29,
   "metadata": {},
   "outputs": [],
   "source": [
    "data = data.drop_duplicates()"
   ]
  },
  {
   "cell_type": "code",
   "execution_count": 30,
   "metadata": {},
   "outputs": [
    {
     "data": {
      "text/plain": [
       "0"
      ]
     },
     "execution_count": 30,
     "metadata": {},
     "output_type": "execute_result"
    }
   ],
   "source": [
    "data.duplicated().sum()"
   ]
  },
  {
   "cell_type": "markdown",
   "metadata": {},
   "source": [
    "При анализе данных были обнаружены пропущенные значения, которые были удалены. Также были обнаружены и удалены дубликаты. Были исключены из данных столбцы, не содержащие значимой информации. Были обработаны аномалии в столбцах, относящихся к году регистрации и мощности автомобилей."
   ]
  },
  {
   "cell_type": "markdown",
   "metadata": {},
   "source": [
    "## Обучение моделей"
   ]
  },
  {
   "cell_type": "code",
   "execution_count": 31,
   "metadata": {},
   "outputs": [],
   "source": [
    "features=data.drop(['price'],axis=1)\n",
    "target=data['price']"
   ]
  },
  {
   "cell_type": "code",
   "execution_count": 32,
   "metadata": {},
   "outputs": [],
   "source": [
    "col=['vehicletype', 'gearbox','model',\n",
    "     'fueltype', 'brand', 'repaired']"
   ]
  },
  {
   "cell_type": "markdown",
   "metadata": {},
   "source": [
    "Делим данные на выборки"
   ]
  },
  {
   "cell_type": "code",
   "execution_count": 33,
   "metadata": {},
   "outputs": [
    {
     "data": {
      "text/plain": [
       "((163414, 10), (54472, 10), (54472, 10))"
      ]
     },
     "execution_count": 33,
     "metadata": {},
     "output_type": "execute_result"
    }
   ],
   "source": [
    "features_train, features_valid_test, target_train, target_valid_test  = train_test_split(features,target, test_size=0.4, random_state=254)\n",
    "features_valid, features_test, target_valid, target_test = train_test_split(features_valid_test, target_valid_test, test_size=0.5, random_state=12345)\n",
    "\n",
    "features_train.shape, features_valid.shape, features_test.shape"
   ]
  },
  {
   "cell_type": "markdown",
   "metadata": {},
   "source": [
    "Копируем данные для кодировки"
   ]
  },
  {
   "cell_type": "code",
   "execution_count": 34,
   "metadata": {},
   "outputs": [],
   "source": [
    "features_train_oe = features_train.copy()\n",
    "features_valid_oe = features_valid.copy()\n",
    "features_test_oe = features_test.copy()"
   ]
  },
  {
   "cell_type": "code",
   "execution_count": 35,
   "metadata": {},
   "outputs": [
    {
     "data": {
      "text/html": [
       "<div>\n",
       "<style scoped>\n",
       "    .dataframe tbody tr th:only-of-type {\n",
       "        vertical-align: middle;\n",
       "    }\n",
       "\n",
       "    .dataframe tbody tr th {\n",
       "        vertical-align: top;\n",
       "    }\n",
       "\n",
       "    .dataframe thead th {\n",
       "        text-align: right;\n",
       "    }\n",
       "</style>\n",
       "<table border=\"1\" class=\"dataframe\">\n",
       "  <thead>\n",
       "    <tr style=\"text-align: right;\">\n",
       "      <th></th>\n",
       "      <th>vehicletype</th>\n",
       "      <th>registrationyear</th>\n",
       "      <th>gearbox</th>\n",
       "      <th>power</th>\n",
       "      <th>model</th>\n",
       "      <th>kilometer</th>\n",
       "      <th>registrationmonth</th>\n",
       "      <th>fueltype</th>\n",
       "      <th>brand</th>\n",
       "      <th>repaired</th>\n",
       "    </tr>\n",
       "  </thead>\n",
       "  <tbody>\n",
       "    <tr>\n",
       "      <th>178404</th>\n",
       "      <td>6.0</td>\n",
       "      <td>2003</td>\n",
       "      <td>2.0</td>\n",
       "      <td>60</td>\n",
       "      <td>5.0</td>\n",
       "      <td>150000</td>\n",
       "      <td>6</td>\n",
       "      <td>7.0</td>\n",
       "      <td>25.0</td>\n",
       "      <td>0.0</td>\n",
       "    </tr>\n",
       "    <tr>\n",
       "      <th>139764</th>\n",
       "      <td>5.0</td>\n",
       "      <td>2011</td>\n",
       "      <td>2.0</td>\n",
       "      <td>105</td>\n",
       "      <td>117.0</td>\n",
       "      <td>125000</td>\n",
       "      <td>12</td>\n",
       "      <td>3.0</td>\n",
       "      <td>38.0</td>\n",
       "      <td>0.0</td>\n",
       "    </tr>\n",
       "    <tr>\n",
       "      <th>43021</th>\n",
       "      <td>8.0</td>\n",
       "      <td>2001</td>\n",
       "      <td>2.0</td>\n",
       "      <td>140</td>\n",
       "      <td>137.0</td>\n",
       "      <td>150000</td>\n",
       "      <td>10</td>\n",
       "      <td>7.0</td>\n",
       "      <td>27.0</td>\n",
       "      <td>1.0</td>\n",
       "    </tr>\n",
       "    <tr>\n",
       "      <th>200529</th>\n",
       "      <td>6.0</td>\n",
       "      <td>2004</td>\n",
       "      <td>2.0</td>\n",
       "      <td>98</td>\n",
       "      <td>76.0</td>\n",
       "      <td>150000</td>\n",
       "      <td>12</td>\n",
       "      <td>7.0</td>\n",
       "      <td>27.0</td>\n",
       "      <td>0.0</td>\n",
       "    </tr>\n",
       "    <tr>\n",
       "      <th>339321</th>\n",
       "      <td>8.0</td>\n",
       "      <td>2003</td>\n",
       "      <td>2.0</td>\n",
       "      <td>75</td>\n",
       "      <td>43.0</td>\n",
       "      <td>150000</td>\n",
       "      <td>3</td>\n",
       "      <td>3.0</td>\n",
       "      <td>24.0</td>\n",
       "      <td>1.0</td>\n",
       "    </tr>\n",
       "  </tbody>\n",
       "</table>\n",
       "</div>"
      ],
      "text/plain": [
       "        vehicletype  registrationyear  gearbox  power  model  kilometer  \\\n",
       "178404          6.0              2003      2.0     60    5.0     150000   \n",
       "139764          5.0              2011      2.0    105  117.0     125000   \n",
       "43021           8.0              2001      2.0    140  137.0     150000   \n",
       "200529          6.0              2004      2.0     98   76.0     150000   \n",
       "339321          8.0              2003      2.0     75   43.0     150000   \n",
       "\n",
       "        registrationmonth  fueltype  brand  repaired  \n",
       "178404                  6       7.0   25.0       0.0  \n",
       "139764                 12       3.0   38.0       0.0  \n",
       "43021                  10       7.0   27.0       1.0  \n",
       "200529                 12       7.0   27.0       0.0  \n",
       "339321                  3       3.0   24.0       1.0  "
      ]
     },
     "execution_count": 35,
     "metadata": {},
     "output_type": "execute_result"
    }
   ],
   "source": [
    "encoder = OrdinalEncoder(handle_unknown='use_encoded_value', unknown_value=-1)\n",
    "encoder.fit(features_train[col])\n",
    "features_train_oe[col] = encoder.transform(features_train_oe[col])\n",
    "features_valid_oe[col] = encoder.transform(features_valid_oe[col])\n",
    "features_test_oe[col] = encoder.transform(features_test_oe[col])\n",
    "features_test_oe.head()"
   ]
  },
  {
   "cell_type": "markdown",
   "metadata": {},
   "source": [
    "Проведем обучение модели дерева принятия решений"
   ]
  },
  {
   "cell_type": "code",
   "execution_count": 36,
   "metadata": {
    "scrolled": true
   },
   "outputs": [
    {
     "name": "stdout",
     "output_type": "stream",
     "text": [
      "Лучший результат: Глубина 12 , RMSE 1923.7199361444189\n",
      "Wall time: 5.39 s\n"
     ]
    }
   ],
   "source": [
    "%%time\n",
    "depth_final = 0\n",
    "rmse_final = 111110\n",
    "\n",
    "for depth in range(3, 20, 3):\n",
    "     model = DecisionTreeRegressor(random_state=12345, max_depth = depth)\n",
    "     model.fit(features_train_oe, target_train)\n",
    "     predictions = model.predict(features_valid_oe)\n",
    "     rmse = mean_squared_error(target_valid, predictions)**0.5\n",
    "\n",
    "     if rmse <  rmse_final :\n",
    "          rmse_final = rmse\n",
    "          depth_final = depth\n",
    "\n",
    "print('Лучший результат: Глубина', depth_final, ', RMSE', rmse_final )"
   ]
  },
  {
   "cell_type": "markdown",
   "metadata": {},
   "source": [
    "Проведем обучение модели, использующей алгоритм случайного леса."
   ]
  },
  {
   "cell_type": "code",
   "execution_count": 37,
   "metadata": {},
   "outputs": [
    {
     "name": "stdout",
     "output_type": "stream",
     "text": [
      "Лучший результат: Количество деревьев 5 , Глубина 4 , RMSE для случайного леса 2567.134303713294\n",
      "Wall time: 16.5 s\n"
     ]
    }
   ],
   "source": [
    "%%time\n",
    "depth_final = 0\n",
    "rmse_final = 111110\n",
    "est_final = 0\n",
    "\n",
    "for depth in range(1,5):\n",
    "     for est in range(5,20,5):\n",
    "          model = RandomForestRegressor(max_depth=depth, n_estimators=est, random_state=1234)\n",
    "          model.fit(features_train_oe, target_train)\n",
    "          predictions = model.predict(features_valid_oe)\n",
    "          rmse = mean_squared_error(target_valid, predictions)**0.5\n",
    "\n",
    "          if rmse <  rmse_final :\n",
    "               rmse_final = rmse\n",
    "               depth_final = depth\n",
    "               est_final = est\n",
    "\n",
    "print('Лучший результат: Количество деревьев', est_final, \", Глубина\",depth_final, ', RMSE для случайного леса', rmse_final)"
   ]
  },
  {
   "cell_type": "markdown",
   "metadata": {},
   "source": [
    "Проведем обучение модели, использующей алгоритм LGBMRegressor"
   ]
  },
  {
   "cell_type": "code",
   "execution_count": 38,
   "metadata": {},
   "outputs": [
    {
     "name": "stdout",
     "output_type": "stream",
     "text": [
      "Лучший результат: Параметры n_estimators 1000 , num_leaves 25 , RMSE для LightGBM 1576.881736930125\n",
      "Wall time: 1min 3s\n"
     ]
    }
   ],
   "source": [
    "%%time\n",
    "num_final = 0\n",
    "rmse_final = 111110\n",
    "est_final = 0\n",
    "\n",
    "for est in [100, 500, 1000]:\n",
    "     for num in [25, 400, 15]:\n",
    "          model = lgb.LGBMRegressor(n_estimators = est, num_leaves = num, random_state=12345)\n",
    "          model.fit(features_train_oe, target_train)\n",
    "          predictions= model.predict(features_valid_oe)\n",
    "          rmse = mean_squared_error(target_valid, predictions)**0.5\n",
    "\n",
    "          if rmse <  rmse_final :\n",
    "               rmse_final = rmse\n",
    "               num_final = num\n",
    "               est_final = est\n",
    "\n",
    "print('Лучший результат: Параметры n_estimators',  est_final,', num_leaves', num_final, ', RMSE для LightGBM', rmse_final)\n"
   ]
  },
  {
   "cell_type": "markdown",
   "metadata": {},
   "source": [
    "Среди трех обученных моделей - решающего дерева, случайного леса и LightGBM - модель LightGBM показала наилучший результат по метрике RMSE, достигнув значения 1576.881736930125."
   ]
  },
  {
   "cell_type": "markdown",
   "metadata": {},
   "source": [
    "## Анализ моделей"
   ]
  },
  {
   "cell_type": "code",
   "execution_count": 39,
   "metadata": {},
   "outputs": [
    {
     "name": "stdout",
     "output_type": "stream",
     "text": [
      "Wall time: 490 ms\n"
     ]
    },
    {
     "data": {
      "text/plain": [
       "DecisionTreeRegressor(max_depth=12, random_state=12345)"
      ]
     },
     "execution_count": 39,
     "metadata": {},
     "output_type": "execute_result"
    }
   ],
   "source": [
    "%%time\n",
    "model1 = DecisionTreeRegressor(random_state=12345, max_depth=12)\n",
    "model1.fit(features_train_oe, target_train)"
   ]
  },
  {
   "cell_type": "code",
   "execution_count": 40,
   "metadata": {},
   "outputs": [
    {
     "name": "stdout",
     "output_type": "stream",
     "text": [
      "1940.5570637149538\n",
      "Wall time: 15.5 ms\n"
     ]
    }
   ],
   "source": [
    "%%time\n",
    "predictions = model1.predict(features_test_oe)\n",
    "rmse = mean_squared_error(target_test, predictions)**0.5\n",
    "print(rmse)"
   ]
  },
  {
   "cell_type": "code",
   "execution_count": 41,
   "metadata": {},
   "outputs": [
    {
     "name": "stdout",
     "output_type": "stream",
     "text": [
      "Wall time: 1.65 s\n"
     ]
    },
    {
     "data": {
      "text/plain": [
       "RandomForestRegressor(max_depth=4, n_estimators=15, random_state=12345)"
      ]
     },
     "execution_count": 41,
     "metadata": {},
     "output_type": "execute_result"
    }
   ],
   "source": [
    "%%time\n",
    "model2 = RandomForestRegressor(random_state=12345, max_depth=4, n_estimators=15)\n",
    "model2.fit(features_train_oe, target_train)"
   ]
  },
  {
   "cell_type": "code",
   "execution_count": 42,
   "metadata": {},
   "outputs": [
    {
     "name": "stdout",
     "output_type": "stream",
     "text": [
      "2577.138262942656\n",
      "Wall time: 39.9 ms\n"
     ]
    }
   ],
   "source": [
    "%%time\n",
    "predictions = model2.predict(features_test_oe)\n",
    "rmse = mean_squared_error(target_test, predictions)**0.5\n",
    "print(rmse)"
   ]
  },
  {
   "cell_type": "code",
   "execution_count": 43,
   "metadata": {},
   "outputs": [
    {
     "name": "stdout",
     "output_type": "stream",
     "text": [
      "Wall time: 11.4 s\n"
     ]
    },
    {
     "data": {
      "text/plain": [
       "LGBMRegressor(n_estimators=500, num_leaves=400, random_state=12345)"
      ]
     },
     "execution_count": 43,
     "metadata": {},
     "output_type": "execute_result"
    }
   ],
   "source": [
    "%%time\n",
    "model3 = lgb.LGBMRegressor(random_state=12345, n_estimators=500,num_leaves=400)\n",
    "model3.fit(features_train_oe, target_train)"
   ]
  },
  {
   "cell_type": "code",
   "execution_count": 44,
   "metadata": {},
   "outputs": [
    {
     "name": "stdout",
     "output_type": "stream",
     "text": [
      "1620.5885283540615\n",
      "Wall time: 1.31 s\n"
     ]
    }
   ],
   "source": [
    "%%time\n",
    "predictions = model3.predict(features_test_oe)\n",
    "rmse = mean_squared_error(target_test, predictions)**0.5\n",
    "print(rmse)"
   ]
  },
  {
   "cell_type": "markdown",
   "metadata": {},
   "source": [
    "Модель решающего дерева показала наилучший результат, затем следует модель LGBMRegressor, а на третьем месте находится модель RandomForestRegressor."
   ]
  },
  {
   "cell_type": "markdown",
   "metadata": {},
   "source": [
    "## Финальны вывод"
   ]
  },
  {
   "cell_type": "markdown",
   "metadata": {},
   "source": [
    "В процессе работы была выполнена предобработка данных, в ходе которой были обнаружены аномалии, дубликаты и пропущенные значения. Аномалии и ненужные столбцы были исключены, а дубликаты и пропущенные значения были удалены.\n",
    "\n",
    "Были рассмотрены три модели: случайный лес, решающее дерево и LGBMRegressor. Проведен был подбор оптимальных параметров и оценка качества моделей на основе метрики RMSE. Лучшей моделью с RMSE значением 1576.881736930125 оказалась LGBMRegressor.\n",
    "\n",
    "При анализе времени обучения моделей на тренировочной выборке было выяснено, что модели следуют следующему порядку: решающее дерево, LGBMRegressor, случайный лес.\n",
    "\n",
    "Мы рекомендуем использовать модель LGBMRegressor для заказчика, так как она обладает оптимальными характеристиками как по метрике RMSE, так и по скорости обучения и предсказания."
   ]
  }
 ],
 "metadata": {
  "ExecuteTimeLog": [
   {
    "duration": 2388,
    "start_time": "2023-05-19T16:09:11.450Z"
   },
   {
    "duration": 1192,
    "start_time": "2023-05-19T16:09:13.840Z"
   },
   {
    "duration": 2863,
    "start_time": "2023-05-19T16:09:15.034Z"
   },
   {
    "duration": 122,
    "start_time": "2023-05-19T16:09:17.899Z"
   },
   {
    "duration": 125,
    "start_time": "2023-05-19T16:09:18.023Z"
   },
   {
    "duration": 177,
    "start_time": "2023-05-19T16:09:18.150Z"
   },
   {
    "duration": 3,
    "start_time": "2023-05-19T16:09:18.329Z"
   },
   {
    "duration": 454,
    "start_time": "2023-05-19T16:09:18.333Z"
   },
   {
    "duration": 554,
    "start_time": "2023-05-19T16:09:18.789Z"
   },
   {
    "duration": 49,
    "start_time": "2023-05-19T16:09:19.346Z"
   },
   {
    "duration": 23,
    "start_time": "2023-05-19T16:09:19.396Z"
   },
   {
    "duration": 6,
    "start_time": "2023-05-19T16:09:19.420Z"
   },
   {
    "duration": 48,
    "start_time": "2023-05-19T16:09:19.428Z"
   },
   {
    "duration": 7,
    "start_time": "2023-05-19T16:09:19.478Z"
   },
   {
    "duration": 35,
    "start_time": "2023-05-19T16:09:19.487Z"
   },
   {
    "duration": 22,
    "start_time": "2023-05-19T16:09:19.524Z"
   },
   {
    "duration": 7,
    "start_time": "2023-05-19T16:09:19.575Z"
   },
   {
    "duration": 97,
    "start_time": "2023-05-19T16:09:19.584Z"
   },
   {
    "duration": 22,
    "start_time": "2023-05-19T16:09:19.683Z"
   },
   {
    "duration": 5,
    "start_time": "2023-05-19T16:09:19.707Z"
   },
   {
    "duration": 5,
    "start_time": "2023-05-19T16:09:19.714Z"
   },
   {
    "duration": 18,
    "start_time": "2023-05-19T16:09:19.721Z"
   },
   {
    "duration": 22,
    "start_time": "2023-05-19T16:09:19.774Z"
   },
   {
    "duration": 17,
    "start_time": "2023-05-19T16:09:19.797Z"
   },
   {
    "duration": 164,
    "start_time": "2023-05-19T16:09:19.816Z"
   },
   {
    "duration": 14,
    "start_time": "2023-05-19T16:09:19.982Z"
   },
   {
    "duration": 2,
    "start_time": "2023-05-19T16:09:19.998Z"
   },
   {
    "duration": 131,
    "start_time": "2023-05-19T16:09:20.003Z"
   },
   {
    "duration": 42,
    "start_time": "2023-05-19T16:09:20.136Z"
   },
   {
    "duration": 969,
    "start_time": "2023-05-19T16:09:20.180Z"
   },
   {
    "duration": 2568,
    "start_time": "2023-05-19T16:09:21.151Z"
   },
   {
    "duration": 10288,
    "start_time": "2023-05-19T16:09:23.721Z"
   },
   {
    "duration": 2011,
    "start_time": "2023-05-19T16:15:11.791Z"
   },
   {
    "duration": 1228,
    "start_time": "2023-05-19T16:15:13.804Z"
   },
   {
    "duration": 788,
    "start_time": "2023-05-19T16:15:15.034Z"
   },
   {
    "duration": 127,
    "start_time": "2023-05-19T16:15:15.823Z"
   },
   {
    "duration": 134,
    "start_time": "2023-05-19T16:15:15.952Z"
   },
   {
    "duration": 176,
    "start_time": "2023-05-19T16:15:16.087Z"
   },
   {
    "duration": 4,
    "start_time": "2023-05-19T16:15:16.265Z"
   },
   {
    "duration": 419,
    "start_time": "2023-05-19T16:15:16.275Z"
   },
   {
    "duration": 542,
    "start_time": "2023-05-19T16:15:16.695Z"
   },
   {
    "duration": 51,
    "start_time": "2023-05-19T16:15:17.239Z"
   },
   {
    "duration": 14,
    "start_time": "2023-05-19T16:15:17.292Z"
   },
   {
    "duration": 7,
    "start_time": "2023-05-19T16:15:17.307Z"
   },
   {
    "duration": 20,
    "start_time": "2023-05-19T16:15:17.315Z"
   },
   {
    "duration": 5,
    "start_time": "2023-05-19T16:15:17.338Z"
   },
   {
    "duration": 59,
    "start_time": "2023-05-19T16:15:17.345Z"
   },
   {
    "duration": 20,
    "start_time": "2023-05-19T16:15:17.405Z"
   },
   {
    "duration": 7,
    "start_time": "2023-05-19T16:15:17.426Z"
   },
   {
    "duration": 100,
    "start_time": "2023-05-19T16:15:17.434Z"
   },
   {
    "duration": 23,
    "start_time": "2023-05-19T16:15:17.536Z"
   },
   {
    "duration": 6,
    "start_time": "2023-05-19T16:15:17.575Z"
   },
   {
    "duration": 6,
    "start_time": "2023-05-19T16:15:17.583Z"
   },
   {
    "duration": 19,
    "start_time": "2023-05-19T16:15:17.591Z"
   },
   {
    "duration": 23,
    "start_time": "2023-05-19T16:15:17.611Z"
   },
   {
    "duration": 47,
    "start_time": "2023-05-19T16:15:17.635Z"
   },
   {
    "duration": 150,
    "start_time": "2023-05-19T16:15:17.683Z"
   },
   {
    "duration": 13,
    "start_time": "2023-05-19T16:15:17.835Z"
   },
   {
    "duration": 2,
    "start_time": "2023-05-19T16:15:17.850Z"
   },
   {
    "duration": 126,
    "start_time": "2023-05-19T16:15:17.854Z"
   },
   {
    "duration": 34,
    "start_time": "2023-05-19T16:15:17.981Z"
   },
   {
    "duration": 967,
    "start_time": "2023-05-19T16:15:18.016Z"
   },
   {
    "duration": 2547,
    "start_time": "2023-05-19T16:15:18.985Z"
   },
   {
    "duration": 10167,
    "start_time": "2023-05-19T16:15:21.534Z"
   },
   {
    "duration": 407689,
    "start_time": "2023-05-19T16:15:31.703Z"
   },
   {
    "duration": 527,
    "start_time": "2023-05-19T16:22:19.394Z"
   },
   {
    "duration": 17,
    "start_time": "2023-05-19T16:22:19.922Z"
   },
   {
    "duration": 1950,
    "start_time": "2023-05-19T16:22:19.941Z"
   },
   {
    "duration": 37,
    "start_time": "2023-05-19T16:22:21.892Z"
   },
   {
    "duration": 146169,
    "start_time": "2023-05-19T16:22:21.931Z"
   },
   {
    "duration": 10740,
    "start_time": "2023-05-19T16:24:48.102Z"
   },
   {
    "duration": 2338,
    "start_time": "2023-05-20T09:03:00.446Z"
   },
   {
    "duration": 2572,
    "start_time": "2023-05-20T09:03:02.786Z"
   },
   {
    "duration": 2708,
    "start_time": "2023-05-20T09:03:05.360Z"
   },
   {
    "duration": 99,
    "start_time": "2023-05-20T09:03:08.070Z"
   },
   {
    "duration": 110,
    "start_time": "2023-05-20T09:03:08.171Z"
   },
   {
    "duration": 149,
    "start_time": "2023-05-20T09:03:08.282Z"
   },
   {
    "duration": 4,
    "start_time": "2023-05-20T09:03:08.432Z"
   },
   {
    "duration": 414,
    "start_time": "2023-05-20T09:03:08.437Z"
   },
   {
    "duration": 498,
    "start_time": "2023-05-20T09:03:08.853Z"
   },
   {
    "duration": 42,
    "start_time": "2023-05-20T09:03:09.352Z"
   },
   {
    "duration": 17,
    "start_time": "2023-05-20T09:03:09.395Z"
   },
   {
    "duration": 5,
    "start_time": "2023-05-20T09:03:09.414Z"
   },
   {
    "duration": 18,
    "start_time": "2023-05-20T09:03:09.420Z"
   },
   {
    "duration": 5,
    "start_time": "2023-05-20T09:03:09.441Z"
   },
   {
    "duration": 29,
    "start_time": "2023-05-20T09:03:09.447Z"
   },
   {
    "duration": 29,
    "start_time": "2023-05-20T09:03:09.477Z"
   },
   {
    "duration": 6,
    "start_time": "2023-05-20T09:03:09.508Z"
   },
   {
    "duration": 116,
    "start_time": "2023-05-20T09:03:09.516Z"
   },
   {
    "duration": 21,
    "start_time": "2023-05-20T09:03:09.633Z"
   },
   {
    "duration": 5,
    "start_time": "2023-05-20T09:03:09.656Z"
   },
   {
    "duration": 45,
    "start_time": "2023-05-20T09:03:09.662Z"
   },
   {
    "duration": 17,
    "start_time": "2023-05-20T09:03:09.709Z"
   },
   {
    "duration": 20,
    "start_time": "2023-05-20T09:03:09.727Z"
   },
   {
    "duration": 15,
    "start_time": "2023-05-20T09:03:09.748Z"
   },
   {
    "duration": 133,
    "start_time": "2023-05-20T09:03:09.805Z"
   },
   {
    "duration": 14,
    "start_time": "2023-05-20T09:03:09.940Z"
   },
   {
    "duration": 2,
    "start_time": "2023-05-20T09:03:09.956Z"
   },
   {
    "duration": 118,
    "start_time": "2023-05-20T09:03:09.959Z"
   },
   {
    "duration": 40,
    "start_time": "2023-05-20T09:03:10.078Z"
   },
   {
    "duration": 826,
    "start_time": "2023-05-20T09:03:10.119Z"
   },
   {
    "duration": 2364,
    "start_time": "2023-05-20T09:03:10.947Z"
   },
   {
    "duration": 10485,
    "start_time": "2023-05-20T09:03:13.312Z"
   },
   {
    "duration": 541351,
    "start_time": "2023-05-20T09:03:23.799Z"
   },
   {
    "duration": 435,
    "start_time": "2023-05-20T09:12:25.151Z"
   },
   {
    "duration": 22,
    "start_time": "2023-05-20T09:12:25.588Z"
   },
   {
    "duration": 1678,
    "start_time": "2023-05-20T09:12:25.611Z"
   },
   {
    "duration": 39,
    "start_time": "2023-05-20T09:12:27.290Z"
   },
   {
    "duration": 77680,
    "start_time": "2023-05-20T09:12:27.331Z"
   },
   {
    "duration": 10195,
    "start_time": "2023-05-20T09:13:45.013Z"
   },
   {
    "duration": 145,
    "start_time": "2023-05-22T18:37:20.399Z"
   },
   {
    "duration": 150,
    "start_time": "2023-05-22T18:37:59.956Z"
   },
   {
    "duration": 2728,
    "start_time": "2023-05-22T18:39:07.727Z"
   },
   {
    "duration": 1353,
    "start_time": "2023-05-22T18:39:10.457Z"
   },
   {
    "duration": 1599,
    "start_time": "2023-05-22T18:39:11.823Z"
   },
   {
    "duration": 154,
    "start_time": "2023-05-22T18:39:13.428Z"
   },
   {
    "duration": 162,
    "start_time": "2023-05-22T18:39:13.584Z"
   },
   {
    "duration": 6,
    "start_time": "2023-05-22T18:39:13.751Z"
   },
   {
    "duration": 116,
    "start_time": "2023-05-22T18:39:13.759Z"
   },
   {
    "duration": 3,
    "start_time": "2023-05-22T18:39:13.876Z"
   },
   {
    "duration": 537,
    "start_time": "2023-05-22T18:39:13.881Z"
   },
   {
    "duration": 564,
    "start_time": "2023-05-22T18:39:14.419Z"
   },
   {
    "duration": 68,
    "start_time": "2023-05-22T18:39:14.986Z"
   },
   {
    "duration": 16,
    "start_time": "2023-05-22T18:39:15.056Z"
   },
   {
    "duration": 6,
    "start_time": "2023-05-22T18:39:15.073Z"
   },
   {
    "duration": 118,
    "start_time": "2023-05-22T18:39:15.080Z"
   },
   {
    "duration": 69,
    "start_time": "2023-05-22T18:39:15.200Z"
   },
   {
    "duration": 5,
    "start_time": "2023-05-22T18:39:15.271Z"
   },
   {
    "duration": 60,
    "start_time": "2023-05-22T18:39:15.278Z"
   },
   {
    "duration": 17,
    "start_time": "2023-05-22T18:39:15.351Z"
   },
   {
    "duration": 6,
    "start_time": "2023-05-22T18:39:15.370Z"
   },
   {
    "duration": 45,
    "start_time": "2023-05-22T18:39:15.377Z"
   },
   {
    "duration": 2249,
    "start_time": "2023-05-22T18:39:15.423Z"
   },
   {
    "duration": 0,
    "start_time": "2023-05-22T18:39:17.675Z"
   },
   {
    "duration": 0,
    "start_time": "2023-05-22T18:39:17.676Z"
   },
   {
    "duration": 0,
    "start_time": "2023-05-22T18:39:17.676Z"
   },
   {
    "duration": 0,
    "start_time": "2023-05-22T18:39:17.677Z"
   },
   {
    "duration": 0,
    "start_time": "2023-05-22T18:39:17.678Z"
   },
   {
    "duration": 0,
    "start_time": "2023-05-22T18:39:17.678Z"
   },
   {
    "duration": 0,
    "start_time": "2023-05-22T18:39:17.680Z"
   },
   {
    "duration": 0,
    "start_time": "2023-05-22T18:39:17.681Z"
   },
   {
    "duration": 0,
    "start_time": "2023-05-22T18:39:17.682Z"
   },
   {
    "duration": 0,
    "start_time": "2023-05-22T18:39:17.683Z"
   },
   {
    "duration": 0,
    "start_time": "2023-05-22T18:39:17.694Z"
   },
   {
    "duration": 1,
    "start_time": "2023-05-22T18:39:17.694Z"
   },
   {
    "duration": 0,
    "start_time": "2023-05-22T18:39:17.695Z"
   },
   {
    "duration": 0,
    "start_time": "2023-05-22T18:39:17.695Z"
   },
   {
    "duration": 0,
    "start_time": "2023-05-22T18:39:17.696Z"
   },
   {
    "duration": 0,
    "start_time": "2023-05-22T18:39:17.696Z"
   },
   {
    "duration": 0,
    "start_time": "2023-05-22T18:39:17.697Z"
   },
   {
    "duration": 0,
    "start_time": "2023-05-22T18:39:17.697Z"
   },
   {
    "duration": 0,
    "start_time": "2023-05-22T18:39:17.697Z"
   },
   {
    "duration": 0,
    "start_time": "2023-05-22T18:39:17.698Z"
   },
   {
    "duration": 0,
    "start_time": "2023-05-22T18:39:17.698Z"
   },
   {
    "duration": 0,
    "start_time": "2023-05-22T18:39:17.699Z"
   },
   {
    "duration": 0,
    "start_time": "2023-05-22T18:39:17.699Z"
   },
   {
    "duration": 2242,
    "start_time": "2023-05-22T18:43:23.829Z"
   },
   {
    "duration": 1310,
    "start_time": "2023-05-22T18:43:26.073Z"
   },
   {
    "duration": 882,
    "start_time": "2023-05-22T18:43:27.384Z"
   },
   {
    "duration": 205,
    "start_time": "2023-05-22T18:43:28.268Z"
   },
   {
    "duration": 175,
    "start_time": "2023-05-22T18:43:28.475Z"
   },
   {
    "duration": 8,
    "start_time": "2023-05-22T18:43:28.651Z"
   },
   {
    "duration": 178,
    "start_time": "2023-05-22T18:43:28.660Z"
   },
   {
    "duration": 5,
    "start_time": "2023-05-22T18:43:28.839Z"
   },
   {
    "duration": 589,
    "start_time": "2023-05-22T18:43:28.845Z"
   },
   {
    "duration": 594,
    "start_time": "2023-05-22T18:43:29.435Z"
   },
   {
    "duration": 46,
    "start_time": "2023-05-22T18:43:30.030Z"
   },
   {
    "duration": 33,
    "start_time": "2023-05-22T18:43:30.078Z"
   },
   {
    "duration": 39,
    "start_time": "2023-05-22T18:43:30.130Z"
   },
   {
    "duration": 165,
    "start_time": "2023-05-22T18:43:30.172Z"
   },
   {
    "duration": 87,
    "start_time": "2023-05-22T18:43:30.351Z"
   },
   {
    "duration": 17,
    "start_time": "2023-05-22T18:43:30.447Z"
   },
   {
    "duration": 116,
    "start_time": "2023-05-22T18:43:30.466Z"
   },
   {
    "duration": 70,
    "start_time": "2023-05-22T18:43:30.583Z"
   },
   {
    "duration": 27,
    "start_time": "2023-05-22T18:43:30.655Z"
   },
   {
    "duration": 92,
    "start_time": "2023-05-22T18:43:30.683Z"
   },
   {
    "duration": 88,
    "start_time": "2023-05-22T18:43:30.777Z"
   },
   {
    "duration": 71,
    "start_time": "2023-05-22T18:43:30.867Z"
   },
   {
    "duration": 40,
    "start_time": "2023-05-22T18:43:30.941Z"
   },
   {
    "duration": 74,
    "start_time": "2023-05-22T18:43:30.983Z"
   },
   {
    "duration": 102,
    "start_time": "2023-05-22T18:43:31.058Z"
   },
   {
    "duration": 96,
    "start_time": "2023-05-22T18:43:31.162Z"
   },
   {
    "duration": 95,
    "start_time": "2023-05-22T18:43:31.260Z"
   },
   {
    "duration": 190,
    "start_time": "2023-05-22T18:43:31.356Z"
   },
   {
    "duration": 195,
    "start_time": "2023-05-22T18:43:31.547Z"
   },
   {
    "duration": 185,
    "start_time": "2023-05-22T18:43:31.743Z"
   },
   {
    "duration": 25,
    "start_time": "2023-05-22T18:43:31.929Z"
   },
   {
    "duration": 18,
    "start_time": "2023-05-22T18:43:31.955Z"
   },
   {
    "duration": 96,
    "start_time": "2023-05-22T18:43:31.975Z"
   },
   {
    "duration": 45,
    "start_time": "2023-05-22T18:43:32.072Z"
   },
   {
    "duration": 825,
    "start_time": "2023-05-22T18:43:32.132Z"
   },
   {
    "duration": 2452,
    "start_time": "2023-05-22T18:43:32.958Z"
   },
   {
    "duration": 9942,
    "start_time": "2023-05-22T18:43:35.412Z"
   },
   {
    "duration": 2246,
    "start_time": "2023-05-22T18:57:35.984Z"
   },
   {
    "duration": 1257,
    "start_time": "2023-05-22T18:57:38.233Z"
   },
   {
    "duration": 837,
    "start_time": "2023-05-22T18:57:39.500Z"
   },
   {
    "duration": 144,
    "start_time": "2023-05-22T18:57:40.339Z"
   },
   {
    "duration": 149,
    "start_time": "2023-05-22T18:57:40.496Z"
   },
   {
    "duration": 2,
    "start_time": "2023-05-22T18:57:40.647Z"
   },
   {
    "duration": 119,
    "start_time": "2023-05-22T18:57:40.650Z"
   },
   {
    "duration": 2,
    "start_time": "2023-05-22T18:57:40.770Z"
   },
   {
    "duration": 465,
    "start_time": "2023-05-22T18:57:40.773Z"
   },
   {
    "duration": 555,
    "start_time": "2023-05-22T18:57:41.240Z"
   },
   {
    "duration": 49,
    "start_time": "2023-05-22T18:57:41.796Z"
   },
   {
    "duration": 11,
    "start_time": "2023-05-22T18:57:41.846Z"
   },
   {
    "duration": 5,
    "start_time": "2023-05-22T18:57:41.859Z"
   },
   {
    "duration": 86,
    "start_time": "2023-05-22T18:57:41.867Z"
   },
   {
    "duration": 20,
    "start_time": "2023-05-22T18:57:41.954Z"
   },
   {
    "duration": 26,
    "start_time": "2023-05-22T18:57:41.975Z"
   },
   {
    "duration": 39,
    "start_time": "2023-05-22T18:57:42.002Z"
   },
   {
    "duration": 18,
    "start_time": "2023-05-22T18:57:42.043Z"
   },
   {
    "duration": 6,
    "start_time": "2023-05-22T18:57:42.062Z"
   },
   {
    "duration": 34,
    "start_time": "2023-05-22T18:57:42.070Z"
   },
   {
    "duration": 50,
    "start_time": "2023-05-22T18:57:42.106Z"
   },
   {
    "duration": 20,
    "start_time": "2023-05-22T18:57:42.158Z"
   },
   {
    "duration": 36,
    "start_time": "2023-05-22T18:57:42.179Z"
   },
   {
    "duration": 11,
    "start_time": "2023-05-22T18:57:42.235Z"
   },
   {
    "duration": 17,
    "start_time": "2023-05-22T18:57:42.248Z"
   },
   {
    "duration": 24,
    "start_time": "2023-05-22T18:57:42.266Z"
   },
   {
    "duration": 40,
    "start_time": "2023-05-22T18:57:42.298Z"
   },
   {
    "duration": 178,
    "start_time": "2023-05-22T18:57:42.340Z"
   },
   {
    "duration": 162,
    "start_time": "2023-05-22T18:57:42.528Z"
   },
   {
    "duration": 144,
    "start_time": "2023-05-22T18:57:42.696Z"
   },
   {
    "duration": 11,
    "start_time": "2023-05-22T18:57:42.842Z"
   },
   {
    "duration": 2,
    "start_time": "2023-05-22T18:57:42.855Z"
   },
   {
    "duration": 93,
    "start_time": "2023-05-22T18:57:42.858Z"
   },
   {
    "duration": 24,
    "start_time": "2023-05-22T18:57:42.952Z"
   },
   {
    "duration": 777,
    "start_time": "2023-05-22T18:57:42.978Z"
   },
   {
    "duration": 2327,
    "start_time": "2023-05-22T18:57:43.757Z"
   },
   {
    "duration": 9276,
    "start_time": "2023-05-22T18:57:46.099Z"
   }
  ],
  "kernelspec": {
   "display_name": "Python 3 (ipykernel)",
   "language": "python",
   "name": "python3"
  },
  "language_info": {
   "codemirror_mode": {
    "name": "ipython",
    "version": 3
   },
   "file_extension": ".py",
   "mimetype": "text/x-python",
   "name": "python",
   "nbconvert_exporter": "python",
   "pygments_lexer": "ipython3",
   "version": "3.10.9"
  },
  "toc": {
   "base_numbering": 1,
   "nav_menu": {},
   "number_sections": true,
   "sideBar": true,
   "skip_h1_title": true,
   "title_cell": "Table of Contents",
   "title_sidebar": "Contents",
   "toc_cell": false,
   "toc_position": {},
   "toc_section_display": true,
   "toc_window_display": true
  }
 },
 "nbformat": 4,
 "nbformat_minor": 2
}
