{
 "cells": [
  {
   "cell_type": "markdown",
   "metadata": {
    "toc": true
   },
   "source": [
    "<h1>Содержание<span class=\"tocSkip\"></span></h1>\n",
    "<div class=\"toc\"><ul class=\"toc-item\"><li><span><a href=\"#Подготовка-данных\" data-toc-modified-id=\"Подготовка-данных-1\"><span class=\"toc-item-num\">1&nbsp;&nbsp;</span>Подготовка данных</a></span><ul class=\"toc-item\"><li><span><a href=\"#Расчет-эффективности-обогащения\" data-toc-modified-id=\"Расчет-эффективности-обогащения-1.1\"><span class=\"toc-item-num\">1.1&nbsp;&nbsp;</span>Расчет эффективности обогащения</a></span></li><li><span><a href=\"#MAE-между-расчётами-и-значением-признака\" data-toc-modified-id=\"MAE-между-расчётами-и-значением-признака-1.2\"><span class=\"toc-item-num\">1.2&nbsp;&nbsp;</span>MAE между расчётами и значением признака</a></span></li><li><span><a href=\"#Анализ-признаков,-недоступных-в-тестовой-выборке.\" data-toc-modified-id=\"Анализ-признаков,-недоступных-в-тестовой-выборке.-1.3\"><span class=\"toc-item-num\">1.3&nbsp;&nbsp;</span>Анализ признаков, недоступных в тестовой выборке.</a></span></li><li><span><a href=\"#Предобработка-данных.\" data-toc-modified-id=\"Предобработка-данных.-1.4\"><span class=\"toc-item-num\">1.4&nbsp;&nbsp;</span>Предобработка данных.</a></span></li><li><span><a href=\"#Вывод-по-разделу-1\" data-toc-modified-id=\"Вывод-по-разделу-1-1.5\"><span class=\"toc-item-num\">1.5&nbsp;&nbsp;</span>Вывод по разделу 1</a></span></li></ul></li><li><span><a href=\"#Анализ-данных\" data-toc-modified-id=\"Анализ-данных-2\"><span class=\"toc-item-num\">2&nbsp;&nbsp;</span>Анализ данных</a></span><ul class=\"toc-item\"><li><span><a href=\"#Изменение-концентрация-металлов-(Au,-Ag,-Pb)-на-различных-этапах-очистки.\" data-toc-modified-id=\"Изменение-концентрация-металлов-(Au,-Ag,-Pb)-на-различных-этапах-очистки.-2.1\"><span class=\"toc-item-num\">2.1&nbsp;&nbsp;</span>Изменение концентрация металлов (Au, Ag, Pb) на различных этапах очистки.</a></span></li><li><span><a href=\"#Сравнение-распределения-размеров-гранул-сырья-на-обучающей-и-тестовой-выборках.\" data-toc-modified-id=\"Сравнение-распределения-размеров-гранул-сырья-на-обучающей-и-тестовой-выборках.-2.2\"><span class=\"toc-item-num\">2.2&nbsp;&nbsp;</span>Сравнение распределения размеров гранул сырья на обучающей и тестовой выборках.</a></span></li><li><span><a href=\"#Исследование-суммарных-концентраций-всех-веществ-на-разных-стадиях:-в-сырье,-в-черновом-и-финальном-концентратах.\" data-toc-modified-id=\"Исследование-суммарных-концентраций-всех-веществ-на-разных-стадиях:-в-сырье,-в-черновом-и-финальном-концентратах.-2.3\"><span class=\"toc-item-num\">2.3&nbsp;&nbsp;</span>Исследование суммарных концентраций всех веществ на разных стадиях: в сырье, в черновом и финальном концентратах.</a></span></li><li><span><a href=\"#Вывод-по-разделу-2\" data-toc-modified-id=\"Вывод-по-разделу-2-2.4\"><span class=\"toc-item-num\">2.4&nbsp;&nbsp;</span>Вывод по разделу 2</a></span></li></ul></li><li><span><a href=\"#Модель\" data-toc-modified-id=\"Модель-3\"><span class=\"toc-item-num\">3&nbsp;&nbsp;</span>Модель</a></span><ul class=\"toc-item\"><li><span><a href=\"#Функция-для-вычисления-итоговой-sMAPE.\" data-toc-modified-id=\"Функция-для-вычисления-итоговой-sMAPE.-3.1\"><span class=\"toc-item-num\">3.1&nbsp;&nbsp;</span>Функция для вычисления итоговой sMAPE.</a></span></li><li><span><a href=\"#Обучение-разных-моделей-и-оценка-их-качество-кросс-валидацией.-Выборка-лучшей-модели-и-проверка-её-на-тестовой-выборке.\" data-toc-modified-id=\"Обучение-разных-моделей-и-оценка-их-качество-кросс-валидацией.-Выборка-лучшей-модели-и-проверка-её-на-тестовой-выборке.-3.2\"><span class=\"toc-item-num\">3.2&nbsp;&nbsp;</span>Обучение разных моделей и оценка их качество кросс-валидацией. Выборка лучшей модели и проверка её на тестовой выборке.</a></span></li><li><span><a href=\"#Вывод\" data-toc-modified-id=\"Вывод-3.3\"><span class=\"toc-item-num\">3.3&nbsp;&nbsp;</span>Вывод</a></span></li></ul></li></ul></div>"
   ]
  },
  {
   "cell_type": "markdown",
   "metadata": {},
   "source": [
    "# Восстановление золота из руды"
   ]
  },
  {
   "cell_type": "markdown",
   "metadata": {},
   "source": [
    "Подготовьте прототип модели машинного обучения для «Цифры». Компания разрабатывает решения для эффективной работы промышленных предприятий.\n",
    "\n",
    "Модель должна предсказать коэффициент восстановления золота из золотосодержащей руды. Используйте данные с параметрами добычи и очистки. \n",
    "\n",
    "Модель поможет оптимизировать производство, чтобы не запускать предприятие с убыточными характеристиками.\n",
    "\n",
    "Вам нужно:\n",
    "\n",
    "1. Подготовить данные;\n",
    "2. Провести исследовательский анализ данных;\n",
    "3. Построить и обучить модель.\n",
    "\n",
    "Чтобы выполнить проект, обращайтесь к библиотекам *pandas*, *matplotlib* и *sklearn.* Вам поможет их документация."
   ]
  },
  {
   "cell_type": "markdown",
   "metadata": {},
   "source": [
    "**Технологический процесс**\n",
    "* Rougher feed — исходное сырье\n",
    "* Rougher additions (или reagent additions) — флотационные реагенты: Xanthate, Sulphate, Depressant\n",
    "   + Xanthate **— ксантогенат (промотер, или активатор флотации);\n",
    "   + Sulphate — сульфат (на данном производстве сульфид натрия);\n",
    "   + Depressant — депрессант (силикат натрия).\n",
    "* Rougher process (англ. «грубый процесс») — флотация\n",
    "* Rougher tails — отвальные хвосты\n",
    "* Float banks — флотационная установка\n",
    "* Cleaner process — очистка\n",
    "* Rougher Au — черновой концентрат золота\n",
    "* Final Au — финальный концентрат золота"
   ]
  },
  {
   "cell_type": "markdown",
   "metadata": {},
   "source": [
    "**Параметры этапов**\n",
    "* air amount — объём воздуха\n",
    "* fluid levels — уровень жидкости\n",
    "* feed size — размер гранул сырья\n",
    "* feed rate — скорость подачи"
   ]
  },
  {
   "cell_type": "markdown",
   "metadata": {},
   "source": [
    "**Наименование признаков**\n",
    "Наименование признаков должно быть такое:\n",
    "[этап].[тип_параметра].[название_параметра]\n",
    "Пример: rougher.input.feed_ag\n",
    "\n",
    "Возможные значения для блока [этап]:\n",
    "* rougher — флотация\n",
    "* primary_cleaner — первичная очистка\n",
    "* secondary_cleaner — вторичная очистка\n",
    "* final — финальные характеристики\n",
    "*\n",
    "Возможные значения для блока [тип_параметра]:\n",
    "* input — параметры сырья\n",
    "* output — параметры продукта\n",
    "* state — параметры, характеризующие текущее состояние этапа\n",
    "* calculation — расчётные характеристики"
   ]
  },
  {
   "cell_type": "markdown",
   "metadata": {},
   "source": [
    "## Подготовка данных"
   ]
  },
  {
   "cell_type": "code",
   "execution_count": 1,
   "metadata": {},
   "outputs": [],
   "source": [
    "import warnings\n",
    "import pandas as pd\n",
    "import numpy as np\n",
    "import seaborn as sns\n",
    "import matplotlib.pyplot as plt\n",
    "from sklearn.metrics import mean_absolute_error\n",
    "from sklearn.tree import DecisionTreeRegressor\n",
    "from sklearn.ensemble import RandomForestRegressor\n",
    "from sklearn.metrics import make_scorer\n",
    "from sklearn.model_selection import cross_val_score\n",
    "from sklearn.linear_model import LinearRegression\n",
    "from sklearn.dummy import DummyRegressor"
   ]
  },
  {
   "cell_type": "code",
   "execution_count": 2,
   "metadata": {},
   "outputs": [],
   "source": [
    "warnings.filterwarnings('ignore')"
   ]
  },
  {
   "cell_type": "code",
   "execution_count": 3,
   "metadata": {},
   "outputs": [],
   "source": [
    "data = pd.read_csv('/datasets/gold_recovery_full_new.csv')\n",
    "test_data = pd.read_csv('/datasets/gold_recovery_test_new.csv')\n",
    "train_data = pd.read_csv('/datasets/gold_recovery_train_new.csv')"
   ]
  },
  {
   "cell_type": "code",
   "execution_count": 4,
   "metadata": {},
   "outputs": [
    {
     "data": {
      "text/html": [
       "<div>\n",
       "<style scoped>\n",
       "    .dataframe tbody tr th:only-of-type {\n",
       "        vertical-align: middle;\n",
       "    }\n",
       "\n",
       "    .dataframe tbody tr th {\n",
       "        vertical-align: top;\n",
       "    }\n",
       "\n",
       "    .dataframe thead th {\n",
       "        text-align: right;\n",
       "    }\n",
       "</style>\n",
       "<table border=\"1\" class=\"dataframe\">\n",
       "  <thead>\n",
       "    <tr style=\"text-align: right;\">\n",
       "      <th></th>\n",
       "      <th>date</th>\n",
       "      <th>final.output.concentrate_ag</th>\n",
       "      <th>final.output.concentrate_pb</th>\n",
       "      <th>final.output.concentrate_sol</th>\n",
       "      <th>final.output.concentrate_au</th>\n",
       "      <th>final.output.recovery</th>\n",
       "      <th>final.output.tail_ag</th>\n",
       "      <th>final.output.tail_pb</th>\n",
       "      <th>final.output.tail_sol</th>\n",
       "      <th>final.output.tail_au</th>\n",
       "      <th>...</th>\n",
       "      <th>secondary_cleaner.state.floatbank4_a_air</th>\n",
       "      <th>secondary_cleaner.state.floatbank4_a_level</th>\n",
       "      <th>secondary_cleaner.state.floatbank4_b_air</th>\n",
       "      <th>secondary_cleaner.state.floatbank4_b_level</th>\n",
       "      <th>secondary_cleaner.state.floatbank5_a_air</th>\n",
       "      <th>secondary_cleaner.state.floatbank5_a_level</th>\n",
       "      <th>secondary_cleaner.state.floatbank5_b_air</th>\n",
       "      <th>secondary_cleaner.state.floatbank5_b_level</th>\n",
       "      <th>secondary_cleaner.state.floatbank6_a_air</th>\n",
       "      <th>secondary_cleaner.state.floatbank6_a_level</th>\n",
       "    </tr>\n",
       "  </thead>\n",
       "  <tbody>\n",
       "    <tr>\n",
       "      <th>0</th>\n",
       "      <td>2016-01-15 00:00:00</td>\n",
       "      <td>6.055403</td>\n",
       "      <td>9.889648</td>\n",
       "      <td>5.507324</td>\n",
       "      <td>42.192020</td>\n",
       "      <td>70.541216</td>\n",
       "      <td>10.411962</td>\n",
       "      <td>0.895447</td>\n",
       "      <td>16.904297</td>\n",
       "      <td>2.143149</td>\n",
       "      <td>...</td>\n",
       "      <td>14.016835</td>\n",
       "      <td>-502.488007</td>\n",
       "      <td>12.099931</td>\n",
       "      <td>-504.715942</td>\n",
       "      <td>9.925633</td>\n",
       "      <td>-498.310211</td>\n",
       "      <td>8.079666</td>\n",
       "      <td>-500.470978</td>\n",
       "      <td>14.151341</td>\n",
       "      <td>-605.841980</td>\n",
       "    </tr>\n",
       "    <tr>\n",
       "      <th>1</th>\n",
       "      <td>2016-01-15 01:00:00</td>\n",
       "      <td>6.029369</td>\n",
       "      <td>9.968944</td>\n",
       "      <td>5.257781</td>\n",
       "      <td>42.701629</td>\n",
       "      <td>69.266198</td>\n",
       "      <td>10.462676</td>\n",
       "      <td>0.927452</td>\n",
       "      <td>16.634514</td>\n",
       "      <td>2.224930</td>\n",
       "      <td>...</td>\n",
       "      <td>13.992281</td>\n",
       "      <td>-505.503262</td>\n",
       "      <td>11.950531</td>\n",
       "      <td>-501.331529</td>\n",
       "      <td>10.039245</td>\n",
       "      <td>-500.169983</td>\n",
       "      <td>7.984757</td>\n",
       "      <td>-500.582168</td>\n",
       "      <td>13.998353</td>\n",
       "      <td>-599.787184</td>\n",
       "    </tr>\n",
       "    <tr>\n",
       "      <th>2</th>\n",
       "      <td>2016-01-15 02:00:00</td>\n",
       "      <td>6.055926</td>\n",
       "      <td>10.213995</td>\n",
       "      <td>5.383759</td>\n",
       "      <td>42.657501</td>\n",
       "      <td>68.116445</td>\n",
       "      <td>10.507046</td>\n",
       "      <td>0.953716</td>\n",
       "      <td>16.208849</td>\n",
       "      <td>2.257889</td>\n",
       "      <td>...</td>\n",
       "      <td>14.015015</td>\n",
       "      <td>-502.520901</td>\n",
       "      <td>11.912783</td>\n",
       "      <td>-501.133383</td>\n",
       "      <td>10.070913</td>\n",
       "      <td>-500.129135</td>\n",
       "      <td>8.013877</td>\n",
       "      <td>-500.517572</td>\n",
       "      <td>14.028663</td>\n",
       "      <td>-601.427363</td>\n",
       "    </tr>\n",
       "    <tr>\n",
       "      <th>3</th>\n",
       "      <td>2016-01-15 03:00:00</td>\n",
       "      <td>6.047977</td>\n",
       "      <td>9.977019</td>\n",
       "      <td>4.858634</td>\n",
       "      <td>42.689819</td>\n",
       "      <td>68.347543</td>\n",
       "      <td>10.422762</td>\n",
       "      <td>0.883763</td>\n",
       "      <td>16.532835</td>\n",
       "      <td>2.146849</td>\n",
       "      <td>...</td>\n",
       "      <td>14.036510</td>\n",
       "      <td>-500.857308</td>\n",
       "      <td>11.999550</td>\n",
       "      <td>-501.193686</td>\n",
       "      <td>9.970366</td>\n",
       "      <td>-499.201640</td>\n",
       "      <td>7.977324</td>\n",
       "      <td>-500.255908</td>\n",
       "      <td>14.005551</td>\n",
       "      <td>-599.996129</td>\n",
       "    </tr>\n",
       "    <tr>\n",
       "      <th>4</th>\n",
       "      <td>2016-01-15 04:00:00</td>\n",
       "      <td>6.148599</td>\n",
       "      <td>10.142511</td>\n",
       "      <td>4.939416</td>\n",
       "      <td>42.774141</td>\n",
       "      <td>66.927016</td>\n",
       "      <td>10.360302</td>\n",
       "      <td>0.792826</td>\n",
       "      <td>16.525686</td>\n",
       "      <td>2.055292</td>\n",
       "      <td>...</td>\n",
       "      <td>14.027298</td>\n",
       "      <td>-499.838632</td>\n",
       "      <td>11.953070</td>\n",
       "      <td>-501.053894</td>\n",
       "      <td>9.925709</td>\n",
       "      <td>-501.686727</td>\n",
       "      <td>7.894242</td>\n",
       "      <td>-500.356035</td>\n",
       "      <td>13.996647</td>\n",
       "      <td>-601.496691</td>\n",
       "    </tr>\n",
       "  </tbody>\n",
       "</table>\n",
       "<p>5 rows × 87 columns</p>\n",
       "</div>"
      ],
      "text/plain": [
       "                  date  final.output.concentrate_ag  \\\n",
       "0  2016-01-15 00:00:00                     6.055403   \n",
       "1  2016-01-15 01:00:00                     6.029369   \n",
       "2  2016-01-15 02:00:00                     6.055926   \n",
       "3  2016-01-15 03:00:00                     6.047977   \n",
       "4  2016-01-15 04:00:00                     6.148599   \n",
       "\n",
       "   final.output.concentrate_pb  final.output.concentrate_sol  \\\n",
       "0                     9.889648                      5.507324   \n",
       "1                     9.968944                      5.257781   \n",
       "2                    10.213995                      5.383759   \n",
       "3                     9.977019                      4.858634   \n",
       "4                    10.142511                      4.939416   \n",
       "\n",
       "   final.output.concentrate_au  final.output.recovery  final.output.tail_ag  \\\n",
       "0                    42.192020              70.541216             10.411962   \n",
       "1                    42.701629              69.266198             10.462676   \n",
       "2                    42.657501              68.116445             10.507046   \n",
       "3                    42.689819              68.347543             10.422762   \n",
       "4                    42.774141              66.927016             10.360302   \n",
       "\n",
       "   final.output.tail_pb  final.output.tail_sol  final.output.tail_au  ...  \\\n",
       "0              0.895447              16.904297              2.143149  ...   \n",
       "1              0.927452              16.634514              2.224930  ...   \n",
       "2              0.953716              16.208849              2.257889  ...   \n",
       "3              0.883763              16.532835              2.146849  ...   \n",
       "4              0.792826              16.525686              2.055292  ...   \n",
       "\n",
       "   secondary_cleaner.state.floatbank4_a_air  \\\n",
       "0                                 14.016835   \n",
       "1                                 13.992281   \n",
       "2                                 14.015015   \n",
       "3                                 14.036510   \n",
       "4                                 14.027298   \n",
       "\n",
       "   secondary_cleaner.state.floatbank4_a_level  \\\n",
       "0                                 -502.488007   \n",
       "1                                 -505.503262   \n",
       "2                                 -502.520901   \n",
       "3                                 -500.857308   \n",
       "4                                 -499.838632   \n",
       "\n",
       "   secondary_cleaner.state.floatbank4_b_air  \\\n",
       "0                                 12.099931   \n",
       "1                                 11.950531   \n",
       "2                                 11.912783   \n",
       "3                                 11.999550   \n",
       "4                                 11.953070   \n",
       "\n",
       "   secondary_cleaner.state.floatbank4_b_level  \\\n",
       "0                                 -504.715942   \n",
       "1                                 -501.331529   \n",
       "2                                 -501.133383   \n",
       "3                                 -501.193686   \n",
       "4                                 -501.053894   \n",
       "\n",
       "   secondary_cleaner.state.floatbank5_a_air  \\\n",
       "0                                  9.925633   \n",
       "1                                 10.039245   \n",
       "2                                 10.070913   \n",
       "3                                  9.970366   \n",
       "4                                  9.925709   \n",
       "\n",
       "   secondary_cleaner.state.floatbank5_a_level  \\\n",
       "0                                 -498.310211   \n",
       "1                                 -500.169983   \n",
       "2                                 -500.129135   \n",
       "3                                 -499.201640   \n",
       "4                                 -501.686727   \n",
       "\n",
       "   secondary_cleaner.state.floatbank5_b_air  \\\n",
       "0                                  8.079666   \n",
       "1                                  7.984757   \n",
       "2                                  8.013877   \n",
       "3                                  7.977324   \n",
       "4                                  7.894242   \n",
       "\n",
       "   secondary_cleaner.state.floatbank5_b_level  \\\n",
       "0                                 -500.470978   \n",
       "1                                 -500.582168   \n",
       "2                                 -500.517572   \n",
       "3                                 -500.255908   \n",
       "4                                 -500.356035   \n",
       "\n",
       "   secondary_cleaner.state.floatbank6_a_air  \\\n",
       "0                                 14.151341   \n",
       "1                                 13.998353   \n",
       "2                                 14.028663   \n",
       "3                                 14.005551   \n",
       "4                                 13.996647   \n",
       "\n",
       "   secondary_cleaner.state.floatbank6_a_level  \n",
       "0                                 -605.841980  \n",
       "1                                 -599.787184  \n",
       "2                                 -601.427363  \n",
       "3                                 -599.996129  \n",
       "4                                 -601.496691  \n",
       "\n",
       "[5 rows x 87 columns]"
      ]
     },
     "execution_count": 4,
     "metadata": {},
     "output_type": "execute_result"
    }
   ],
   "source": [
    "data.head()"
   ]
  },
  {
   "cell_type": "code",
   "execution_count": 5,
   "metadata": {},
   "outputs": [
    {
     "data": {
      "text/html": [
       "<div>\n",
       "<style scoped>\n",
       "    .dataframe tbody tr th:only-of-type {\n",
       "        vertical-align: middle;\n",
       "    }\n",
       "\n",
       "    .dataframe tbody tr th {\n",
       "        vertical-align: top;\n",
       "    }\n",
       "\n",
       "    .dataframe thead th {\n",
       "        text-align: right;\n",
       "    }\n",
       "</style>\n",
       "<table border=\"1\" class=\"dataframe\">\n",
       "  <thead>\n",
       "    <tr style=\"text-align: right;\">\n",
       "      <th></th>\n",
       "      <th>date</th>\n",
       "      <th>primary_cleaner.input.sulfate</th>\n",
       "      <th>primary_cleaner.input.depressant</th>\n",
       "      <th>primary_cleaner.input.feed_size</th>\n",
       "      <th>primary_cleaner.input.xanthate</th>\n",
       "      <th>primary_cleaner.state.floatbank8_a_air</th>\n",
       "      <th>primary_cleaner.state.floatbank8_a_level</th>\n",
       "      <th>primary_cleaner.state.floatbank8_b_air</th>\n",
       "      <th>primary_cleaner.state.floatbank8_b_level</th>\n",
       "      <th>primary_cleaner.state.floatbank8_c_air</th>\n",
       "      <th>...</th>\n",
       "      <th>secondary_cleaner.state.floatbank4_a_air</th>\n",
       "      <th>secondary_cleaner.state.floatbank4_a_level</th>\n",
       "      <th>secondary_cleaner.state.floatbank4_b_air</th>\n",
       "      <th>secondary_cleaner.state.floatbank4_b_level</th>\n",
       "      <th>secondary_cleaner.state.floatbank5_a_air</th>\n",
       "      <th>secondary_cleaner.state.floatbank5_a_level</th>\n",
       "      <th>secondary_cleaner.state.floatbank5_b_air</th>\n",
       "      <th>secondary_cleaner.state.floatbank5_b_level</th>\n",
       "      <th>secondary_cleaner.state.floatbank6_a_air</th>\n",
       "      <th>secondary_cleaner.state.floatbank6_a_level</th>\n",
       "    </tr>\n",
       "  </thead>\n",
       "  <tbody>\n",
       "    <tr>\n",
       "      <th>0</th>\n",
       "      <td>2016-09-01 00:59:59</td>\n",
       "      <td>210.800909</td>\n",
       "      <td>14.993118</td>\n",
       "      <td>8.080000</td>\n",
       "      <td>1.005021</td>\n",
       "      <td>1398.981301</td>\n",
       "      <td>-500.225577</td>\n",
       "      <td>1399.144926</td>\n",
       "      <td>-499.919735</td>\n",
       "      <td>1400.102998</td>\n",
       "      <td>...</td>\n",
       "      <td>12.023554</td>\n",
       "      <td>-497.795834</td>\n",
       "      <td>8.016656</td>\n",
       "      <td>-501.289139</td>\n",
       "      <td>7.946562</td>\n",
       "      <td>-432.317850</td>\n",
       "      <td>4.872511</td>\n",
       "      <td>-500.037437</td>\n",
       "      <td>26.705889</td>\n",
       "      <td>-499.709414</td>\n",
       "    </tr>\n",
       "    <tr>\n",
       "      <th>1</th>\n",
       "      <td>2016-09-01 01:59:59</td>\n",
       "      <td>215.392455</td>\n",
       "      <td>14.987471</td>\n",
       "      <td>8.080000</td>\n",
       "      <td>0.990469</td>\n",
       "      <td>1398.777912</td>\n",
       "      <td>-500.057435</td>\n",
       "      <td>1398.055362</td>\n",
       "      <td>-499.778182</td>\n",
       "      <td>1396.151033</td>\n",
       "      <td>...</td>\n",
       "      <td>12.058140</td>\n",
       "      <td>-498.695773</td>\n",
       "      <td>8.130979</td>\n",
       "      <td>-499.634209</td>\n",
       "      <td>7.958270</td>\n",
       "      <td>-525.839648</td>\n",
       "      <td>4.878850</td>\n",
       "      <td>-500.162375</td>\n",
       "      <td>25.019940</td>\n",
       "      <td>-499.819438</td>\n",
       "    </tr>\n",
       "    <tr>\n",
       "      <th>2</th>\n",
       "      <td>2016-09-01 02:59:59</td>\n",
       "      <td>215.259946</td>\n",
       "      <td>12.884934</td>\n",
       "      <td>7.786667</td>\n",
       "      <td>0.996043</td>\n",
       "      <td>1398.493666</td>\n",
       "      <td>-500.868360</td>\n",
       "      <td>1398.860436</td>\n",
       "      <td>-499.764529</td>\n",
       "      <td>1398.075709</td>\n",
       "      <td>...</td>\n",
       "      <td>11.962366</td>\n",
       "      <td>-498.767484</td>\n",
       "      <td>8.096893</td>\n",
       "      <td>-500.827423</td>\n",
       "      <td>8.071056</td>\n",
       "      <td>-500.801673</td>\n",
       "      <td>4.905125</td>\n",
       "      <td>-499.828510</td>\n",
       "      <td>24.994862</td>\n",
       "      <td>-500.622559</td>\n",
       "    </tr>\n",
       "    <tr>\n",
       "      <th>3</th>\n",
       "      <td>2016-09-01 03:59:59</td>\n",
       "      <td>215.336236</td>\n",
       "      <td>12.006805</td>\n",
       "      <td>7.640000</td>\n",
       "      <td>0.863514</td>\n",
       "      <td>1399.618111</td>\n",
       "      <td>-498.863574</td>\n",
       "      <td>1397.440120</td>\n",
       "      <td>-499.211024</td>\n",
       "      <td>1400.129303</td>\n",
       "      <td>...</td>\n",
       "      <td>12.033091</td>\n",
       "      <td>-498.350935</td>\n",
       "      <td>8.074946</td>\n",
       "      <td>-499.474407</td>\n",
       "      <td>7.897085</td>\n",
       "      <td>-500.868509</td>\n",
       "      <td>4.931400</td>\n",
       "      <td>-499.963623</td>\n",
       "      <td>24.948919</td>\n",
       "      <td>-498.709987</td>\n",
       "    </tr>\n",
       "    <tr>\n",
       "      <th>4</th>\n",
       "      <td>2016-09-01 04:59:59</td>\n",
       "      <td>199.099327</td>\n",
       "      <td>10.682530</td>\n",
       "      <td>7.530000</td>\n",
       "      <td>0.805575</td>\n",
       "      <td>1401.268123</td>\n",
       "      <td>-500.808305</td>\n",
       "      <td>1398.128818</td>\n",
       "      <td>-499.504543</td>\n",
       "      <td>1402.172226</td>\n",
       "      <td>...</td>\n",
       "      <td>12.025367</td>\n",
       "      <td>-500.786497</td>\n",
       "      <td>8.054678</td>\n",
       "      <td>-500.397500</td>\n",
       "      <td>8.107890</td>\n",
       "      <td>-509.526725</td>\n",
       "      <td>4.957674</td>\n",
       "      <td>-500.360026</td>\n",
       "      <td>25.003331</td>\n",
       "      <td>-500.856333</td>\n",
       "    </tr>\n",
       "  </tbody>\n",
       "</table>\n",
       "<p>5 rows × 53 columns</p>\n",
       "</div>"
      ],
      "text/plain": [
       "                  date  primary_cleaner.input.sulfate  \\\n",
       "0  2016-09-01 00:59:59                     210.800909   \n",
       "1  2016-09-01 01:59:59                     215.392455   \n",
       "2  2016-09-01 02:59:59                     215.259946   \n",
       "3  2016-09-01 03:59:59                     215.336236   \n",
       "4  2016-09-01 04:59:59                     199.099327   \n",
       "\n",
       "   primary_cleaner.input.depressant  primary_cleaner.input.feed_size  \\\n",
       "0                         14.993118                         8.080000   \n",
       "1                         14.987471                         8.080000   \n",
       "2                         12.884934                         7.786667   \n",
       "3                         12.006805                         7.640000   \n",
       "4                         10.682530                         7.530000   \n",
       "\n",
       "   primary_cleaner.input.xanthate  primary_cleaner.state.floatbank8_a_air  \\\n",
       "0                        1.005021                             1398.981301   \n",
       "1                        0.990469                             1398.777912   \n",
       "2                        0.996043                             1398.493666   \n",
       "3                        0.863514                             1399.618111   \n",
       "4                        0.805575                             1401.268123   \n",
       "\n",
       "   primary_cleaner.state.floatbank8_a_level  \\\n",
       "0                               -500.225577   \n",
       "1                               -500.057435   \n",
       "2                               -500.868360   \n",
       "3                               -498.863574   \n",
       "4                               -500.808305   \n",
       "\n",
       "   primary_cleaner.state.floatbank8_b_air  \\\n",
       "0                             1399.144926   \n",
       "1                             1398.055362   \n",
       "2                             1398.860436   \n",
       "3                             1397.440120   \n",
       "4                             1398.128818   \n",
       "\n",
       "   primary_cleaner.state.floatbank8_b_level  \\\n",
       "0                               -499.919735   \n",
       "1                               -499.778182   \n",
       "2                               -499.764529   \n",
       "3                               -499.211024   \n",
       "4                               -499.504543   \n",
       "\n",
       "   primary_cleaner.state.floatbank8_c_air  ...  \\\n",
       "0                             1400.102998  ...   \n",
       "1                             1396.151033  ...   \n",
       "2                             1398.075709  ...   \n",
       "3                             1400.129303  ...   \n",
       "4                             1402.172226  ...   \n",
       "\n",
       "   secondary_cleaner.state.floatbank4_a_air  \\\n",
       "0                                 12.023554   \n",
       "1                                 12.058140   \n",
       "2                                 11.962366   \n",
       "3                                 12.033091   \n",
       "4                                 12.025367   \n",
       "\n",
       "   secondary_cleaner.state.floatbank4_a_level  \\\n",
       "0                                 -497.795834   \n",
       "1                                 -498.695773   \n",
       "2                                 -498.767484   \n",
       "3                                 -498.350935   \n",
       "4                                 -500.786497   \n",
       "\n",
       "   secondary_cleaner.state.floatbank4_b_air  \\\n",
       "0                                  8.016656   \n",
       "1                                  8.130979   \n",
       "2                                  8.096893   \n",
       "3                                  8.074946   \n",
       "4                                  8.054678   \n",
       "\n",
       "   secondary_cleaner.state.floatbank4_b_level  \\\n",
       "0                                 -501.289139   \n",
       "1                                 -499.634209   \n",
       "2                                 -500.827423   \n",
       "3                                 -499.474407   \n",
       "4                                 -500.397500   \n",
       "\n",
       "   secondary_cleaner.state.floatbank5_a_air  \\\n",
       "0                                  7.946562   \n",
       "1                                  7.958270   \n",
       "2                                  8.071056   \n",
       "3                                  7.897085   \n",
       "4                                  8.107890   \n",
       "\n",
       "   secondary_cleaner.state.floatbank5_a_level  \\\n",
       "0                                 -432.317850   \n",
       "1                                 -525.839648   \n",
       "2                                 -500.801673   \n",
       "3                                 -500.868509   \n",
       "4                                 -509.526725   \n",
       "\n",
       "   secondary_cleaner.state.floatbank5_b_air  \\\n",
       "0                                  4.872511   \n",
       "1                                  4.878850   \n",
       "2                                  4.905125   \n",
       "3                                  4.931400   \n",
       "4                                  4.957674   \n",
       "\n",
       "   secondary_cleaner.state.floatbank5_b_level  \\\n",
       "0                                 -500.037437   \n",
       "1                                 -500.162375   \n",
       "2                                 -499.828510   \n",
       "3                                 -499.963623   \n",
       "4                                 -500.360026   \n",
       "\n",
       "   secondary_cleaner.state.floatbank6_a_air  \\\n",
       "0                                 26.705889   \n",
       "1                                 25.019940   \n",
       "2                                 24.994862   \n",
       "3                                 24.948919   \n",
       "4                                 25.003331   \n",
       "\n",
       "   secondary_cleaner.state.floatbank6_a_level  \n",
       "0                                 -499.709414  \n",
       "1                                 -499.819438  \n",
       "2                                 -500.622559  \n",
       "3                                 -498.709987  \n",
       "4                                 -500.856333  \n",
       "\n",
       "[5 rows x 53 columns]"
      ]
     },
     "execution_count": 5,
     "metadata": {},
     "output_type": "execute_result"
    }
   ],
   "source": [
    "test_data.head()"
   ]
  },
  {
   "cell_type": "code",
   "execution_count": 6,
   "metadata": {},
   "outputs": [
    {
     "data": {
      "text/html": [
       "<div>\n",
       "<style scoped>\n",
       "    .dataframe tbody tr th:only-of-type {\n",
       "        vertical-align: middle;\n",
       "    }\n",
       "\n",
       "    .dataframe tbody tr th {\n",
       "        vertical-align: top;\n",
       "    }\n",
       "\n",
       "    .dataframe thead th {\n",
       "        text-align: right;\n",
       "    }\n",
       "</style>\n",
       "<table border=\"1\" class=\"dataframe\">\n",
       "  <thead>\n",
       "    <tr style=\"text-align: right;\">\n",
       "      <th></th>\n",
       "      <th>date</th>\n",
       "      <th>final.output.concentrate_ag</th>\n",
       "      <th>final.output.concentrate_pb</th>\n",
       "      <th>final.output.concentrate_sol</th>\n",
       "      <th>final.output.concentrate_au</th>\n",
       "      <th>final.output.recovery</th>\n",
       "      <th>final.output.tail_ag</th>\n",
       "      <th>final.output.tail_pb</th>\n",
       "      <th>final.output.tail_sol</th>\n",
       "      <th>final.output.tail_au</th>\n",
       "      <th>...</th>\n",
       "      <th>secondary_cleaner.state.floatbank4_a_air</th>\n",
       "      <th>secondary_cleaner.state.floatbank4_a_level</th>\n",
       "      <th>secondary_cleaner.state.floatbank4_b_air</th>\n",
       "      <th>secondary_cleaner.state.floatbank4_b_level</th>\n",
       "      <th>secondary_cleaner.state.floatbank5_a_air</th>\n",
       "      <th>secondary_cleaner.state.floatbank5_a_level</th>\n",
       "      <th>secondary_cleaner.state.floatbank5_b_air</th>\n",
       "      <th>secondary_cleaner.state.floatbank5_b_level</th>\n",
       "      <th>secondary_cleaner.state.floatbank6_a_air</th>\n",
       "      <th>secondary_cleaner.state.floatbank6_a_level</th>\n",
       "    </tr>\n",
       "  </thead>\n",
       "  <tbody>\n",
       "    <tr>\n",
       "      <th>0</th>\n",
       "      <td>2016-01-15 00:00:00</td>\n",
       "      <td>6.055403</td>\n",
       "      <td>9.889648</td>\n",
       "      <td>5.507324</td>\n",
       "      <td>42.192020</td>\n",
       "      <td>70.541216</td>\n",
       "      <td>10.411962</td>\n",
       "      <td>0.895447</td>\n",
       "      <td>16.904297</td>\n",
       "      <td>2.143149</td>\n",
       "      <td>...</td>\n",
       "      <td>14.016835</td>\n",
       "      <td>-502.488007</td>\n",
       "      <td>12.099931</td>\n",
       "      <td>-504.715942</td>\n",
       "      <td>9.925633</td>\n",
       "      <td>-498.310211</td>\n",
       "      <td>8.079666</td>\n",
       "      <td>-500.470978</td>\n",
       "      <td>14.151341</td>\n",
       "      <td>-605.841980</td>\n",
       "    </tr>\n",
       "    <tr>\n",
       "      <th>1</th>\n",
       "      <td>2016-01-15 01:00:00</td>\n",
       "      <td>6.029369</td>\n",
       "      <td>9.968944</td>\n",
       "      <td>5.257781</td>\n",
       "      <td>42.701629</td>\n",
       "      <td>69.266198</td>\n",
       "      <td>10.462676</td>\n",
       "      <td>0.927452</td>\n",
       "      <td>16.634514</td>\n",
       "      <td>2.224930</td>\n",
       "      <td>...</td>\n",
       "      <td>13.992281</td>\n",
       "      <td>-505.503262</td>\n",
       "      <td>11.950531</td>\n",
       "      <td>-501.331529</td>\n",
       "      <td>10.039245</td>\n",
       "      <td>-500.169983</td>\n",
       "      <td>7.984757</td>\n",
       "      <td>-500.582168</td>\n",
       "      <td>13.998353</td>\n",
       "      <td>-599.787184</td>\n",
       "    </tr>\n",
       "    <tr>\n",
       "      <th>2</th>\n",
       "      <td>2016-01-15 02:00:00</td>\n",
       "      <td>6.055926</td>\n",
       "      <td>10.213995</td>\n",
       "      <td>5.383759</td>\n",
       "      <td>42.657501</td>\n",
       "      <td>68.116445</td>\n",
       "      <td>10.507046</td>\n",
       "      <td>0.953716</td>\n",
       "      <td>16.208849</td>\n",
       "      <td>2.257889</td>\n",
       "      <td>...</td>\n",
       "      <td>14.015015</td>\n",
       "      <td>-502.520901</td>\n",
       "      <td>11.912783</td>\n",
       "      <td>-501.133383</td>\n",
       "      <td>10.070913</td>\n",
       "      <td>-500.129135</td>\n",
       "      <td>8.013877</td>\n",
       "      <td>-500.517572</td>\n",
       "      <td>14.028663</td>\n",
       "      <td>-601.427363</td>\n",
       "    </tr>\n",
       "    <tr>\n",
       "      <th>3</th>\n",
       "      <td>2016-01-15 03:00:00</td>\n",
       "      <td>6.047977</td>\n",
       "      <td>9.977019</td>\n",
       "      <td>4.858634</td>\n",
       "      <td>42.689819</td>\n",
       "      <td>68.347543</td>\n",
       "      <td>10.422762</td>\n",
       "      <td>0.883763</td>\n",
       "      <td>16.532835</td>\n",
       "      <td>2.146849</td>\n",
       "      <td>...</td>\n",
       "      <td>14.036510</td>\n",
       "      <td>-500.857308</td>\n",
       "      <td>11.999550</td>\n",
       "      <td>-501.193686</td>\n",
       "      <td>9.970366</td>\n",
       "      <td>-499.201640</td>\n",
       "      <td>7.977324</td>\n",
       "      <td>-500.255908</td>\n",
       "      <td>14.005551</td>\n",
       "      <td>-599.996129</td>\n",
       "    </tr>\n",
       "    <tr>\n",
       "      <th>4</th>\n",
       "      <td>2016-01-15 04:00:00</td>\n",
       "      <td>6.148599</td>\n",
       "      <td>10.142511</td>\n",
       "      <td>4.939416</td>\n",
       "      <td>42.774141</td>\n",
       "      <td>66.927016</td>\n",
       "      <td>10.360302</td>\n",
       "      <td>0.792826</td>\n",
       "      <td>16.525686</td>\n",
       "      <td>2.055292</td>\n",
       "      <td>...</td>\n",
       "      <td>14.027298</td>\n",
       "      <td>-499.838632</td>\n",
       "      <td>11.953070</td>\n",
       "      <td>-501.053894</td>\n",
       "      <td>9.925709</td>\n",
       "      <td>-501.686727</td>\n",
       "      <td>7.894242</td>\n",
       "      <td>-500.356035</td>\n",
       "      <td>13.996647</td>\n",
       "      <td>-601.496691</td>\n",
       "    </tr>\n",
       "  </tbody>\n",
       "</table>\n",
       "<p>5 rows × 87 columns</p>\n",
       "</div>"
      ],
      "text/plain": [
       "                  date  final.output.concentrate_ag  \\\n",
       "0  2016-01-15 00:00:00                     6.055403   \n",
       "1  2016-01-15 01:00:00                     6.029369   \n",
       "2  2016-01-15 02:00:00                     6.055926   \n",
       "3  2016-01-15 03:00:00                     6.047977   \n",
       "4  2016-01-15 04:00:00                     6.148599   \n",
       "\n",
       "   final.output.concentrate_pb  final.output.concentrate_sol  \\\n",
       "0                     9.889648                      5.507324   \n",
       "1                     9.968944                      5.257781   \n",
       "2                    10.213995                      5.383759   \n",
       "3                     9.977019                      4.858634   \n",
       "4                    10.142511                      4.939416   \n",
       "\n",
       "   final.output.concentrate_au  final.output.recovery  final.output.tail_ag  \\\n",
       "0                    42.192020              70.541216             10.411962   \n",
       "1                    42.701629              69.266198             10.462676   \n",
       "2                    42.657501              68.116445             10.507046   \n",
       "3                    42.689819              68.347543             10.422762   \n",
       "4                    42.774141              66.927016             10.360302   \n",
       "\n",
       "   final.output.tail_pb  final.output.tail_sol  final.output.tail_au  ...  \\\n",
       "0              0.895447              16.904297              2.143149  ...   \n",
       "1              0.927452              16.634514              2.224930  ...   \n",
       "2              0.953716              16.208849              2.257889  ...   \n",
       "3              0.883763              16.532835              2.146849  ...   \n",
       "4              0.792826              16.525686              2.055292  ...   \n",
       "\n",
       "   secondary_cleaner.state.floatbank4_a_air  \\\n",
       "0                                 14.016835   \n",
       "1                                 13.992281   \n",
       "2                                 14.015015   \n",
       "3                                 14.036510   \n",
       "4                                 14.027298   \n",
       "\n",
       "   secondary_cleaner.state.floatbank4_a_level  \\\n",
       "0                                 -502.488007   \n",
       "1                                 -505.503262   \n",
       "2                                 -502.520901   \n",
       "3                                 -500.857308   \n",
       "4                                 -499.838632   \n",
       "\n",
       "   secondary_cleaner.state.floatbank4_b_air  \\\n",
       "0                                 12.099931   \n",
       "1                                 11.950531   \n",
       "2                                 11.912783   \n",
       "3                                 11.999550   \n",
       "4                                 11.953070   \n",
       "\n",
       "   secondary_cleaner.state.floatbank4_b_level  \\\n",
       "0                                 -504.715942   \n",
       "1                                 -501.331529   \n",
       "2                                 -501.133383   \n",
       "3                                 -501.193686   \n",
       "4                                 -501.053894   \n",
       "\n",
       "   secondary_cleaner.state.floatbank5_a_air  \\\n",
       "0                                  9.925633   \n",
       "1                                 10.039245   \n",
       "2                                 10.070913   \n",
       "3                                  9.970366   \n",
       "4                                  9.925709   \n",
       "\n",
       "   secondary_cleaner.state.floatbank5_a_level  \\\n",
       "0                                 -498.310211   \n",
       "1                                 -500.169983   \n",
       "2                                 -500.129135   \n",
       "3                                 -499.201640   \n",
       "4                                 -501.686727   \n",
       "\n",
       "   secondary_cleaner.state.floatbank5_b_air  \\\n",
       "0                                  8.079666   \n",
       "1                                  7.984757   \n",
       "2                                  8.013877   \n",
       "3                                  7.977324   \n",
       "4                                  7.894242   \n",
       "\n",
       "   secondary_cleaner.state.floatbank5_b_level  \\\n",
       "0                                 -500.470978   \n",
       "1                                 -500.582168   \n",
       "2                                 -500.517572   \n",
       "3                                 -500.255908   \n",
       "4                                 -500.356035   \n",
       "\n",
       "   secondary_cleaner.state.floatbank6_a_air  \\\n",
       "0                                 14.151341   \n",
       "1                                 13.998353   \n",
       "2                                 14.028663   \n",
       "3                                 14.005551   \n",
       "4                                 13.996647   \n",
       "\n",
       "   secondary_cleaner.state.floatbank6_a_level  \n",
       "0                                 -605.841980  \n",
       "1                                 -599.787184  \n",
       "2                                 -601.427363  \n",
       "3                                 -599.996129  \n",
       "4                                 -601.496691  \n",
       "\n",
       "[5 rows x 87 columns]"
      ]
     },
     "execution_count": 6,
     "metadata": {},
     "output_type": "execute_result"
    }
   ],
   "source": [
    "train_data.head()"
   ]
  },
  {
   "cell_type": "code",
   "execution_count": 7,
   "metadata": {},
   "outputs": [
    {
     "data": {
      "text/plain": [
       "date                                            0\n",
       "final.output.concentrate_ag                     1\n",
       "final.output.concentrate_pb                     1\n",
       "final.output.concentrate_sol                  211\n",
       "final.output.concentrate_au                     0\n",
       "                                             ... \n",
       "secondary_cleaner.state.floatbank5_a_level      1\n",
       "secondary_cleaner.state.floatbank5_b_air        1\n",
       "secondary_cleaner.state.floatbank5_b_level      1\n",
       "secondary_cleaner.state.floatbank6_a_air        2\n",
       "secondary_cleaner.state.floatbank6_a_level      1\n",
       "Length: 87, dtype: int64"
      ]
     },
     "execution_count": 7,
     "metadata": {},
     "output_type": "execute_result"
    }
   ],
   "source": [
    "train_data.isna().sum()"
   ]
  },
  {
   "cell_type": "code",
   "execution_count": 8,
   "metadata": {},
   "outputs": [
    {
     "data": {
      "text/plain": [
       "date                                           0\n",
       "primary_cleaner.input.sulfate                  4\n",
       "primary_cleaner.input.depressant               5\n",
       "primary_cleaner.input.feed_size                0\n",
       "primary_cleaner.input.xanthate                 4\n",
       "primary_cleaner.state.floatbank8_a_air         0\n",
       "primary_cleaner.state.floatbank8_a_level       0\n",
       "primary_cleaner.state.floatbank8_b_air         0\n",
       "primary_cleaner.state.floatbank8_b_level       0\n",
       "primary_cleaner.state.floatbank8_c_air         0\n",
       "primary_cleaner.state.floatbank8_c_level       0\n",
       "primary_cleaner.state.floatbank8_d_air         0\n",
       "primary_cleaner.state.floatbank8_d_level       0\n",
       "rougher.input.feed_ag                          0\n",
       "rougher.input.feed_pb                          0\n",
       "rougher.input.feed_rate                        3\n",
       "rougher.input.feed_size                        1\n",
       "rougher.input.feed_sol                        21\n",
       "rougher.input.feed_au                          0\n",
       "rougher.input.floatbank10_sulfate              5\n",
       "rougher.input.floatbank10_xanthate             0\n",
       "rougher.input.floatbank11_sulfate              8\n",
       "rougher.input.floatbank11_xanthate            25\n",
       "rougher.state.floatbank10_a_air                0\n",
       "rougher.state.floatbank10_a_level              0\n",
       "rougher.state.floatbank10_b_air                0\n",
       "rougher.state.floatbank10_b_level              0\n",
       "rougher.state.floatbank10_c_air                0\n",
       "rougher.state.floatbank10_c_level              0\n",
       "rougher.state.floatbank10_d_air                0\n",
       "rougher.state.floatbank10_d_level              0\n",
       "rougher.state.floatbank10_e_air                0\n",
       "rougher.state.floatbank10_e_level              0\n",
       "rougher.state.floatbank10_f_air                0\n",
       "rougher.state.floatbank10_f_level              0\n",
       "secondary_cleaner.state.floatbank2_a_air       3\n",
       "secondary_cleaner.state.floatbank2_a_level     0\n",
       "secondary_cleaner.state.floatbank2_b_air       2\n",
       "secondary_cleaner.state.floatbank2_b_level     0\n",
       "secondary_cleaner.state.floatbank3_a_air       9\n",
       "secondary_cleaner.state.floatbank3_a_level     0\n",
       "secondary_cleaner.state.floatbank3_b_air       0\n",
       "secondary_cleaner.state.floatbank3_b_level     0\n",
       "secondary_cleaner.state.floatbank4_a_air       0\n",
       "secondary_cleaner.state.floatbank4_a_level     0\n",
       "secondary_cleaner.state.floatbank4_b_air       0\n",
       "secondary_cleaner.state.floatbank4_b_level     0\n",
       "secondary_cleaner.state.floatbank5_a_air       0\n",
       "secondary_cleaner.state.floatbank5_a_level     0\n",
       "secondary_cleaner.state.floatbank5_b_air       0\n",
       "secondary_cleaner.state.floatbank5_b_level     0\n",
       "secondary_cleaner.state.floatbank6_a_air       0\n",
       "secondary_cleaner.state.floatbank6_a_level     0\n",
       "dtype: int64"
      ]
     },
     "execution_count": 8,
     "metadata": {},
     "output_type": "execute_result"
    }
   ],
   "source": [
    "test_data.isna().sum()"
   ]
  },
  {
   "cell_type": "code",
   "execution_count": 9,
   "metadata": {},
   "outputs": [
    {
     "data": {
      "text/plain": [
       "0"
      ]
     },
     "execution_count": 9,
     "metadata": {},
     "output_type": "execute_result"
    }
   ],
   "source": [
    "data.duplicated().sum()"
   ]
  },
  {
   "cell_type": "code",
   "execution_count": 10,
   "metadata": {},
   "outputs": [
    {
     "data": {
      "text/plain": [
       "0"
      ]
     },
     "execution_count": 10,
     "metadata": {},
     "output_type": "execute_result"
    }
   ],
   "source": [
    "train_data.duplicated().sum()"
   ]
  },
  {
   "cell_type": "code",
   "execution_count": 11,
   "metadata": {},
   "outputs": [
    {
     "data": {
      "text/plain": [
       "0"
      ]
     },
     "execution_count": 11,
     "metadata": {},
     "output_type": "execute_result"
    }
   ],
   "source": [
    "test_data.duplicated().sum()"
   ]
  },
  {
   "cell_type": "markdown",
   "metadata": {},
   "source": [
    "В выборке не обнаружено повторяющихся элементов. Однако, обнаружено несколько пропущенных значений как в тестовой, так и в обучающей выборках. Пропущенные значения в обучающей выборке являются более распространенными и встречаются в большем количестве столбцов. Вероятно, эти пропуски возникли из-за неправильного заполнения данных или пропуска некоторых этапов обработки."
   ]
  },
  {
   "cell_type": "markdown",
   "metadata": {},
   "source": [
    "### Расчет эффективности обогащения"
   ]
  },
  {
   "cell_type": "code",
   "execution_count": 12,
   "metadata": {},
   "outputs": [],
   "source": [
    "formula = ((train_data['rougher.output.concentrate_au']*(train_data['rougher.input.feed_au']-train_data['rougher.output.tail_au'])) / (train_data['rougher.input.feed_au']*(train_data['rougher.output.concentrate_au']-train_data['rougher.output.tail_au'])))*100"
   ]
  },
  {
   "cell_type": "markdown",
   "metadata": {},
   "source": [
    "### MAE между расчётами и значением признака"
   ]
  },
  {
   "cell_type": "code",
   "execution_count": 13,
   "metadata": {},
   "outputs": [
    {
     "data": {
      "text/plain": [
       "9.73512347450521e-15"
      ]
     },
     "execution_count": 13,
     "metadata": {},
     "output_type": "execute_result"
    }
   ],
   "source": [
    "mae = mean_absolute_error(train_data['rougher.output.recovery'],formula)\n",
    "mae"
   ]
  },
  {
   "cell_type": "markdown",
   "metadata": {},
   "source": [
    "Из-за того, что средняя абсолютная ошибка невелика, можно сделать вывод, что расчеты верны."
   ]
  },
  {
   "cell_type": "markdown",
   "metadata": {},
   "source": [
    "### Анализ признаков, недоступных в тестовой выборке."
   ]
  },
  {
   "cell_type": "code",
   "execution_count": 14,
   "metadata": {},
   "outputs": [
    {
     "data": {
      "text/plain": [
       "Index(['final.output.concentrate_ag', 'final.output.concentrate_au',\n",
       "       'final.output.concentrate_pb', 'final.output.concentrate_sol',\n",
       "       'final.output.recovery', 'final.output.tail_ag', 'final.output.tail_au',\n",
       "       'final.output.tail_pb', 'final.output.tail_sol',\n",
       "       'primary_cleaner.output.concentrate_ag',\n",
       "       'primary_cleaner.output.concentrate_au',\n",
       "       'primary_cleaner.output.concentrate_pb',\n",
       "       'primary_cleaner.output.concentrate_sol',\n",
       "       'primary_cleaner.output.tail_ag', 'primary_cleaner.output.tail_au',\n",
       "       'primary_cleaner.output.tail_pb', 'primary_cleaner.output.tail_sol',\n",
       "       'rougher.calculation.au_pb_ratio',\n",
       "       'rougher.calculation.floatbank10_sulfate_to_au_feed',\n",
       "       'rougher.calculation.floatbank11_sulfate_to_au_feed',\n",
       "       'rougher.calculation.sulfate_to_au_concentrate',\n",
       "       'rougher.output.concentrate_ag', 'rougher.output.concentrate_au',\n",
       "       'rougher.output.concentrate_pb', 'rougher.output.concentrate_sol',\n",
       "       'rougher.output.recovery', 'rougher.output.tail_ag',\n",
       "       'rougher.output.tail_au', 'rougher.output.tail_pb',\n",
       "       'rougher.output.tail_sol', 'secondary_cleaner.output.tail_ag',\n",
       "       'secondary_cleaner.output.tail_au', 'secondary_cleaner.output.tail_pb',\n",
       "       'secondary_cleaner.output.tail_sol'],\n",
       "      dtype='object')"
      ]
     },
     "execution_count": 14,
     "metadata": {},
     "output_type": "execute_result"
    }
   ],
   "source": [
    "train_columns = train_data.columns\n",
    "test_columns = test_data.columns\n",
    "result = train_columns.difference(test_columns)\n",
    "result"
   ]
  },
  {
   "cell_type": "markdown",
   "metadata": {},
   "source": [
    "Тестовая выборка не содержит следующих признаков: final.output, primary_cleaner.output, rougher.output, secondary_cleaner.output\n",
    "Это связано с тем, что эти признаки относятся к расчетным (calculation) или выходным (output) характеристикам технологического процесса, которые невозможно получить или измерить во время его выполнения."
   ]
  },
  {
   "cell_type": "markdown",
   "metadata": {},
   "source": [
    "### Предобработка данных."
   ]
  },
  {
   "cell_type": "markdown",
   "metadata": {},
   "source": [
    "Сначала следует удалить из обучающей выборки те столбцы, которых нет в тестовой выборке."
   ]
  },
  {
   "cell_type": "code",
   "execution_count": 15,
   "metadata": {},
   "outputs": [],
   "source": [
    "# перенесено ниже\n",
    "# train_data = train_data[test_data.columns]"
   ]
  },
  {
   "cell_type": "markdown",
   "metadata": {},
   "source": [
    "Ранее заметили пропуски в обеих выборках, но их количество небольшое по сравнению с общим количеством строк, поэтому можно решить удалить их."
   ]
  },
  {
   "cell_type": "code",
   "execution_count": 16,
   "metadata": {},
   "outputs": [],
   "source": [
    "train_data.dropna(inplace=True)\n",
    "test_data.dropna(inplace=True)"
   ]
  },
  {
   "cell_type": "markdown",
   "metadata": {},
   "source": [
    "### Вывод по разделу 1"
   ]
  },
  {
   "cell_type": "markdown",
   "metadata": {},
   "source": [
    "Мы изучили полученные данные и проверили их на наличие дубликатов и пропусков. Кроме того, мы рассмотрели столбцы, которые присутствуют в обучающей выборке, но отсутствуют в тестовой. Мы также провели проверку расчета эффективности обогащения."
   ]
  },
  {
   "cell_type": "markdown",
   "metadata": {},
   "source": [
    "## Анализ данных"
   ]
  },
  {
   "cell_type": "markdown",
   "metadata": {},
   "source": [
    "### Изменение концентрация металлов (Au, Ag, Pb) на различных этапах очистки."
   ]
  },
  {
   "cell_type": "markdown",
   "metadata": {},
   "source": [
    "Значение этапов:\n",
    "\n",
    "rougher — флотация\n",
    "\n",
    "primary_cleaner — первичная очистка\n",
    "\n",
    "\n",
    "final — финальные характеристики"
   ]
  },
  {
   "cell_type": "code",
   "execution_count": 18,
   "metadata": {},
   "outputs": [
    {
     "data": {
      "image/png": "[encoded data removed]",
      "text/plain": [
       "<Figure size 1440x720 with 1 Axes>"
      ]
     },
     "metadata": {
      "needs_background": "light"
     },
     "output_type": "display_data"
    }
   ],
   "source": [
    "dd=data[['rougher.output.concentrate_ag', 'primary_cleaner.output.concentrate_ag','final.output.concentrate_ag','rougher.input.feed_ag']]\n",
    "bins = np.linspace(dd.min().min(), dd.max().max(), 30)\n",
    "data.plot(y=['rougher.output.concentrate_ag', 'primary_cleaner.output.concentrate_ag','final.output.concentrate_ag','rougher.input.feed_ag'], kind='hist',figsize=(20,10),fontsize=17,bins= bins)\n",
    "plt.grid(True)\n",
    "plt.title('Изменение концентрация Ag')\n",
    "plt.xlabel('количество строк с данными',fontsize=17)\n",
    "plt.ylabel('распределение концентрации',fontsize=17)\n",
    "plt.show()"
   ]
  },
  {
   "cell_type": "code",
   "execution_count": 20,
   "metadata": {},
   "outputs": [
    {
     "data": {
      "image/png": "[encoded data removed]",
      "text/plain": [
       "<Figure size 1440x720 with 1 Axes>"
      ]
     },
     "metadata": {
      "needs_background": "light"
     },
     "output_type": "display_data"
    }
   ],
   "source": [
    "dd=data[['rougher.output.concentrate_au', 'primary_cleaner.output.concentrate_au','final.output.concentrate_au','rougher.input.feed_au']]\n",
    "bins = np.linspace(dd.min().min(), dd.max().max(), 30)\n",
    "data.plot(y=['rougher.output.concentrate_au', 'primary_cleaner.output.concentrate_au','final.output.concentrate_au','rougher.input.feed_au'], kind='hist',figsize=(20,10),fontsize=17, bins= bins)\n",
    "plt.grid(True)\n",
    "plt.title('Изменение концентрация Au')\n",
    "plt.xlabel('количество строк с данными',fontsize=17)\n",
    "plt.ylabel('распределение концентрации',fontsize=17)\n",
    "plt.show()"
   ]
  },
  {
   "cell_type": "code",
   "execution_count": 22,
   "metadata": {},
   "outputs": [
    {
     "data": {
      "image/png": "[encoded data removed]",
      "text/plain": [
       "<Figure size 1440x720 with 1 Axes>"
      ]
     },
     "metadata": {
      "needs_background": "light"
     },
     "output_type": "display_data"
    }
   ],
   "source": [
    "dd=data[['rougher.output.concentrate_pb', 'primary_cleaner.output.concentrate_pb','final.output.concentrate_pb','rougher.input.feed_pb']]\n",
    "bins = np.linspace(dd.min().min(), dd.max().max(), 30)\n",
    "data.plot(y=['rougher.output.concentrate_pb', 'primary_cleaner.output.concentrate_pb','final.output.concentrate_pb','rougher.input.feed_pb'],\n",
    "          kind='hist',figsize=(20,10),fontsize=17, bins= bins)\n",
    "plt.grid(True)\n",
    "plt.title('Изменение концентрация Pb')\n",
    "plt.xlabel('количество строк с данными',fontsize=17)\n",
    "plt.ylabel('распределение концентрации',fontsize=17)\n",
    "plt.show()"
   ]
  },
  {
   "cell_type": "markdown",
   "metadata": {},
   "source": [
    "Из графиков видно, что концентрация металлов свинца и серебра на всех этапах процесса примерно одинаковая. В то же время, концентрация золота значительно увеличивается на финальном этапе."
   ]
  },
  {
   "cell_type": "markdown",
   "metadata": {},
   "source": [
    "### Сравнение распределения размеров гранул сырья на обучающей и тестовой выборках."
   ]
  },
  {
   "cell_type": "code",
   "execution_count": 26,
   "metadata": {},
   "outputs": [
    {
     "data": {
      "image/png": "[encoded data removed]",
      "text/plain": [
       "<Figure size 1080x576 with 1 Axes>"
      ]
     },
     "metadata": {
      "needs_background": "light"
     },
     "output_type": "display_data"
    }
   ],
   "source": [
    "# кооректировка по замечению 2\n",
    "plt.figure(figsize=(15,8))\n",
    "sns.set_style('whitegrid')\n",
    "sns.kdeplot(data=test_data, x = 'rougher.input.feed_size', label = 'Test rougher.input.feed_size')\n",
    "sns.kdeplot(data=train_data, x='rougher.input.feed_size', label = 'Train rougher.input.feed_size')\n",
    "plt.title('Распределения гранул сырья перед флотацией')\n",
    "plt.xlabel('Размер гранул сырья')\n",
    "plt.ylabel('Плотность распределения')\n",
    "plt.legend()\n",
    "plt.show()"
   ]
  },
  {
   "cell_type": "code",
   "execution_count": 28,
   "metadata": {},
   "outputs": [
    {
     "data": {
      "image/png": "[encoded data removed]",
      "text/plain": [
       "<Figure size 1080x576 with 1 Axes>"
      ]
     },
     "metadata": {},
     "output_type": "display_data"
    }
   ],
   "source": [
    "plt.figure(figsize=(15,8))\n",
    "sns.set_style('whitegrid')\n",
    "sns.kdeplot(data=train_data, x = 'primary_cleaner.input.feed_size', label = 'Train primary_cleaner.input.feed_size')\n",
    "sns.kdeplot(data=test_data, x='primary_cleaner.input.feed_size', label = 'Test primary_cleaner.input.feed_size')\n",
    "plt.title('Распределение гранул сырья перед первичной очисткой')\n",
    "plt.xlabel('Размер гранул сырья')\n",
    "plt.ylabel('Плотность распределения')\n",
    "plt.legend()\n",
    "plt.show()"
   ]
  },
  {
   "cell_type": "markdown",
   "metadata": {},
   "source": [
    "По графикам обучающей и тестовой выборок можно заключить, что размер гранул практически одинаковый как в одной, так и в другой выборке."
   ]
  },
  {
   "cell_type": "markdown",
   "metadata": {},
   "source": [
    "### Исследование суммарных концентраций всех веществ на разных стадиях: в сырье, в черновом и финальном концентратах."
   ]
  },
  {
   "cell_type": "code",
   "execution_count": 29,
   "metadata": {},
   "outputs": [
    {
     "data": {
      "image/png": "[encoded data removed]",
      "text/plain": [
       "<Figure size 1440x720 with 1 Axes>"
      ]
     },
     "metadata": {},
     "output_type": "display_data"
    }
   ],
   "source": [
    "train_data['summary_rougher_input_feed_']= train_data['rougher.input.feed_ag']+train_data['rougher.input.feed_au']+train_data['rougher.input.feed_pb']+train_data['rougher.input.feed_sol']\n",
    "\n",
    "train_data['summary_rougher_output_concentrate_']= train_data['rougher.output.concentrate_ag']+train_data['rougher.output.concentrate_au']+train_data['rougher.output.concentrate_pb']+train_data['rougher.output.concentrate_sol']\n",
    "\n",
    "train_data['summary_final_output_concentrate_']= train_data['final.output.concentrate_ag']+train_data['final.output.concentrate_au']+train_data['final.output.concentrate_pb']+train_data['final.output.concentrate_sol']\n",
    "\n",
    "plt.figure(figsize=(20,10))\n",
    "plt.hist(train_data['summary_rougher_input_feed_'], bins=100, label = 'summary_rougher_input', alpha=.5)\n",
    "plt.hist(train_data['summary_rougher_output_concentrate_'], bins=100, label = 'summary_rougher_output', alpha=.5)\n",
    "plt.hist(train_data['summary_final_output_concentrate_'], bins=100, label = 'summary_final_output', alpha=.5)\n",
    "plt.title(\"Cуммарные концентраций веществ на разных стадиях\")\n",
    "plt.xlabel(\"Суммарная концентрация\")\n",
    "plt.ylabel(\"Количество результатов\")\n",
    "plt.legend(loc='upper left', fontsize='x-large')\n",
    "plt.xlim([0, 100])\n",
    "plt.ylim([0, 3000])\n",
    "plt.show()"
   ]
  },
  {
   "cell_type": "markdown",
   "metadata": {},
   "source": [
    "Мы можем заметить, что в черновом концентрате есть достаточно большой столбец с нулевыми значениями, что является аномалией. Мы решили удалить эти значения, а так же значения меньше 40.Сумарная концетрация металлов в финальной выборке выросла."
   ]
  },
  {
   "cell_type": "code",
   "execution_count": 30,
   "metadata": {},
   "outputs": [],
   "source": [
    "train_data=train_data.query('summary_rougher_output_concentrate_ > 40')\n",
    "train_data=train_data.query('summary_final_output_concentrate_ > 40')\n",
    "train_data=train_data.query('summary_rougher_input_feed_ > 40')"
   ]
  },
  {
   "cell_type": "code",
   "execution_count": 31,
   "metadata": {},
   "outputs": [],
   "source": [
    "train_data = train_data[test_data.columns]"
   ]
  },
  {
   "cell_type": "markdown",
   "metadata": {},
   "source": [
    "### Вывод по разделу 2"
   ]
  },
  {
   "cell_type": "markdown",
   "metadata": {},
   "source": [
    "Из полученных данных можно сделать следующие выводы:\n",
    "\n",
    "Концентрация металлов свинца и серебра на всех этапах процесса примерно одинакова, но концентрация золота значительно возрастает на финальном этапе.\n",
    "\n",
    "Размер гранул в обучающей и тестовой выборках практически одинаковый.\n",
    "\n",
    "В черновом концентрате была обнаружена аномалия, связанная с наличием столбца нулевых значений в какой-то из стадий процесса. Эти значения были удалены."
   ]
  },
  {
   "cell_type": "markdown",
   "metadata": {},
   "source": [
    "## Модель"
   ]
  },
  {
   "cell_type": "markdown",
   "metadata": {},
   "source": [
    "### Функция для вычисления итоговой sMAPE."
   ]
  },
  {
   "cell_type": "code",
   "execution_count": 32,
   "metadata": {},
   "outputs": [],
   "source": [
    "def smape_final(rougher, final):\n",
    "    return 0.25*rougher + 0.75*final"
   ]
  },
  {
   "cell_type": "code",
   "execution_count": 33,
   "metadata": {},
   "outputs": [],
   "source": [
    "def smape(y_true,y_pred):\n",
    "    error = np.mean(abs(y_true - y_pred)/((abs(y_true)+abs(y_pred))/2))*100\n",
    "    return error"
   ]
  },
  {
   "cell_type": "markdown",
   "metadata": {},
   "source": [
    "### Обучение разных моделей и оценка их качество кросс-валидацией. Выборка лучшей модели и проверка её на тестовой выборке."
   ]
  },
  {
   "cell_type": "markdown",
   "metadata": {},
   "source": [
    "Столбец с датой не является необходимым для моделей, поэтому мы удалим его. Для обучения моделей мы будем использовать два алгоритма: Случайный лес и Дерево решений."
   ]
  },
  {
   "cell_type": "code",
   "execution_count": 34,
   "metadata": {},
   "outputs": [],
   "source": [
    "test_data = test_data.merge(data[['rougher.output.recovery', 'final.output.recovery', 'date']], how = 'left', on= 'date')\n",
    "train_data = train_data.merge(data[['rougher.output.recovery', 'final.output.recovery', 'date']], how = 'left', on= 'date')"
   ]
  },
  {
   "cell_type": "code",
   "execution_count": 35,
   "metadata": {},
   "outputs": [],
   "source": [
    "test_data.drop(['date'],axis = 1 ,inplace=True)\n",
    "train_data.drop(['date'],axis = 1 ,inplace=True)"
   ]
  },
  {
   "cell_type": "markdown",
   "metadata": {},
   "source": [
    "Тренировочная выборка"
   ]
  },
  {
   "cell_type": "code",
   "execution_count": 36,
   "metadata": {},
   "outputs": [],
   "source": [
    "features_train_rougher = train_data.filter(regex='^rougher',axis=1)\n",
    "features_train_rougher = features_train_rougher.drop(['rougher.output.recovery'], axis=1)\n",
    "target_train_rougher = train_data['rougher.output.recovery']\n",
    "features_train_final = train_data.drop(['rougher.output.recovery', 'final.output.recovery'], axis=1)\n",
    "target_train_final = train_data['final.output.recovery']"
   ]
  },
  {
   "cell_type": "markdown",
   "metadata": {},
   "source": [
    "Тестовая выборка"
   ]
  },
  {
   "cell_type": "code",
   "execution_count": 37,
   "metadata": {},
   "outputs": [],
   "source": [
    "features_test_rougher = test_data.filter(regex='^rougher', axis=1)\n",
    "features_test_rougher = features_test_rougher.drop(['rougher.output.recovery'], axis=1)\n",
    "target_test_rougher = test_data['rougher.output.recovery']\n",
    "features_test_final = test_data.drop(['rougher.output.recovery', 'final.output.recovery'], axis=1)\n",
    "target_test_final = test_data['final.output.recovery']"
   ]
  },
  {
   "cell_type": "code",
   "execution_count": 38,
   "metadata": {},
   "outputs": [],
   "source": [
    "scorer = make_scorer(smape, greater_is_better=False)"
   ]
  },
  {
   "cell_type": "markdown",
   "metadata": {},
   "source": [
    "Линейная регрессия"
   ]
  },
  {
   "cell_type": "code",
   "execution_count": 39,
   "metadata": {},
   "outputs": [
    {
     "name": "stdout",
     "output_type": "stream",
     "text": [
      "sMape 8.321000713791756\n"
     ]
    }
   ],
   "source": [
    "model = LinearRegression()\n",
    "rougher_linear = cross_val_score(model, features_train_rougher, target_train_rougher,scoring=scorer, cv=5)\n",
    "final_linear =  cross_val_score(model, features_train_final, target_train_final,scoring=scorer, cv=5)\n",
    "print('sMape', abs(smape_final(rougher_linear, final_linear).mean()))"
   ]
  },
  {
   "cell_type": "markdown",
   "metadata": {},
   "source": [
    "Дерево решений"
   ]
  },
  {
   "cell_type": "code",
   "execution_count": 40,
   "metadata": {},
   "outputs": [
    {
     "name": "stdout",
     "output_type": "stream",
     "text": [
      "Лучший результат: depth 1 min_samples_leaf 5\n",
      "Итоговое sMAPE для дерева решений: 8.143745091484428\n",
      "CPU times: user 54.7 s, sys: 561 ms, total: 55.2 s\n",
      "Wall time: 55.3 s\n"
     ]
    }
   ],
   "source": [
    "%%time\n",
    "depth_final = 0\n",
    "samples_leaf_final = 0\n",
    "smape_value_final = -11110\n",
    "\n",
    "for depth in range(1, 10, 1):\n",
    "    for samples_leaf in range(5,50,5):\n",
    "        model2 = DecisionTreeRegressor(random_state=12345, max_depth = depth, min_samples_leaf = samples_leaf )        \n",
    "        rougher_tree = cross_val_score(model2, features_train_rougher, target_train_rougher,scoring=scorer, cv=3)\n",
    "        final_tree = cross_val_score(model2, features_train_final, target_train_final,scoring=scorer, cv=3)\n",
    "        smape_value = smape_final(rougher_tree, final_tree).mean()\n",
    "\n",
    "        if smape_value > smape_value_final:\n",
    "            smape_value_final = smape_value\n",
    "            depth_final = depth\n",
    "            samples_leaf_final = samples_leaf\n",
    "\n",
    "print('Лучший результат: depth', depth_final,  'min_samples_leaf',  samples_leaf_final)\n",
    "print('Итоговое sMAPE для дерева решений:', abs(smape_value_final))"
   ]
  },
  {
   "cell_type": "markdown",
   "metadata": {},
   "source": [
    "Случайный лес"
   ]
  },
  {
   "cell_type": "code",
   "execution_count": 41,
   "metadata": {},
   "outputs": [
    {
     "name": "stdout",
     "output_type": "stream",
     "text": [
      "Лучший результат: depth 1 est 35\n",
      "Итоговое sMAPE для случайного леса: 8.095572599411199\n",
      "CPU times: user 7min 32s, sys: 3.54 s, total: 7min 35s\n",
      "Wall time: 7min 39s\n"
     ]
    }
   ],
   "source": [
    "%%time\n",
    "depth_final = 0\n",
    "est_final = 0\n",
    "smape_value_final = -1000\n",
    "\n",
    "for depth in range(1,10):\n",
    "    for est in range(5,50,10): # откорректировано\n",
    "        model3 = RandomForestRegressor(max_depth=depth, n_estimators=est,random_state=1234)\n",
    "        rougher_tree = cross_val_score(model3, features_train_rougher, target_train_rougher,scoring=scorer, cv=3, n_jobs=-1)\n",
    "        final_tree = cross_val_score(model3, features_train_final, target_train_final,scoring=scorer, cv=3, n_jobs=-1)\n",
    "        smape_value = smape_final(rougher_tree, final_tree).mean()\n",
    "        if smape_value > smape_value_final:\n",
    "            smape_value_final = smape_value\n",
    "            est_final = est\n",
    "            depth_final = depth\n",
    "\n",
    "print('Лучший результат: depth', depth_final,  'est',  est_final)\n",
    "print('Итоговое sMAPE для случайного леса:', abs(smape_value_final))"
   ]
  },
  {
   "cell_type": "markdown",
   "metadata": {},
   "source": [
    "Лучшие результаты показал Случайный лес с параметрами max_depth = 1, n_estimators = 35, sMAPE = 8.09"
   ]
  },
  {
   "cell_type": "code",
   "execution_count": 42,
   "metadata": {},
   "outputs": [],
   "source": [
    "def smape_total(target_rougher, predicted_rougher, target_final, predicted_final):\n",
    "    smape_rough = smape(target_rougher, predicted_rougher)\n",
    "    smape_fin = smape(target_final, predicted_final)\n",
    "    return (0.25*smape_rough) + (0.75*smape_fin)"
   ]
  },
  {
   "cell_type": "markdown",
   "metadata": {},
   "source": [
    "Проверим значение на тестовой выборке"
   ]
  },
  {
   "cell_type": "code",
   "execution_count": 43,
   "metadata": {},
   "outputs": [
    {
     "name": "stdout",
     "output_type": "stream",
     "text": [
      "sMAPE на тестовой выборке: 8.88659289288275\n"
     ]
    }
   ],
   "source": [
    "model_01 = RandomForestRegressor(max_depth=1, n_estimators=35,random_state=1234)\n",
    "model_02 = RandomForestRegressor(max_depth=1, n_estimators=35,random_state=1234)\n",
    "model_01.fit(features_train_rougher, target_train_rougher)\n",
    "model_02.fit(features_train_final, target_train_final)\n",
    "test_predictions_01 = model_01.predict(features_test_rougher)\n",
    "test_predictions_02 = model_02.predict(features_test_final)\n",
    "total = smape_total(target_test_rougher, test_predictions_01, target_test_final, test_predictions_02).mean()\n",
    "print('sMAPE на тестовой выборке:',total)"
   ]
  },
  {
   "cell_type": "code",
   "execution_count": 44,
   "metadata": {},
   "outputs": [
    {
     "name": "stdout",
     "output_type": "stream",
     "text": [
      "sMAPE для DummyRegressor: 9.279436612954353\n"
     ]
    }
   ],
   "source": [
    "model_01 = DummyRegressor()\n",
    "model_02 = DummyRegressor()\n",
    "model_01.fit(features_train_rougher, target_train_rougher)\n",
    "model_02.fit(features_train_final, target_train_final)\n",
    "test_predictions_01 = model_01.predict(features_test_rougher)\n",
    "test_predictions_02 = model_02.predict(features_test_final)\n",
    "total = smape_total(target_test_rougher, test_predictions_01, target_test_final, test_predictions_02).mean()\n",
    "print('sMAPE для DummyRegressor:',total)"
   ]
  },
  {
   "cell_type": "markdown",
   "metadata": {},
   "source": [
    "### Вывод\n",
    "В начале проекта была получена выборка данных с небольшим количеством пропущенных значений, которые были удалены. При анализе данных выявлено, что концентрация металлов свинца и серебра на всех этапах примерно одинакова, а концентрация золота возрастает на финальном этапе. Размер гранул в тестовой и обучающей выборках практически идентичны. Была найдена аномалия в черновом концентрате, где значения в какой-то стадии были равны нулю и были удалены из данных.\n",
    "\n",
    "Далее было необходимо разработать модели и выбрать наилучшие показатели на тренировочной выборке. Из трех моделей, включая дерево решений, линейную регрессию и случайный лес, была выбрана наилучшая модель - случайный лес с гиперпараметрами max_depth = 1, n_estimators = 35 и показателем sMAPE 8.09.\n",
    "\n",
    "Затем было проведено тестирование модели на тестовой выборке, где был получен итоговый показатель sMAPE равный 8.886."
   ]
  }
 ],
 "metadata": {
  "ExecuteTimeLog": [
   {
    "duration": 1573,
    "start_time": "2023-04-26T17:34:51.476Z"
   },
   {
    "duration": 3,
    "start_time": "2023-04-26T17:34:53.051Z"
   },
   {
    "duration": 2849,
    "start_time": "2023-04-26T17:34:53.055Z"
   },
   {
    "duration": 22,
    "start_time": "2023-04-26T17:34:55.906Z"
   },
   {
    "duration": 26,
    "start_time": "2023-04-26T17:34:55.929Z"
   },
   {
    "duration": 22,
    "start_time": "2023-04-26T17:34:55.957Z"
   },
   {
    "duration": 26,
    "start_time": "2023-04-26T17:34:55.980Z"
   },
   {
    "duration": 6,
    "start_time": "2023-04-26T17:34:56.007Z"
   },
   {
    "duration": 115,
    "start_time": "2023-04-26T17:34:56.014Z"
   },
   {
    "duration": 131,
    "start_time": "2023-04-26T17:34:56.130Z"
   },
   {
    "duration": 22,
    "start_time": "2023-04-26T17:34:56.267Z"
   },
   {
    "duration": 5,
    "start_time": "2023-04-26T17:34:56.291Z"
   },
   {
    "duration": 13,
    "start_time": "2023-04-26T17:34:56.297Z"
   },
   {
    "duration": 9,
    "start_time": "2023-04-26T17:34:56.312Z"
   },
   {
    "duration": 16,
    "start_time": "2023-04-26T17:34:56.322Z"
   },
   {
    "duration": 20,
    "start_time": "2023-04-26T17:34:56.340Z"
   },
   {
    "duration": 354,
    "start_time": "2023-04-26T17:34:56.362Z"
   },
   {
    "duration": 353,
    "start_time": "2023-04-26T17:34:56.719Z"
   },
   {
    "duration": 340,
    "start_time": "2023-04-26T17:34:57.073Z"
   },
   {
    "duration": 143,
    "start_time": "2023-04-26T17:34:57.414Z"
   },
   {
    "duration": 410,
    "start_time": "2023-04-26T17:34:57.558Z"
   },
   {
    "duration": 160,
    "start_time": "2023-04-26T17:34:57.970Z"
   },
   {
    "duration": 165,
    "start_time": "2023-04-26T17:34:58.136Z"
   },
   {
    "duration": 189,
    "start_time": "2023-04-26T17:34:58.302Z"
   },
   {
    "duration": 5,
    "start_time": "2023-04-26T17:34:58.493Z"
   },
   {
    "duration": 5,
    "start_time": "2023-04-26T17:34:58.499Z"
   },
   {
    "duration": 6,
    "start_time": "2023-04-26T17:34:58.506Z"
   },
   {
    "duration": 9,
    "start_time": "2023-04-26T17:34:58.513Z"
   },
   {
    "duration": 68,
    "start_time": "2023-04-26T17:34:58.523Z"
   },
   {
    "duration": 9,
    "start_time": "2023-04-26T17:34:58.593Z"
   },
   {
    "duration": 7,
    "start_time": "2023-04-26T17:34:58.604Z"
   },
   {
    "duration": 9,
    "start_time": "2023-04-26T17:34:58.612Z"
   },
   {
    "duration": 2427,
    "start_time": "2023-04-26T17:34:58.622Z"
   },
   {
    "duration": 138275,
    "start_time": "2023-04-26T17:35:01.133Z"
   },
   {
    "duration": 284367,
    "start_time": "2023-04-26T17:37:19.411Z"
   },
   {
    "duration": 4209,
    "start_time": "2023-04-26T17:42:03.780Z"
   },
   {
    "duration": 9,
    "start_time": "2023-04-26T17:42:07.991Z"
   },
   {
    "duration": 2161,
    "start_time": "2023-04-27T11:03:41.497Z"
   },
   {
    "duration": 4,
    "start_time": "2023-04-27T11:03:43.660Z"
   },
   {
    "duration": 827,
    "start_time": "2023-04-27T11:03:43.666Z"
   },
   {
    "duration": 25,
    "start_time": "2023-04-27T11:03:44.495Z"
   },
   {
    "duration": 39,
    "start_time": "2023-04-27T11:03:44.521Z"
   },
   {
    "duration": 22,
    "start_time": "2023-04-27T11:03:44.561Z"
   },
   {
    "duration": 23,
    "start_time": "2023-04-27T11:03:44.584Z"
   },
   {
    "duration": 7,
    "start_time": "2023-04-27T11:03:44.608Z"
   },
   {
    "duration": 149,
    "start_time": "2023-04-27T11:03:44.636Z"
   },
   {
    "duration": 187,
    "start_time": "2023-04-27T11:03:44.789Z"
   },
   {
    "duration": 38,
    "start_time": "2023-04-27T11:03:44.979Z"
   },
   {
    "duration": 48,
    "start_time": "2023-04-27T11:03:45.019Z"
   },
   {
    "duration": 33,
    "start_time": "2023-04-27T11:03:45.069Z"
   },
   {
    "duration": 51,
    "start_time": "2023-04-27T11:03:45.104Z"
   },
   {
    "duration": 22,
    "start_time": "2023-04-27T11:03:45.157Z"
   },
   {
    "duration": 39,
    "start_time": "2023-04-27T11:03:45.181Z"
   },
   {
    "duration": 447,
    "start_time": "2023-04-27T11:03:45.222Z"
   },
   {
    "duration": 379,
    "start_time": "2023-04-27T11:03:45.672Z"
   },
   {
    "duration": 349,
    "start_time": "2023-04-27T11:03:46.054Z"
   },
   {
    "duration": 165,
    "start_time": "2023-04-27T11:03:46.405Z"
   },
   {
    "duration": 610,
    "start_time": "2023-04-27T11:03:46.572Z"
   },
   {
    "duration": 220,
    "start_time": "2023-04-27T11:03:47.185Z"
   },
   {
    "duration": 212,
    "start_time": "2023-04-27T11:03:47.409Z"
   },
   {
    "duration": 218,
    "start_time": "2023-04-27T11:03:47.624Z"
   },
   {
    "duration": 7,
    "start_time": "2023-04-27T11:03:48.934Z"
   },
   {
    "duration": 33,
    "start_time": "2023-04-27T11:03:49.302Z"
   },
   {
    "duration": 4,
    "start_time": "2023-04-27T11:05:46.632Z"
   },
   {
    "duration": 5,
    "start_time": "2023-04-27T11:05:56.769Z"
   },
   {
    "duration": 1657,
    "start_time": "2023-04-30T18:19:01.483Z"
   },
   {
    "duration": 3,
    "start_time": "2023-04-30T18:19:03.225Z"
   },
   {
    "duration": 2972,
    "start_time": "2023-04-30T18:19:03.982Z"
   },
   {
    "duration": 27,
    "start_time": "2023-04-30T18:19:06.956Z"
   },
   {
    "duration": 23,
    "start_time": "2023-04-30T18:19:07.058Z"
   },
   {
    "duration": 22,
    "start_time": "2023-04-30T18:19:09.795Z"
   },
   {
    "duration": 16,
    "start_time": "2023-04-30T18:19:11.081Z"
   },
   {
    "duration": 16,
    "start_time": "2023-04-30T18:19:58.905Z"
   },
   {
    "duration": 2,
    "start_time": "2023-04-30T20:41:24.473Z"
   },
   {
    "duration": 1398,
    "start_time": "2023-04-30T20:46:10.237Z"
   },
   {
    "duration": 2,
    "start_time": "2023-04-30T20:46:11.637Z"
   },
   {
    "duration": 793,
    "start_time": "2023-04-30T20:46:11.644Z"
   },
   {
    "duration": 34,
    "start_time": "2023-04-30T20:46:12.439Z"
   },
   {
    "duration": 29,
    "start_time": "2023-04-30T20:46:12.475Z"
   },
   {
    "duration": 33,
    "start_time": "2023-04-30T20:46:12.506Z"
   },
   {
    "duration": 34,
    "start_time": "2023-04-30T20:46:12.541Z"
   },
   {
    "duration": 22,
    "start_time": "2023-04-30T20:46:12.576Z"
   },
   {
    "duration": 130,
    "start_time": "2023-04-30T20:46:12.601Z"
   },
   {
    "duration": 139,
    "start_time": "2023-04-30T20:46:12.733Z"
   },
   {
    "duration": 25,
    "start_time": "2023-04-30T20:46:12.874Z"
   },
   {
    "duration": 19,
    "start_time": "2023-04-30T20:46:12.900Z"
   },
   {
    "duration": 5,
    "start_time": "2023-04-30T20:46:12.921Z"
   },
   {
    "duration": 24,
    "start_time": "2023-04-30T20:46:12.927Z"
   },
   {
    "duration": 16,
    "start_time": "2023-04-30T20:46:12.952Z"
   },
   {
    "duration": 29,
    "start_time": "2023-04-30T20:46:12.969Z"
   },
   {
    "duration": 14,
    "start_time": "2023-04-30T20:46:12.999Z"
   },
   {
    "duration": 482,
    "start_time": "2023-04-30T20:46:13.014Z"
   },
   {
    "duration": 3,
    "start_time": "2023-04-30T20:46:13.497Z"
   },
   {
    "duration": 465,
    "start_time": "2023-04-30T20:46:13.501Z"
   },
   {
    "duration": 2,
    "start_time": "2023-04-30T20:46:13.968Z"
   },
   {
    "duration": 534,
    "start_time": "2023-04-30T20:46:13.972Z"
   },
   {
    "duration": 9,
    "start_time": "2023-04-30T20:46:14.508Z"
   },
   {
    "duration": 27,
    "start_time": "2023-04-30T20:46:14.519Z"
   },
   {
    "duration": 741,
    "start_time": "2023-04-30T20:46:14.548Z"
   },
   {
    "duration": 418,
    "start_time": "2023-04-30T20:46:15.291Z"
   },
   {
    "duration": 274,
    "start_time": "2023-04-30T20:46:15.713Z"
   },
   {
    "duration": 173,
    "start_time": "2023-04-30T20:46:15.989Z"
   },
   {
    "duration": 188,
    "start_time": "2023-04-30T20:46:16.164Z"
   },
   {
    "duration": 4,
    "start_time": "2023-04-30T20:46:16.354Z"
   },
   {
    "duration": 16,
    "start_time": "2023-04-30T20:46:16.360Z"
   },
   {
    "duration": 5,
    "start_time": "2023-04-30T20:46:16.378Z"
   },
   {
    "duration": 6,
    "start_time": "2023-04-30T20:46:16.385Z"
   },
   {
    "duration": 8,
    "start_time": "2023-04-30T20:46:16.392Z"
   },
   {
    "duration": 42,
    "start_time": "2023-04-30T20:46:16.401Z"
   },
   {
    "duration": 11,
    "start_time": "2023-04-30T20:46:16.445Z"
   },
   {
    "duration": 9,
    "start_time": "2023-04-30T20:46:16.457Z"
   },
   {
    "duration": 16,
    "start_time": "2023-04-30T20:46:16.467Z"
   },
   {
    "duration": 1638,
    "start_time": "2023-04-30T20:46:16.485Z"
   },
   {
    "duration": 1376,
    "start_time": "2023-04-30T20:47:48.574Z"
   },
   {
    "duration": 3,
    "start_time": "2023-04-30T20:47:49.952Z"
   },
   {
    "duration": 742,
    "start_time": "2023-04-30T20:47:49.956Z"
   },
   {
    "duration": 31,
    "start_time": "2023-04-30T20:47:50.701Z"
   },
   {
    "duration": 25,
    "start_time": "2023-04-30T20:47:50.734Z"
   },
   {
    "duration": 32,
    "start_time": "2023-04-30T20:47:50.760Z"
   },
   {
    "duration": 10,
    "start_time": "2023-04-30T20:47:50.793Z"
   },
   {
    "duration": 23,
    "start_time": "2023-04-30T20:47:50.804Z"
   },
   {
    "duration": 111,
    "start_time": "2023-04-30T20:47:50.828Z"
   },
   {
    "duration": 142,
    "start_time": "2023-04-30T20:47:50.942Z"
   },
   {
    "duration": 31,
    "start_time": "2023-04-30T20:47:51.086Z"
   },
   {
    "duration": 6,
    "start_time": "2023-04-30T20:47:51.119Z"
   },
   {
    "duration": 25,
    "start_time": "2023-04-30T20:47:51.126Z"
   },
   {
    "duration": 13,
    "start_time": "2023-04-30T20:47:51.153Z"
   },
   {
    "duration": 18,
    "start_time": "2023-04-30T20:47:51.168Z"
   },
   {
    "duration": 31,
    "start_time": "2023-04-30T20:47:51.188Z"
   },
   {
    "duration": 3,
    "start_time": "2023-04-30T20:47:51.221Z"
   },
   {
    "duration": 468,
    "start_time": "2023-04-30T20:47:51.225Z"
   },
   {
    "duration": 3,
    "start_time": "2023-04-30T20:47:51.695Z"
   },
   {
    "duration": 515,
    "start_time": "2023-04-30T20:47:51.700Z"
   },
   {
    "duration": 3,
    "start_time": "2023-04-30T20:47:52.218Z"
   },
   {
    "duration": 567,
    "start_time": "2023-04-30T20:47:52.223Z"
   },
   {
    "duration": 2,
    "start_time": "2023-04-30T20:47:52.792Z"
   },
   {
    "duration": 21,
    "start_time": "2023-04-30T20:47:52.796Z"
   },
   {
    "duration": 746,
    "start_time": "2023-04-30T20:47:52.819Z"
   },
   {
    "duration": 445,
    "start_time": "2023-04-30T20:47:53.568Z"
   },
   {
    "duration": 3,
    "start_time": "2023-04-30T20:47:54.018Z"
   },
   {
    "duration": 11,
    "start_time": "2023-04-30T20:47:54.024Z"
   },
   {
    "duration": 15,
    "start_time": "2023-04-30T20:47:54.036Z"
   },
   {
    "duration": 661,
    "start_time": "2023-04-30T20:47:54.052Z"
   },
   {
    "duration": 1241,
    "start_time": "2023-04-30T20:47:54.716Z"
   },
   {
    "duration": 0,
    "start_time": "2023-04-30T20:47:55.959Z"
   },
   {
    "duration": 0,
    "start_time": "2023-04-30T20:47:55.960Z"
   },
   {
    "duration": 0,
    "start_time": "2023-04-30T20:47:55.961Z"
   },
   {
    "duration": 0,
    "start_time": "2023-04-30T20:47:55.962Z"
   },
   {
    "duration": 0,
    "start_time": "2023-04-30T20:47:55.963Z"
   },
   {
    "duration": 0,
    "start_time": "2023-04-30T20:47:55.964Z"
   },
   {
    "duration": 0,
    "start_time": "2023-04-30T20:47:55.965Z"
   },
   {
    "duration": 0,
    "start_time": "2023-04-30T20:47:55.967Z"
   },
   {
    "duration": 0,
    "start_time": "2023-04-30T20:47:55.968Z"
   },
   {
    "duration": 0,
    "start_time": "2023-04-30T20:47:55.969Z"
   },
   {
    "duration": 0,
    "start_time": "2023-04-30T20:47:55.970Z"
   },
   {
    "duration": 0,
    "start_time": "2023-04-30T20:47:55.971Z"
   },
   {
    "duration": 0,
    "start_time": "2023-04-30T20:47:55.971Z"
   },
   {
    "duration": 46,
    "start_time": "2023-04-30T20:48:53.164Z"
   },
   {
    "duration": 1451,
    "start_time": "2023-04-30T20:49:02.017Z"
   },
   {
    "duration": 3,
    "start_time": "2023-04-30T20:49:03.470Z"
   },
   {
    "duration": 707,
    "start_time": "2023-04-30T20:49:03.475Z"
   },
   {
    "duration": 24,
    "start_time": "2023-04-30T20:49:04.184Z"
   },
   {
    "duration": 23,
    "start_time": "2023-04-30T20:49:04.217Z"
   },
   {
    "duration": 41,
    "start_time": "2023-04-30T20:49:04.242Z"
   },
   {
    "duration": 28,
    "start_time": "2023-04-30T20:49:04.285Z"
   },
   {
    "duration": 23,
    "start_time": "2023-04-30T20:49:04.315Z"
   },
   {
    "duration": 117,
    "start_time": "2023-04-30T20:49:04.340Z"
   },
   {
    "duration": 129,
    "start_time": "2023-04-30T20:49:04.460Z"
   },
   {
    "duration": 31,
    "start_time": "2023-04-30T20:49:04.591Z"
   },
   {
    "duration": 5,
    "start_time": "2023-04-30T20:49:04.624Z"
   },
   {
    "duration": 38,
    "start_time": "2023-04-30T20:49:04.631Z"
   },
   {
    "duration": 36,
    "start_time": "2023-04-30T20:49:04.671Z"
   },
   {
    "duration": 28,
    "start_time": "2023-04-30T20:49:04.709Z"
   },
   {
    "duration": 42,
    "start_time": "2023-04-30T20:49:04.739Z"
   },
   {
    "duration": 20,
    "start_time": "2023-04-30T20:49:04.783Z"
   },
   {
    "duration": 484,
    "start_time": "2023-04-30T20:49:04.804Z"
   },
   {
    "duration": 2,
    "start_time": "2023-04-30T20:49:05.290Z"
   },
   {
    "duration": 517,
    "start_time": "2023-04-30T20:49:05.294Z"
   },
   {
    "duration": 4,
    "start_time": "2023-04-30T20:49:05.813Z"
   },
   {
    "duration": 567,
    "start_time": "2023-04-30T20:49:05.819Z"
   },
   {
    "duration": 2,
    "start_time": "2023-04-30T20:49:06.388Z"
   },
   {
    "duration": 13,
    "start_time": "2023-04-30T20:49:06.391Z"
   },
   {
    "duration": 762,
    "start_time": "2023-04-30T20:49:06.405Z"
   },
   {
    "duration": 462,
    "start_time": "2023-04-30T20:49:07.169Z"
   },
   {
    "duration": 3,
    "start_time": "2023-04-30T20:49:07.632Z"
   },
   {
    "duration": 27,
    "start_time": "2023-04-30T20:49:07.639Z"
   },
   {
    "duration": 11,
    "start_time": "2023-04-30T20:49:07.668Z"
   },
   {
    "duration": 663,
    "start_time": "2023-04-30T20:49:07.681Z"
   },
   {
    "duration": 39,
    "start_time": "2023-04-30T20:49:08.345Z"
   },
   {
    "duration": 4,
    "start_time": "2023-04-30T20:49:08.386Z"
   },
   {
    "duration": 22,
    "start_time": "2023-04-30T20:49:08.391Z"
   },
   {
    "duration": 29,
    "start_time": "2023-04-30T20:49:08.415Z"
   },
   {
    "duration": 42,
    "start_time": "2023-04-30T20:49:08.446Z"
   },
   {
    "duration": 67,
    "start_time": "2023-04-30T20:49:08.490Z"
   },
   {
    "duration": 46,
    "start_time": "2023-04-30T20:49:08.559Z"
   },
   {
    "duration": 23,
    "start_time": "2023-04-30T20:49:08.606Z"
   },
   {
    "duration": 20,
    "start_time": "2023-04-30T20:49:08.631Z"
   },
   {
    "duration": 2365,
    "start_time": "2023-04-30T20:49:08.653Z"
   },
   {
    "duration": 116742,
    "start_time": "2023-04-30T20:49:11.020Z"
   },
   {
    "duration": 234595,
    "start_time": "2023-04-30T20:51:07.763Z"
   },
   {
    "duration": 3316,
    "start_time": "2023-04-30T20:55:02.360Z"
   },
   {
    "duration": 8,
    "start_time": "2023-04-30T20:55:05.678Z"
   },
   {
    "duration": 72,
    "start_time": "2023-04-30T20:55:05.689Z"
   },
   {
    "duration": 1407,
    "start_time": "2023-04-30T20:56:45.938Z"
   },
   {
    "duration": 3,
    "start_time": "2023-04-30T20:56:47.347Z"
   },
   {
    "duration": 747,
    "start_time": "2023-04-30T20:56:47.352Z"
   },
   {
    "duration": 35,
    "start_time": "2023-04-30T20:56:48.101Z"
   },
   {
    "duration": 30,
    "start_time": "2023-04-30T20:56:48.138Z"
   },
   {
    "duration": 45,
    "start_time": "2023-04-30T20:56:48.170Z"
   },
   {
    "duration": 23,
    "start_time": "2023-04-30T20:56:48.217Z"
   },
   {
    "duration": 21,
    "start_time": "2023-04-30T20:56:48.242Z"
   },
   {
    "duration": 114,
    "start_time": "2023-04-30T20:56:48.266Z"
   },
   {
    "duration": 130,
    "start_time": "2023-04-30T20:56:48.383Z"
   },
   {
    "duration": 23,
    "start_time": "2023-04-30T20:56:48.518Z"
   },
   {
    "duration": 7,
    "start_time": "2023-04-30T20:56:48.543Z"
   },
   {
    "duration": 16,
    "start_time": "2023-04-30T20:56:48.551Z"
   },
   {
    "duration": 17,
    "start_time": "2023-04-30T20:56:48.569Z"
   },
   {
    "duration": 20,
    "start_time": "2023-04-30T20:56:48.588Z"
   },
   {
    "duration": 39,
    "start_time": "2023-04-30T20:56:48.610Z"
   },
   {
    "duration": 6,
    "start_time": "2023-04-30T20:56:48.651Z"
   },
   {
    "duration": 437,
    "start_time": "2023-04-30T20:56:48.659Z"
   },
   {
    "duration": 3,
    "start_time": "2023-04-30T20:56:49.098Z"
   },
   {
    "duration": 471,
    "start_time": "2023-04-30T20:56:49.102Z"
   },
   {
    "duration": 2,
    "start_time": "2023-04-30T20:56:49.575Z"
   },
   {
    "duration": 529,
    "start_time": "2023-04-30T20:56:49.579Z"
   },
   {
    "duration": 7,
    "start_time": "2023-04-30T20:56:50.110Z"
   },
   {
    "duration": 12,
    "start_time": "2023-04-30T20:56:50.119Z"
   },
   {
    "duration": 736,
    "start_time": "2023-04-30T20:56:50.133Z"
   },
   {
    "duration": 468,
    "start_time": "2023-04-30T20:56:50.871Z"
   },
   {
    "duration": 3,
    "start_time": "2023-04-30T20:56:51.341Z"
   },
   {
    "duration": 16,
    "start_time": "2023-04-30T20:56:51.347Z"
   },
   {
    "duration": 8,
    "start_time": "2023-04-30T20:56:51.365Z"
   },
   {
    "duration": 669,
    "start_time": "2023-04-30T20:56:51.374Z"
   },
   {
    "duration": 40,
    "start_time": "2023-04-30T20:56:52.045Z"
   },
   {
    "duration": 4,
    "start_time": "2023-04-30T20:56:52.087Z"
   },
   {
    "duration": 15,
    "start_time": "2023-04-30T20:56:52.093Z"
   },
   {
    "duration": 13,
    "start_time": "2023-04-30T20:56:52.117Z"
   },
   {
    "duration": 23,
    "start_time": "2023-04-30T20:56:52.132Z"
   },
   {
    "duration": 101,
    "start_time": "2023-04-30T20:56:52.157Z"
   },
   {
    "duration": 0,
    "start_time": "2023-04-30T20:56:52.260Z"
   },
   {
    "duration": 0,
    "start_time": "2023-04-30T20:56:52.261Z"
   },
   {
    "duration": 0,
    "start_time": "2023-04-30T20:56:52.263Z"
   },
   {
    "duration": 0,
    "start_time": "2023-04-30T20:56:52.264Z"
   },
   {
    "duration": 0,
    "start_time": "2023-04-30T20:56:52.266Z"
   },
   {
    "duration": 0,
    "start_time": "2023-04-30T20:56:52.267Z"
   },
   {
    "duration": 0,
    "start_time": "2023-04-30T20:56:52.269Z"
   },
   {
    "duration": 0,
    "start_time": "2023-04-30T20:56:52.271Z"
   },
   {
    "duration": 0,
    "start_time": "2023-04-30T20:56:52.272Z"
   },
   {
    "duration": 0,
    "start_time": "2023-04-30T20:56:52.273Z"
   },
   {
    "duration": 1451,
    "start_time": "2023-04-30T20:57:26.791Z"
   },
   {
    "duration": 3,
    "start_time": "2023-04-30T20:57:28.244Z"
   },
   {
    "duration": 712,
    "start_time": "2023-04-30T20:57:28.249Z"
   },
   {
    "duration": 23,
    "start_time": "2023-04-30T20:57:28.963Z"
   },
   {
    "duration": 32,
    "start_time": "2023-04-30T20:57:28.988Z"
   },
   {
    "duration": 41,
    "start_time": "2023-04-30T20:57:29.021Z"
   },
   {
    "duration": 35,
    "start_time": "2023-04-30T20:57:29.064Z"
   },
   {
    "duration": 10,
    "start_time": "2023-04-30T20:57:29.101Z"
   },
   {
    "duration": 102,
    "start_time": "2023-04-30T20:57:29.113Z"
   },
   {
    "duration": 130,
    "start_time": "2023-04-30T20:57:29.217Z"
   },
   {
    "duration": 25,
    "start_time": "2023-04-30T20:57:29.349Z"
   },
   {
    "duration": 5,
    "start_time": "2023-04-30T20:57:29.376Z"
   },
   {
    "duration": 51,
    "start_time": "2023-04-30T20:57:29.383Z"
   },
   {
    "duration": 17,
    "start_time": "2023-04-30T20:57:29.436Z"
   },
   {
    "duration": 12,
    "start_time": "2023-04-30T20:57:29.455Z"
   },
   {
    "duration": 28,
    "start_time": "2023-04-30T20:57:29.468Z"
   },
   {
    "duration": 3,
    "start_time": "2023-04-30T20:57:29.498Z"
   },
   {
    "duration": 464,
    "start_time": "2023-04-30T20:57:29.502Z"
   },
   {
    "duration": 2,
    "start_time": "2023-04-30T20:57:29.968Z"
   },
   {
    "duration": 450,
    "start_time": "2023-04-30T20:57:29.971Z"
   },
   {
    "duration": 3,
    "start_time": "2023-04-30T20:57:30.422Z"
   },
   {
    "duration": 614,
    "start_time": "2023-04-30T20:57:30.426Z"
   },
   {
    "duration": 3,
    "start_time": "2023-04-30T20:57:31.041Z"
   },
   {
    "duration": 47,
    "start_time": "2023-04-30T20:57:31.045Z"
   },
   {
    "duration": 802,
    "start_time": "2023-04-30T20:57:31.094Z"
   },
   {
    "duration": 466,
    "start_time": "2023-04-30T20:57:31.898Z"
   },
   {
    "duration": 3,
    "start_time": "2023-04-30T20:57:32.366Z"
   },
   {
    "duration": 19,
    "start_time": "2023-04-30T20:57:32.372Z"
   },
   {
    "duration": 12,
    "start_time": "2023-04-30T20:57:32.393Z"
   },
   {
    "duration": 646,
    "start_time": "2023-04-30T20:57:32.406Z"
   },
   {
    "duration": 39,
    "start_time": "2023-04-30T20:57:33.053Z"
   },
   {
    "duration": 4,
    "start_time": "2023-04-30T20:57:33.094Z"
   },
   {
    "duration": 19,
    "start_time": "2023-04-30T20:57:33.099Z"
   },
   {
    "duration": 17,
    "start_time": "2023-04-30T20:57:33.119Z"
   },
   {
    "duration": 6,
    "start_time": "2023-04-30T20:57:33.138Z"
   },
   {
    "duration": 31,
    "start_time": "2023-04-30T20:57:33.146Z"
   },
   {
    "duration": 8,
    "start_time": "2023-04-30T20:57:33.179Z"
   },
   {
    "duration": 8,
    "start_time": "2023-04-30T20:57:33.189Z"
   },
   {
    "duration": 15,
    "start_time": "2023-04-30T20:57:33.199Z"
   },
   {
    "duration": 9,
    "start_time": "2023-04-30T20:57:33.215Z"
   },
   {
    "duration": 2593,
    "start_time": "2023-04-30T20:57:33.226Z"
   },
   {
    "duration": 0,
    "start_time": "2023-04-30T20:57:35.821Z"
   },
   {
    "duration": 0,
    "start_time": "2023-04-30T20:57:35.822Z"
   },
   {
    "duration": 0,
    "start_time": "2023-04-30T20:57:35.824Z"
   },
   {
    "duration": 0,
    "start_time": "2023-04-30T20:57:35.825Z"
   },
   {
    "duration": 3,
    "start_time": "2023-04-30T20:59:22.172Z"
   },
   {
    "duration": 1395,
    "start_time": "2023-04-30T20:59:32.805Z"
   },
   {
    "duration": 3,
    "start_time": "2023-04-30T20:59:34.202Z"
   },
   {
    "duration": 743,
    "start_time": "2023-04-30T20:59:34.207Z"
   },
   {
    "duration": 24,
    "start_time": "2023-04-30T20:59:34.952Z"
   },
   {
    "duration": 38,
    "start_time": "2023-04-30T20:59:34.978Z"
   },
   {
    "duration": 37,
    "start_time": "2023-04-30T20:59:35.018Z"
   },
   {
    "duration": 16,
    "start_time": "2023-04-30T20:59:35.056Z"
   },
   {
    "duration": 7,
    "start_time": "2023-04-30T20:59:35.074Z"
   },
   {
    "duration": 113,
    "start_time": "2023-04-30T20:59:35.083Z"
   },
   {
    "duration": 135,
    "start_time": "2023-04-30T20:59:35.198Z"
   },
   {
    "duration": 25,
    "start_time": "2023-04-30T20:59:35.335Z"
   },
   {
    "duration": 6,
    "start_time": "2023-04-30T20:59:35.362Z"
   },
   {
    "duration": 11,
    "start_time": "2023-04-30T20:59:35.370Z"
   },
   {
    "duration": 12,
    "start_time": "2023-04-30T20:59:35.383Z"
   },
   {
    "duration": 20,
    "start_time": "2023-04-30T20:59:35.397Z"
   },
   {
    "duration": 29,
    "start_time": "2023-04-30T20:59:35.419Z"
   },
   {
    "duration": 10,
    "start_time": "2023-04-30T20:59:35.450Z"
   },
   {
    "duration": 486,
    "start_time": "2023-04-30T20:59:35.462Z"
   },
   {
    "duration": 3,
    "start_time": "2023-04-30T20:59:35.950Z"
   },
   {
    "duration": 476,
    "start_time": "2023-04-30T20:59:35.954Z"
   },
   {
    "duration": 2,
    "start_time": "2023-04-30T20:59:36.432Z"
   },
   {
    "duration": 547,
    "start_time": "2023-04-30T20:59:36.436Z"
   },
   {
    "duration": 3,
    "start_time": "2023-04-30T20:59:36.985Z"
   },
   {
    "duration": 11,
    "start_time": "2023-04-30T20:59:36.990Z"
   },
   {
    "duration": 743,
    "start_time": "2023-04-30T20:59:37.003Z"
   },
   {
    "duration": 443,
    "start_time": "2023-04-30T20:59:37.748Z"
   },
   {
    "duration": 2,
    "start_time": "2023-04-30T20:59:38.193Z"
   },
   {
    "duration": 8,
    "start_time": "2023-04-30T20:59:38.199Z"
   },
   {
    "duration": 8,
    "start_time": "2023-04-30T20:59:38.217Z"
   },
   {
    "duration": 720,
    "start_time": "2023-04-30T20:59:38.227Z"
   },
   {
    "duration": 39,
    "start_time": "2023-04-30T20:59:38.949Z"
   },
   {
    "duration": 4,
    "start_time": "2023-04-30T20:59:38.990Z"
   },
   {
    "duration": 21,
    "start_time": "2023-04-30T20:59:38.996Z"
   },
   {
    "duration": 4,
    "start_time": "2023-04-30T20:59:39.019Z"
   },
   {
    "duration": 6,
    "start_time": "2023-04-30T20:59:39.025Z"
   },
   {
    "duration": 33,
    "start_time": "2023-04-30T20:59:39.032Z"
   },
   {
    "duration": 8,
    "start_time": "2023-04-30T20:59:39.067Z"
   },
   {
    "duration": 16,
    "start_time": "2023-04-30T20:59:39.076Z"
   },
   {
    "duration": 22,
    "start_time": "2023-04-30T20:59:39.094Z"
   },
   {
    "duration": 37,
    "start_time": "2023-04-30T20:59:39.118Z"
   },
   {
    "duration": 2163,
    "start_time": "2023-04-30T20:59:39.156Z"
   },
   {
    "duration": 117979,
    "start_time": "2023-04-30T20:59:41.322Z"
   },
   {
    "duration": 101,
    "start_time": "2023-04-30T22:07:07.832Z"
   },
   {
    "duration": 1379,
    "start_time": "2023-04-30T22:08:09.829Z"
   },
   {
    "duration": 3,
    "start_time": "2023-04-30T22:08:11.210Z"
   },
   {
    "duration": 763,
    "start_time": "2023-04-30T22:08:11.216Z"
   },
   {
    "duration": 36,
    "start_time": "2023-04-30T22:08:11.982Z"
   },
   {
    "duration": 31,
    "start_time": "2023-04-30T22:08:12.019Z"
   },
   {
    "duration": 67,
    "start_time": "2023-04-30T22:08:12.051Z"
   },
   {
    "duration": 16,
    "start_time": "2023-04-30T22:08:12.120Z"
   },
   {
    "duration": 10,
    "start_time": "2023-04-30T22:08:12.138Z"
   },
   {
    "duration": 116,
    "start_time": "2023-04-30T22:08:12.149Z"
   },
   {
    "duration": 142,
    "start_time": "2023-04-30T22:08:12.268Z"
   },
   {
    "duration": 37,
    "start_time": "2023-04-30T22:08:12.411Z"
   },
   {
    "duration": 8,
    "start_time": "2023-04-30T22:08:12.450Z"
   },
   {
    "duration": 21,
    "start_time": "2023-04-30T22:08:12.460Z"
   },
   {
    "duration": 23,
    "start_time": "2023-04-30T22:08:12.483Z"
   },
   {
    "duration": 18,
    "start_time": "2023-04-30T22:08:12.508Z"
   },
   {
    "duration": 25,
    "start_time": "2023-04-30T22:08:12.527Z"
   },
   {
    "duration": 2,
    "start_time": "2023-04-30T22:08:12.554Z"
   },
   {
    "duration": 490,
    "start_time": "2023-04-30T22:08:12.557Z"
   },
   {
    "duration": 2,
    "start_time": "2023-04-30T22:08:13.049Z"
   },
   {
    "duration": 486,
    "start_time": "2023-04-30T22:08:13.053Z"
   },
   {
    "duration": 3,
    "start_time": "2023-04-30T22:08:13.542Z"
   },
   {
    "duration": 544,
    "start_time": "2023-04-30T22:08:13.547Z"
   },
   {
    "duration": 3,
    "start_time": "2023-04-30T22:08:14.093Z"
   },
   {
    "duration": 19,
    "start_time": "2023-04-30T22:08:14.098Z"
   },
   {
    "duration": 738,
    "start_time": "2023-04-30T22:08:14.118Z"
   },
   {
    "duration": 431,
    "start_time": "2023-04-30T22:08:14.858Z"
   },
   {
    "duration": 3,
    "start_time": "2023-04-30T22:08:15.291Z"
   },
   {
    "duration": 18,
    "start_time": "2023-04-30T22:08:15.299Z"
   },
   {
    "duration": 11,
    "start_time": "2023-04-30T22:08:15.319Z"
   },
   {
    "duration": 601,
    "start_time": "2023-04-30T22:08:15.332Z"
   },
   {
    "duration": 38,
    "start_time": "2023-04-30T22:08:15.936Z"
   },
   {
    "duration": 5,
    "start_time": "2023-04-30T22:08:15.975Z"
   },
   {
    "duration": 9,
    "start_time": "2023-04-30T22:08:15.982Z"
   },
   {
    "duration": 12,
    "start_time": "2023-04-30T22:08:15.993Z"
   },
   {
    "duration": 3,
    "start_time": "2023-04-30T22:08:16.017Z"
   },
   {
    "duration": 30,
    "start_time": "2023-04-30T22:08:16.022Z"
   },
   {
    "duration": 8,
    "start_time": "2023-04-30T22:08:16.054Z"
   },
   {
    "duration": 7,
    "start_time": "2023-04-30T22:08:16.063Z"
   },
   {
    "duration": 11,
    "start_time": "2023-04-30T22:08:16.071Z"
   },
   {
    "duration": 12,
    "start_time": "2023-04-30T22:08:16.083Z"
   },
   {
    "duration": 2323,
    "start_time": "2023-04-30T22:08:16.097Z"
   },
   {
    "duration": 57740,
    "start_time": "2023-04-30T22:08:18.422Z"
   },
   {
    "duration": 1747,
    "start_time": "2023-04-30T22:09:16.163Z"
   },
   {
    "duration": 3,
    "start_time": "2023-04-30T22:09:17.912Z"
   },
   {
    "duration": 3431,
    "start_time": "2023-04-30T22:09:17.918Z"
   },
   {
    "duration": 9,
    "start_time": "2023-04-30T22:09:21.352Z"
   },
   {
    "duration": 1401,
    "start_time": "2023-04-30T22:09:37.899Z"
   },
   {
    "duration": 2,
    "start_time": "2023-04-30T22:09:39.302Z"
   },
   {
    "duration": 725,
    "start_time": "2023-04-30T22:09:39.306Z"
   },
   {
    "duration": 26,
    "start_time": "2023-04-30T22:09:40.034Z"
   },
   {
    "duration": 22,
    "start_time": "2023-04-30T22:09:40.062Z"
   },
   {
    "duration": 45,
    "start_time": "2023-04-30T22:09:40.085Z"
   },
   {
    "duration": 12,
    "start_time": "2023-04-30T22:09:40.131Z"
   },
   {
    "duration": 6,
    "start_time": "2023-04-30T22:09:40.145Z"
   },
   {
    "duration": 113,
    "start_time": "2023-04-30T22:09:40.153Z"
   },
   {
    "duration": 127,
    "start_time": "2023-04-30T22:09:40.269Z"
   },
   {
    "duration": 29,
    "start_time": "2023-04-30T22:09:40.398Z"
   },
   {
    "duration": 5,
    "start_time": "2023-04-30T22:09:40.429Z"
   },
   {
    "duration": 7,
    "start_time": "2023-04-30T22:09:40.436Z"
   },
   {
    "duration": 6,
    "start_time": "2023-04-30T22:09:40.444Z"
   },
   {
    "duration": 4,
    "start_time": "2023-04-30T22:09:40.452Z"
   },
   {
    "duration": 20,
    "start_time": "2023-04-30T22:09:40.457Z"
   },
   {
    "duration": 3,
    "start_time": "2023-04-30T22:09:40.478Z"
   },
   {
    "duration": 476,
    "start_time": "2023-04-30T22:09:40.482Z"
   },
   {
    "duration": 3,
    "start_time": "2023-04-30T22:09:40.960Z"
   },
   {
    "duration": 475,
    "start_time": "2023-04-30T22:09:40.964Z"
   },
   {
    "duration": 3,
    "start_time": "2023-04-30T22:09:41.441Z"
   },
   {
    "duration": 537,
    "start_time": "2023-04-30T22:09:41.446Z"
   },
   {
    "duration": 3,
    "start_time": "2023-04-30T22:09:41.985Z"
   },
   {
    "duration": 7,
    "start_time": "2023-04-30T22:09:41.989Z"
   },
   {
    "duration": 762,
    "start_time": "2023-04-30T22:09:41.997Z"
   },
   {
    "duration": 450,
    "start_time": "2023-04-30T22:09:42.761Z"
   },
   {
    "duration": 5,
    "start_time": "2023-04-30T22:09:43.213Z"
   },
   {
    "duration": 8,
    "start_time": "2023-04-30T22:09:43.221Z"
   },
   {
    "duration": 6,
    "start_time": "2023-04-30T22:09:43.230Z"
   },
   {
    "duration": 600,
    "start_time": "2023-04-30T22:09:43.238Z"
   },
   {
    "duration": 35,
    "start_time": "2023-04-30T22:09:43.840Z"
   },
   {
    "duration": 11,
    "start_time": "2023-04-30T22:09:43.876Z"
   },
   {
    "duration": 52,
    "start_time": "2023-04-30T22:09:43.888Z"
   },
   {
    "duration": 85,
    "start_time": "2023-04-30T22:09:43.942Z"
   },
   {
    "duration": 74,
    "start_time": "2023-04-30T22:09:44.029Z"
   },
   {
    "duration": 51,
    "start_time": "2023-04-30T22:09:44.104Z"
   },
   {
    "duration": 25,
    "start_time": "2023-04-30T22:09:44.156Z"
   },
   {
    "duration": 12,
    "start_time": "2023-04-30T22:09:44.182Z"
   },
   {
    "duration": 13,
    "start_time": "2023-04-30T22:09:44.196Z"
   },
   {
    "duration": 10,
    "start_time": "2023-04-30T22:09:44.211Z"
   },
   {
    "duration": 1996,
    "start_time": "2023-04-30T22:09:44.223Z"
   },
   {
    "duration": 58772,
    "start_time": "2023-04-30T22:09:46.221Z"
   },
   {
    "duration": 182414,
    "start_time": "2023-04-30T22:10:44.995Z"
   },
   {
    "duration": 9,
    "start_time": "2023-04-30T22:13:50.630Z"
   },
   {
    "duration": 13,
    "start_time": "2023-04-30T22:13:50.652Z"
   },
   {
    "duration": 1841,
    "start_time": "2023-04-30T22:13:50.666Z"
   },
   {
    "duration": 3,
    "start_time": "2023-04-30T22:13:56.247Z"
   },
   {
    "duration": 1840,
    "start_time": "2023-04-30T22:13:58.532Z"
   },
   {
    "duration": 8,
    "start_time": "2023-04-30T22:14:09.370Z"
   },
   {
    "duration": 1417,
    "start_time": "2023-04-30T22:16:45.193Z"
   },
   {
    "duration": 2,
    "start_time": "2023-04-30T22:16:46.612Z"
   },
   {
    "duration": 732,
    "start_time": "2023-04-30T22:16:46.616Z"
   },
   {
    "duration": 26,
    "start_time": "2023-04-30T22:16:47.350Z"
   },
   {
    "duration": 40,
    "start_time": "2023-04-30T22:16:47.378Z"
   },
   {
    "duration": 22,
    "start_time": "2023-04-30T22:16:47.420Z"
   },
   {
    "duration": 10,
    "start_time": "2023-04-30T22:16:47.444Z"
   },
   {
    "duration": 7,
    "start_time": "2023-04-30T22:16:47.456Z"
   },
   {
    "duration": 131,
    "start_time": "2023-04-30T22:16:47.465Z"
   },
   {
    "duration": 136,
    "start_time": "2023-04-30T22:16:47.600Z"
   },
   {
    "duration": 27,
    "start_time": "2023-04-30T22:16:47.738Z"
   },
   {
    "duration": 7,
    "start_time": "2023-04-30T22:16:47.767Z"
   },
   {
    "duration": 17,
    "start_time": "2023-04-30T22:16:47.775Z"
   },
   {
    "duration": 24,
    "start_time": "2023-04-30T22:16:47.794Z"
   },
   {
    "duration": 6,
    "start_time": "2023-04-30T22:16:47.820Z"
   },
   {
    "duration": 20,
    "start_time": "2023-04-30T22:16:47.827Z"
   },
   {
    "duration": 3,
    "start_time": "2023-04-30T22:16:47.848Z"
   },
   {
    "duration": 444,
    "start_time": "2023-04-30T22:16:47.853Z"
   },
   {
    "duration": 3,
    "start_time": "2023-04-30T22:16:48.299Z"
   },
   {
    "duration": 445,
    "start_time": "2023-04-30T22:16:48.304Z"
   },
   {
    "duration": 3,
    "start_time": "2023-04-30T22:16:48.751Z"
   },
   {
    "duration": 525,
    "start_time": "2023-04-30T22:16:48.756Z"
   },
   {
    "duration": 3,
    "start_time": "2023-04-30T22:16:49.283Z"
   },
   {
    "duration": 12,
    "start_time": "2023-04-30T22:16:49.287Z"
   },
   {
    "duration": 694,
    "start_time": "2023-04-30T22:16:49.301Z"
   },
   {
    "duration": 432,
    "start_time": "2023-04-30T22:16:49.996Z"
   },
   {
    "duration": 2,
    "start_time": "2023-04-30T22:16:50.430Z"
   },
   {
    "duration": 13,
    "start_time": "2023-04-30T22:16:50.435Z"
   },
   {
    "duration": 16,
    "start_time": "2023-04-30T22:16:50.450Z"
   },
   {
    "duration": 618,
    "start_time": "2023-04-30T22:16:50.468Z"
   },
   {
    "duration": 46,
    "start_time": "2023-04-30T22:16:51.087Z"
   },
   {
    "duration": 4,
    "start_time": "2023-04-30T22:16:51.135Z"
   },
   {
    "duration": 7,
    "start_time": "2023-04-30T22:16:51.140Z"
   },
   {
    "duration": 17,
    "start_time": "2023-04-30T22:16:51.148Z"
   },
   {
    "duration": 12,
    "start_time": "2023-04-30T22:16:51.167Z"
   },
   {
    "duration": 28,
    "start_time": "2023-04-30T22:16:51.181Z"
   },
   {
    "duration": 7,
    "start_time": "2023-04-30T22:16:51.211Z"
   },
   {
    "duration": 16,
    "start_time": "2023-04-30T22:16:51.220Z"
   },
   {
    "duration": 11,
    "start_time": "2023-04-30T22:16:51.237Z"
   },
   {
    "duration": 10,
    "start_time": "2023-04-30T22:16:51.250Z"
   },
   {
    "duration": 2157,
    "start_time": "2023-04-30T22:16:51.262Z"
   },
   {
    "duration": 58414,
    "start_time": "2023-04-30T22:16:53.422Z"
   },
   {
    "duration": 3,
    "start_time": "2023-04-30T22:41:34.099Z"
   },
   {
    "duration": 1162,
    "start_time": "2023-04-30T22:41:34.104Z"
   },
   {
    "duration": 0,
    "start_time": "2023-04-30T22:41:35.268Z"
   },
   {
    "duration": 0,
    "start_time": "2023-04-30T22:41:35.270Z"
   },
   {
    "duration": 1419,
    "start_time": "2023-04-30T22:41:51.828Z"
   },
   {
    "duration": 3,
    "start_time": "2023-04-30T22:41:53.249Z"
   },
   {
    "duration": 742,
    "start_time": "2023-04-30T22:41:53.253Z"
   },
   {
    "duration": 30,
    "start_time": "2023-04-30T22:41:53.997Z"
   },
   {
    "duration": 20,
    "start_time": "2023-04-30T22:41:54.029Z"
   },
   {
    "duration": 30,
    "start_time": "2023-04-30T22:41:54.050Z"
   },
   {
    "duration": 14,
    "start_time": "2023-04-30T22:41:54.081Z"
   },
   {
    "duration": 13,
    "start_time": "2023-04-30T22:41:54.096Z"
   },
   {
    "duration": 110,
    "start_time": "2023-04-30T22:41:54.118Z"
   },
   {
    "duration": 134,
    "start_time": "2023-04-30T22:41:54.231Z"
   },
   {
    "duration": 24,
    "start_time": "2023-04-30T22:41:54.367Z"
   },
   {
    "duration": 6,
    "start_time": "2023-04-30T22:41:54.392Z"
   },
   {
    "duration": 21,
    "start_time": "2023-04-30T22:41:54.400Z"
   },
   {
    "duration": 17,
    "start_time": "2023-04-30T22:41:54.422Z"
   },
   {
    "duration": 9,
    "start_time": "2023-04-30T22:41:54.441Z"
   },
   {
    "duration": 32,
    "start_time": "2023-04-30T22:41:54.452Z"
   },
   {
    "duration": 2,
    "start_time": "2023-04-30T22:41:54.486Z"
   },
   {
    "duration": 483,
    "start_time": "2023-04-30T22:41:54.490Z"
   },
   {
    "duration": 3,
    "start_time": "2023-04-30T22:41:54.975Z"
   },
   {
    "duration": 468,
    "start_time": "2023-04-30T22:41:54.979Z"
   },
   {
    "duration": 2,
    "start_time": "2023-04-30T22:41:55.449Z"
   },
   {
    "duration": 533,
    "start_time": "2023-04-30T22:41:55.452Z"
   },
   {
    "duration": 2,
    "start_time": "2023-04-30T22:41:55.987Z"
   },
   {
    "duration": 19,
    "start_time": "2023-04-30T22:41:55.990Z"
   },
   {
    "duration": 717,
    "start_time": "2023-04-30T22:41:56.010Z"
   },
   {
    "duration": 438,
    "start_time": "2023-04-30T22:41:56.729Z"
   },
   {
    "duration": 2,
    "start_time": "2023-04-30T22:41:57.169Z"
   },
   {
    "duration": 6,
    "start_time": "2023-04-30T22:41:57.175Z"
   },
   {
    "duration": 7,
    "start_time": "2023-04-30T22:41:57.183Z"
   },
   {
    "duration": 667,
    "start_time": "2023-04-30T22:41:57.191Z"
   },
   {
    "duration": 39,
    "start_time": "2023-04-30T22:41:57.860Z"
   },
   {
    "duration": 16,
    "start_time": "2023-04-30T22:41:57.901Z"
   },
   {
    "duration": 12,
    "start_time": "2023-04-30T22:41:57.919Z"
   },
   {
    "duration": 12,
    "start_time": "2023-04-30T22:41:57.932Z"
   },
   {
    "duration": 7,
    "start_time": "2023-04-30T22:41:57.946Z"
   },
   {
    "duration": 29,
    "start_time": "2023-04-30T22:41:57.954Z"
   },
   {
    "duration": 8,
    "start_time": "2023-04-30T22:41:57.984Z"
   },
   {
    "duration": 7,
    "start_time": "2023-04-30T22:41:57.994Z"
   },
   {
    "duration": 14,
    "start_time": "2023-04-30T22:41:58.003Z"
   },
   {
    "duration": 7,
    "start_time": "2023-04-30T22:41:58.019Z"
   },
   {
    "duration": 1993,
    "start_time": "2023-04-30T22:41:58.028Z"
   },
   {
    "duration": 5186,
    "start_time": "2023-04-30T22:42:00.023Z"
   },
   {
    "duration": 547,
    "start_time": "2023-04-30T22:42:05.211Z"
   },
   {
    "duration": 3,
    "start_time": "2023-04-30T22:42:05.760Z"
   },
   {
    "duration": 2004,
    "start_time": "2023-04-30T22:42:05.764Z"
   },
   {
    "duration": 8,
    "start_time": "2023-04-30T22:42:07.770Z"
   },
   {
    "duration": 1360,
    "start_time": "2023-04-30T22:42:32.737Z"
   },
   {
    "duration": 3,
    "start_time": "2023-04-30T22:42:34.099Z"
   },
   {
    "duration": 732,
    "start_time": "2023-04-30T22:42:34.103Z"
   },
   {
    "duration": 25,
    "start_time": "2023-04-30T22:42:34.837Z"
   },
   {
    "duration": 21,
    "start_time": "2023-04-30T22:42:34.864Z"
   },
   {
    "duration": 46,
    "start_time": "2023-04-30T22:42:34.886Z"
   },
   {
    "duration": 17,
    "start_time": "2023-04-30T22:42:34.933Z"
   },
   {
    "duration": 6,
    "start_time": "2023-04-30T22:42:34.952Z"
   },
   {
    "duration": 115,
    "start_time": "2023-04-30T22:42:34.960Z"
   },
   {
    "duration": 143,
    "start_time": "2023-04-30T22:42:35.078Z"
   },
   {
    "duration": 26,
    "start_time": "2023-04-30T22:42:35.223Z"
   },
   {
    "duration": 6,
    "start_time": "2023-04-30T22:42:35.251Z"
   },
   {
    "duration": 15,
    "start_time": "2023-04-30T22:42:35.258Z"
   },
   {
    "duration": 29,
    "start_time": "2023-04-30T22:42:35.275Z"
   },
   {
    "duration": 5,
    "start_time": "2023-04-30T22:42:35.306Z"
   },
   {
    "duration": 32,
    "start_time": "2023-04-30T22:42:35.313Z"
   },
   {
    "duration": 3,
    "start_time": "2023-04-30T22:42:35.347Z"
   },
   {
    "duration": 479,
    "start_time": "2023-04-30T22:42:35.352Z"
   },
   {
    "duration": 3,
    "start_time": "2023-04-30T22:42:35.833Z"
   },
   {
    "duration": 485,
    "start_time": "2023-04-30T22:42:35.838Z"
   },
   {
    "duration": 3,
    "start_time": "2023-04-30T22:42:36.324Z"
   },
   {
    "duration": 553,
    "start_time": "2023-04-30T22:42:36.329Z"
   },
   {
    "duration": 3,
    "start_time": "2023-04-30T22:42:36.883Z"
   },
   {
    "duration": 27,
    "start_time": "2023-04-30T22:42:36.888Z"
   },
   {
    "duration": 761,
    "start_time": "2023-04-30T22:42:36.917Z"
   },
   {
    "duration": 444,
    "start_time": "2023-04-30T22:42:37.680Z"
   },
   {
    "duration": 3,
    "start_time": "2023-04-30T22:42:38.126Z"
   },
   {
    "duration": 50,
    "start_time": "2023-04-30T22:42:38.132Z"
   },
   {
    "duration": 37,
    "start_time": "2023-04-30T22:42:38.184Z"
   },
   {
    "duration": 632,
    "start_time": "2023-04-30T22:42:38.223Z"
   },
   {
    "duration": 42,
    "start_time": "2023-04-30T22:42:38.857Z"
   },
   {
    "duration": 21,
    "start_time": "2023-04-30T22:42:38.901Z"
   },
   {
    "duration": 22,
    "start_time": "2023-04-30T22:42:38.923Z"
   },
   {
    "duration": 60,
    "start_time": "2023-04-30T22:42:38.947Z"
   },
   {
    "duration": 14,
    "start_time": "2023-04-30T22:42:39.009Z"
   },
   {
    "duration": 41,
    "start_time": "2023-04-30T22:42:39.024Z"
   },
   {
    "duration": 8,
    "start_time": "2023-04-30T22:42:39.067Z"
   },
   {
    "duration": 17,
    "start_time": "2023-04-30T22:42:39.077Z"
   },
   {
    "duration": 21,
    "start_time": "2023-04-30T22:42:39.096Z"
   },
   {
    "duration": 15,
    "start_time": "2023-04-30T22:42:39.119Z"
   },
   {
    "duration": 2085,
    "start_time": "2023-04-30T22:42:39.135Z"
   },
   {
    "duration": 58359,
    "start_time": "2023-04-30T22:42:41.222Z"
   },
   {
    "duration": 478718,
    "start_time": "2023-04-30T22:43:39.583Z"
   },
   {
    "duration": 3,
    "start_time": "2023-04-30T22:51:38.303Z"
   },
   {
    "duration": 1880,
    "start_time": "2023-04-30T22:51:38.307Z"
   },
   {
    "duration": 8,
    "start_time": "2023-04-30T22:51:40.189Z"
   },
   {
    "duration": 46,
    "start_time": "2023-05-02T12:10:54.408Z"
   },
   {
    "duration": 1643,
    "start_time": "2023-05-02T12:11:04.775Z"
   },
   {
    "duration": 4,
    "start_time": "2023-05-02T12:11:06.420Z"
   },
   {
    "duration": 2162,
    "start_time": "2023-05-02T12:11:06.426Z"
   },
   {
    "duration": 30,
    "start_time": "2023-05-02T12:11:08.590Z"
   },
   {
    "duration": 24,
    "start_time": "2023-05-02T12:11:08.623Z"
   },
   {
    "duration": 61,
    "start_time": "2023-05-02T12:11:08.649Z"
   },
   {
    "duration": 79,
    "start_time": "2023-05-02T12:11:08.711Z"
   },
   {
    "duration": 41,
    "start_time": "2023-05-02T12:11:08.792Z"
   },
   {
    "duration": 129,
    "start_time": "2023-05-02T12:11:08.835Z"
   },
   {
    "duration": 142,
    "start_time": "2023-05-02T12:11:08.972Z"
   },
   {
    "duration": 29,
    "start_time": "2023-05-02T12:11:09.116Z"
   },
   {
    "duration": 11,
    "start_time": "2023-05-02T12:11:09.156Z"
   },
   {
    "duration": 28,
    "start_time": "2023-05-02T12:11:09.173Z"
   },
   {
    "duration": 9,
    "start_time": "2023-05-02T12:11:09.205Z"
   },
   {
    "duration": 9,
    "start_time": "2023-05-02T12:11:09.216Z"
   },
   {
    "duration": 26,
    "start_time": "2023-05-02T12:11:09.227Z"
   },
   {
    "duration": 4,
    "start_time": "2023-05-02T12:11:09.258Z"
   },
   {
    "duration": 539,
    "start_time": "2023-05-02T12:11:09.263Z"
   },
   {
    "duration": 3,
    "start_time": "2023-05-02T12:11:09.803Z"
   },
   {
    "duration": 508,
    "start_time": "2023-05-02T12:11:09.808Z"
   },
   {
    "duration": 2,
    "start_time": "2023-05-02T12:11:10.318Z"
   },
   {
    "duration": 591,
    "start_time": "2023-05-02T12:11:10.322Z"
   },
   {
    "duration": 2,
    "start_time": "2023-05-02T12:11:10.915Z"
   },
   {
    "duration": 5,
    "start_time": "2023-05-02T12:11:10.919Z"
   },
   {
    "duration": 818,
    "start_time": "2023-05-02T12:11:10.926Z"
   },
   {
    "duration": 534,
    "start_time": "2023-05-02T12:11:11.746Z"
   },
   {
    "duration": 770,
    "start_time": "2023-05-02T12:11:12.282Z"
   },
   {
    "duration": 45,
    "start_time": "2023-05-02T12:11:13.053Z"
   },
   {
    "duration": 4,
    "start_time": "2023-05-02T12:11:13.100Z"
   },
   {
    "duration": 6,
    "start_time": "2023-05-02T12:11:13.106Z"
   },
   {
    "duration": 21,
    "start_time": "2023-05-02T12:11:13.113Z"
   },
   {
    "duration": 39,
    "start_time": "2023-05-02T12:11:13.136Z"
   },
   {
    "duration": 17,
    "start_time": "2023-05-02T12:11:13.177Z"
   },
   {
    "duration": 31,
    "start_time": "2023-05-02T12:11:13.196Z"
   },
   {
    "duration": 40,
    "start_time": "2023-05-02T12:11:13.229Z"
   },
   {
    "duration": 10,
    "start_time": "2023-05-02T12:11:13.275Z"
   },
   {
    "duration": 2877,
    "start_time": "2023-05-02T12:11:13.286Z"
   },
   {
    "duration": 55787,
    "start_time": "2023-05-02T12:11:16.168Z"
   },
   {
    "duration": 113624,
    "start_time": "2023-05-02T12:12:11.957Z"
   },
   {
    "duration": 3,
    "start_time": "2023-05-02T12:14:05.584Z"
   },
   {
    "duration": 885,
    "start_time": "2023-05-02T12:14:05.590Z"
   },
   {
    "duration": 0,
    "start_time": "2023-05-02T12:14:06.477Z"
   },
   {
    "duration": 0,
    "start_time": "2023-05-02T12:14:06.478Z"
   },
   {
    "duration": 787,
    "start_time": "2023-05-02T12:14:09.074Z"
   },
   {
    "duration": 860,
    "start_time": "2023-05-02T12:14:20.043Z"
   },
   {
    "duration": 1385,
    "start_time": "2023-05-02T12:14:51.405Z"
   },
   {
    "duration": 3,
    "start_time": "2023-05-02T12:14:52.792Z"
   },
   {
    "duration": 721,
    "start_time": "2023-05-02T12:14:52.797Z"
   },
   {
    "duration": 35,
    "start_time": "2023-05-02T12:14:53.521Z"
   },
   {
    "duration": 30,
    "start_time": "2023-05-02T12:14:53.562Z"
   },
   {
    "duration": 39,
    "start_time": "2023-05-02T12:14:53.594Z"
   },
   {
    "duration": 17,
    "start_time": "2023-05-02T12:14:53.635Z"
   },
   {
    "duration": 23,
    "start_time": "2023-05-02T12:14:53.654Z"
   },
   {
    "duration": 120,
    "start_time": "2023-05-02T12:14:53.680Z"
   },
   {
    "duration": 205,
    "start_time": "2023-05-02T12:14:53.805Z"
   },
   {
    "duration": 44,
    "start_time": "2023-05-02T12:14:54.013Z"
   },
   {
    "duration": 9,
    "start_time": "2023-05-02T12:14:54.059Z"
   },
   {
    "duration": 25,
    "start_time": "2023-05-02T12:14:54.070Z"
   },
   {
    "duration": 25,
    "start_time": "2023-05-02T12:14:54.097Z"
   },
   {
    "duration": 12,
    "start_time": "2023-05-02T12:14:54.124Z"
   },
   {
    "duration": 28,
    "start_time": "2023-05-02T12:14:54.139Z"
   },
   {
    "duration": 3,
    "start_time": "2023-05-02T12:14:54.169Z"
   },
   {
    "duration": 506,
    "start_time": "2023-05-02T12:14:54.174Z"
   },
   {
    "duration": 3,
    "start_time": "2023-05-02T12:14:54.682Z"
   },
   {
    "duration": 488,
    "start_time": "2023-05-02T12:14:54.688Z"
   },
   {
    "duration": 3,
    "start_time": "2023-05-02T12:14:55.178Z"
   },
   {
    "duration": 557,
    "start_time": "2023-05-02T12:14:55.182Z"
   },
   {
    "duration": 2,
    "start_time": "2023-05-02T12:14:55.741Z"
   },
   {
    "duration": 13,
    "start_time": "2023-05-02T12:14:55.744Z"
   },
   {
    "duration": 751,
    "start_time": "2023-05-02T12:14:55.761Z"
   },
   {
    "duration": 465,
    "start_time": "2023-05-02T12:14:56.514Z"
   },
   {
    "duration": 679,
    "start_time": "2023-05-02T12:14:56.981Z"
   },
   {
    "duration": 41,
    "start_time": "2023-05-02T12:14:57.663Z"
   },
   {
    "duration": 5,
    "start_time": "2023-05-02T12:14:57.707Z"
   },
   {
    "duration": 20,
    "start_time": "2023-05-02T12:14:57.713Z"
   },
   {
    "duration": 9,
    "start_time": "2023-05-02T12:14:57.735Z"
   },
   {
    "duration": 32,
    "start_time": "2023-05-02T12:14:57.746Z"
   },
   {
    "duration": 10,
    "start_time": "2023-05-02T12:14:57.780Z"
   },
   {
    "duration": 19,
    "start_time": "2023-05-02T12:14:57.792Z"
   },
   {
    "duration": 18,
    "start_time": "2023-05-02T12:14:57.813Z"
   },
   {
    "duration": 11,
    "start_time": "2023-05-02T12:14:57.833Z"
   },
   {
    "duration": 2913,
    "start_time": "2023-05-02T12:14:57.846Z"
   },
   {
    "duration": 55681,
    "start_time": "2023-05-02T12:15:00.783Z"
   },
   {
    "duration": 459828,
    "start_time": "2023-05-02T12:15:56.469Z"
   },
   {
    "duration": 3,
    "start_time": "2023-05-02T12:23:36.299Z"
   },
   {
    "duration": 1685,
    "start_time": "2023-05-02T12:23:36.303Z"
   },
   {
    "duration": 7,
    "start_time": "2023-05-02T12:23:37.990Z"
   },
   {
    "duration": 998,
    "start_time": "2023-05-02T12:34:04.376Z"
   },
   {
    "duration": 1449,
    "start_time": "2023-05-02T12:34:14.378Z"
   },
   {
    "duration": 3,
    "start_time": "2023-05-02T12:34:15.829Z"
   },
   {
    "duration": 689,
    "start_time": "2023-05-02T12:34:15.833Z"
   },
   {
    "duration": 38,
    "start_time": "2023-05-02T12:34:16.524Z"
   },
   {
    "duration": 22,
    "start_time": "2023-05-02T12:34:16.564Z"
   },
   {
    "duration": 25,
    "start_time": "2023-05-02T12:34:16.588Z"
   },
   {
    "duration": 15,
    "start_time": "2023-05-02T12:34:16.615Z"
   },
   {
    "duration": 40,
    "start_time": "2023-05-02T12:34:16.632Z"
   },
   {
    "duration": 119,
    "start_time": "2023-05-02T12:34:16.673Z"
   },
   {
    "duration": 142,
    "start_time": "2023-05-02T12:34:16.794Z"
   },
   {
    "duration": 38,
    "start_time": "2023-05-02T12:34:16.938Z"
   },
   {
    "duration": 6,
    "start_time": "2023-05-02T12:34:16.978Z"
   },
   {
    "duration": 14,
    "start_time": "2023-05-02T12:34:16.985Z"
   },
   {
    "duration": 12,
    "start_time": "2023-05-02T12:34:17.001Z"
   },
   {
    "duration": 7,
    "start_time": "2023-05-02T12:34:17.015Z"
   },
   {
    "duration": 26,
    "start_time": "2023-05-02T12:34:17.024Z"
   },
   {
    "duration": 17,
    "start_time": "2023-05-02T12:34:17.052Z"
   },
   {
    "duration": 495,
    "start_time": "2023-05-02T12:34:17.071Z"
   },
   {
    "duration": 3,
    "start_time": "2023-05-02T12:34:17.568Z"
   },
   {
    "duration": 593,
    "start_time": "2023-05-02T12:34:17.572Z"
   },
   {
    "duration": 6,
    "start_time": "2023-05-02T12:34:18.167Z"
   },
   {
    "duration": 596,
    "start_time": "2023-05-02T12:34:18.175Z"
   },
   {
    "duration": 2,
    "start_time": "2023-05-02T12:34:18.774Z"
   },
   {
    "duration": 4,
    "start_time": "2023-05-02T12:34:18.778Z"
   },
   {
    "duration": 791,
    "start_time": "2023-05-02T12:34:18.784Z"
   },
   {
    "duration": 470,
    "start_time": "2023-05-02T12:34:19.578Z"
   },
   {
    "duration": 803,
    "start_time": "2023-05-02T12:34:20.056Z"
   },
   {
    "duration": 45,
    "start_time": "2023-05-02T12:34:20.867Z"
   },
   {
    "duration": 6,
    "start_time": "2023-05-02T12:34:20.914Z"
   },
   {
    "duration": 26,
    "start_time": "2023-05-02T12:34:20.922Z"
   },
   {
    "duration": 21,
    "start_time": "2023-05-02T12:34:20.950Z"
   },
   {
    "duration": 44,
    "start_time": "2023-05-02T12:34:20.975Z"
   },
   {
    "duration": 10,
    "start_time": "2023-05-02T12:34:21.021Z"
   },
   {
    "duration": 37,
    "start_time": "2023-05-02T12:34:21.032Z"
   },
   {
    "duration": 35,
    "start_time": "2023-05-02T12:34:21.071Z"
   },
   {
    "duration": 7,
    "start_time": "2023-05-02T12:34:21.109Z"
   },
   {
    "duration": 2459,
    "start_time": "2023-05-02T12:34:21.119Z"
   },
   {
    "duration": 57943,
    "start_time": "2023-05-02T12:34:23.583Z"
   },
   {
    "duration": 486367,
    "start_time": "2023-05-02T12:35:21.528Z"
   },
   {
    "duration": 3,
    "start_time": "2023-05-02T12:43:27.896Z"
   },
   {
    "duration": 1822,
    "start_time": "2023-05-02T12:43:27.901Z"
   },
   {
    "duration": 8,
    "start_time": "2023-05-02T12:43:29.725Z"
   },
   {
    "duration": 826,
    "start_time": "2023-05-02T12:48:19.033Z"
   },
   {
    "duration": 1453,
    "start_time": "2023-05-02T12:48:24.288Z"
   },
   {
    "duration": 3,
    "start_time": "2023-05-02T12:48:25.743Z"
   },
   {
    "duration": 696,
    "start_time": "2023-05-02T12:48:25.755Z"
   },
   {
    "duration": 25,
    "start_time": "2023-05-02T12:48:26.453Z"
   },
   {
    "duration": 20,
    "start_time": "2023-05-02T12:48:26.479Z"
   },
   {
    "duration": 26,
    "start_time": "2023-05-02T12:48:26.501Z"
   },
   {
    "duration": 30,
    "start_time": "2023-05-02T12:48:26.530Z"
   },
   {
    "duration": 8,
    "start_time": "2023-05-02T12:48:26.562Z"
   },
   {
    "duration": 105,
    "start_time": "2023-05-02T12:48:26.571Z"
   },
   {
    "duration": 143,
    "start_time": "2023-05-02T12:48:26.680Z"
   },
   {
    "duration": 33,
    "start_time": "2023-05-02T12:48:26.824Z"
   },
   {
    "duration": 6,
    "start_time": "2023-05-02T12:48:26.858Z"
   },
   {
    "duration": 10,
    "start_time": "2023-05-02T12:48:26.866Z"
   },
   {
    "duration": 31,
    "start_time": "2023-05-02T12:48:26.877Z"
   },
   {
    "duration": 7,
    "start_time": "2023-05-02T12:48:26.909Z"
   },
   {
    "duration": 23,
    "start_time": "2023-05-02T12:48:26.918Z"
   },
   {
    "duration": 3,
    "start_time": "2023-05-02T12:48:26.942Z"
   },
   {
    "duration": 440,
    "start_time": "2023-05-02T12:48:26.946Z"
   },
   {
    "duration": 2,
    "start_time": "2023-05-02T12:48:27.388Z"
   },
   {
    "duration": 469,
    "start_time": "2023-05-02T12:48:27.391Z"
   },
   {
    "duration": 3,
    "start_time": "2023-05-02T12:48:27.861Z"
   },
   {
    "duration": 526,
    "start_time": "2023-05-02T12:48:27.865Z"
   },
   {
    "duration": 2,
    "start_time": "2023-05-02T12:48:28.392Z"
   },
   {
    "duration": 8,
    "start_time": "2023-05-02T12:48:28.396Z"
   },
   {
    "duration": 719,
    "start_time": "2023-05-02T12:48:28.406Z"
   },
   {
    "duration": 554,
    "start_time": "2023-05-02T12:48:29.127Z"
   },
   {
    "duration": 1429,
    "start_time": "2023-05-02T12:48:29.683Z"
   },
   {
    "duration": 0,
    "start_time": "2023-05-02T12:48:31.115Z"
   },
   {
    "duration": 0,
    "start_time": "2023-05-02T12:48:31.116Z"
   },
   {
    "duration": 0,
    "start_time": "2023-05-02T12:48:31.117Z"
   },
   {
    "duration": 0,
    "start_time": "2023-05-02T12:48:31.118Z"
   },
   {
    "duration": 0,
    "start_time": "2023-05-02T12:48:31.120Z"
   },
   {
    "duration": 0,
    "start_time": "2023-05-02T12:48:31.121Z"
   },
   {
    "duration": 0,
    "start_time": "2023-05-02T12:48:31.122Z"
   },
   {
    "duration": 0,
    "start_time": "2023-05-02T12:48:31.123Z"
   },
   {
    "duration": 0,
    "start_time": "2023-05-02T12:48:31.124Z"
   },
   {
    "duration": 0,
    "start_time": "2023-05-02T12:48:31.126Z"
   },
   {
    "duration": 0,
    "start_time": "2023-05-02T12:48:31.126Z"
   },
   {
    "duration": 0,
    "start_time": "2023-05-02T12:48:31.128Z"
   },
   {
    "duration": 0,
    "start_time": "2023-05-02T12:48:31.129Z"
   },
   {
    "duration": 0,
    "start_time": "2023-05-02T12:48:31.130Z"
   },
   {
    "duration": 0,
    "start_time": "2023-05-02T12:48:31.131Z"
   },
   {
    "duration": 1428,
    "start_time": "2023-05-02T12:50:15.122Z"
   },
   {
    "duration": 4,
    "start_time": "2023-05-02T12:50:16.552Z"
   },
   {
    "duration": 670,
    "start_time": "2023-05-02T12:50:16.558Z"
   },
   {
    "duration": 28,
    "start_time": "2023-05-02T12:50:17.229Z"
   },
   {
    "duration": 22,
    "start_time": "2023-05-02T12:50:17.260Z"
   },
   {
    "duration": 27,
    "start_time": "2023-05-02T12:50:17.284Z"
   },
   {
    "duration": 11,
    "start_time": "2023-05-02T12:50:17.313Z"
   },
   {
    "duration": 34,
    "start_time": "2023-05-02T12:50:17.326Z"
   },
   {
    "duration": 117,
    "start_time": "2023-05-02T12:50:17.361Z"
   },
   {
    "duration": 131,
    "start_time": "2023-05-02T12:50:17.479Z"
   },
   {
    "duration": 25,
    "start_time": "2023-05-02T12:50:17.611Z"
   },
   {
    "duration": 18,
    "start_time": "2023-05-02T12:50:17.638Z"
   },
   {
    "duration": 6,
    "start_time": "2023-05-02T12:50:17.658Z"
   },
   {
    "duration": 12,
    "start_time": "2023-05-02T12:50:17.668Z"
   },
   {
    "duration": 9,
    "start_time": "2023-05-02T12:50:17.682Z"
   },
   {
    "duration": 19,
    "start_time": "2023-05-02T12:50:17.692Z"
   },
   {
    "duration": 2,
    "start_time": "2023-05-02T12:50:17.713Z"
   },
   {
    "duration": 479,
    "start_time": "2023-05-02T12:50:17.717Z"
   },
   {
    "duration": 3,
    "start_time": "2023-05-02T12:50:18.198Z"
   },
   {
    "duration": 487,
    "start_time": "2023-05-02T12:50:18.202Z"
   },
   {
    "duration": 2,
    "start_time": "2023-05-02T12:50:18.691Z"
   },
   {
    "duration": 544,
    "start_time": "2023-05-02T12:50:18.695Z"
   },
   {
    "duration": 3,
    "start_time": "2023-05-02T12:50:19.241Z"
   },
   {
    "duration": 20,
    "start_time": "2023-05-02T12:50:19.246Z"
   },
   {
    "duration": 796,
    "start_time": "2023-05-02T12:50:19.269Z"
   },
   {
    "duration": 518,
    "start_time": "2023-05-02T12:50:20.067Z"
   },
   {
    "duration": 937,
    "start_time": "2023-05-02T12:50:20.587Z"
   },
   {
    "duration": 0,
    "start_time": "2023-05-02T12:50:21.526Z"
   },
   {
    "duration": 0,
    "start_time": "2023-05-02T12:50:21.527Z"
   },
   {
    "duration": 0,
    "start_time": "2023-05-02T12:50:21.529Z"
   },
   {
    "duration": 0,
    "start_time": "2023-05-02T12:50:21.530Z"
   },
   {
    "duration": 0,
    "start_time": "2023-05-02T12:50:21.531Z"
   },
   {
    "duration": 0,
    "start_time": "2023-05-02T12:50:21.532Z"
   },
   {
    "duration": 0,
    "start_time": "2023-05-02T12:50:21.533Z"
   },
   {
    "duration": 0,
    "start_time": "2023-05-02T12:50:21.534Z"
   },
   {
    "duration": 0,
    "start_time": "2023-05-02T12:50:21.535Z"
   },
   {
    "duration": 0,
    "start_time": "2023-05-02T12:50:21.536Z"
   },
   {
    "duration": 0,
    "start_time": "2023-05-02T12:50:21.537Z"
   },
   {
    "duration": 0,
    "start_time": "2023-05-02T12:50:21.538Z"
   },
   {
    "duration": 0,
    "start_time": "2023-05-02T12:50:21.539Z"
   },
   {
    "duration": 0,
    "start_time": "2023-05-02T12:50:21.540Z"
   },
   {
    "duration": 0,
    "start_time": "2023-05-02T12:50:21.541Z"
   },
   {
    "duration": 590,
    "start_time": "2023-05-02T12:50:59.171Z"
   },
   {
    "duration": 601,
    "start_time": "2023-05-02T12:51:08.469Z"
   },
   {
    "duration": 752,
    "start_time": "2023-05-02T12:51:29.714Z"
   },
   {
    "duration": 664,
    "start_time": "2023-05-02T12:51:46.848Z"
   },
   {
    "duration": 4137,
    "start_time": "2023-05-02T13:14:14.719Z"
   },
   {
    "duration": 3,
    "start_time": "2023-05-02T13:14:18.859Z"
   },
   {
    "duration": 2040,
    "start_time": "2023-05-02T13:14:18.864Z"
   },
   {
    "duration": 34,
    "start_time": "2023-05-02T13:14:20.907Z"
   },
   {
    "duration": 23,
    "start_time": "2023-05-02T13:14:20.943Z"
   },
   {
    "duration": 27,
    "start_time": "2023-05-02T13:14:20.968Z"
   },
   {
    "duration": 21,
    "start_time": "2023-05-02T13:14:20.997Z"
   },
   {
    "duration": 25,
    "start_time": "2023-05-02T13:14:21.020Z"
   },
   {
    "duration": 117,
    "start_time": "2023-05-02T13:14:21.048Z"
   },
   {
    "duration": 151,
    "start_time": "2023-05-02T13:14:21.170Z"
   },
   {
    "duration": 39,
    "start_time": "2023-05-02T13:14:21.324Z"
   },
   {
    "duration": 13,
    "start_time": "2023-05-02T13:14:21.365Z"
   },
   {
    "duration": 25,
    "start_time": "2023-05-02T13:14:21.380Z"
   },
   {
    "duration": 44,
    "start_time": "2023-05-02T13:14:21.407Z"
   },
   {
    "duration": 15,
    "start_time": "2023-05-02T13:14:21.453Z"
   },
   {
    "duration": 42,
    "start_time": "2023-05-02T13:14:21.471Z"
   },
   {
    "duration": 39,
    "start_time": "2023-05-02T13:14:21.516Z"
   },
   {
    "duration": 533,
    "start_time": "2023-05-02T13:14:21.558Z"
   },
   {
    "duration": 3,
    "start_time": "2023-05-02T13:14:22.093Z"
   },
   {
    "duration": 519,
    "start_time": "2023-05-02T13:14:22.098Z"
   },
   {
    "duration": 3,
    "start_time": "2023-05-02T13:14:22.619Z"
   },
   {
    "duration": 572,
    "start_time": "2023-05-02T13:14:22.623Z"
   },
   {
    "duration": 2,
    "start_time": "2023-05-02T13:14:23.197Z"
   },
   {
    "duration": 38,
    "start_time": "2023-05-02T13:14:23.201Z"
   },
   {
    "duration": 39,
    "start_time": "2023-05-02T13:14:23.241Z"
   },
   {
    "duration": 464,
    "start_time": "2023-05-02T13:14:23.282Z"
   },
   {
    "duration": 8,
    "start_time": "2023-05-02T13:14:23.748Z"
   },
   {
    "duration": 603,
    "start_time": "2023-05-02T13:14:23.761Z"
   },
   {
    "duration": 704,
    "start_time": "2023-05-02T13:14:24.366Z"
   },
   {
    "duration": 45,
    "start_time": "2023-05-02T13:14:25.072Z"
   },
   {
    "duration": 6,
    "start_time": "2023-05-02T13:14:25.118Z"
   },
   {
    "duration": 19,
    "start_time": "2023-05-02T13:14:25.125Z"
   },
   {
    "duration": 4,
    "start_time": "2023-05-02T13:14:25.156Z"
   },
   {
    "duration": 41,
    "start_time": "2023-05-02T13:14:25.162Z"
   },
   {
    "duration": 10,
    "start_time": "2023-05-02T13:14:25.204Z"
   },
   {
    "duration": 13,
    "start_time": "2023-05-02T13:14:25.216Z"
   },
   {
    "duration": 33,
    "start_time": "2023-05-02T13:14:25.231Z"
   },
   {
    "duration": 60,
    "start_time": "2023-05-02T13:14:25.266Z"
   },
   {
    "duration": 2728,
    "start_time": "2023-05-02T13:14:25.329Z"
   },
   {
    "duration": 59023,
    "start_time": "2023-05-02T13:14:28.060Z"
   },
   {
    "duration": 73954,
    "start_time": "2023-05-02T13:15:27.086Z"
   },
   {
    "duration": 4,
    "start_time": "2023-05-02T13:16:41.043Z"
   },
   {
    "duration": 1807,
    "start_time": "2023-05-02T13:16:41.049Z"
   },
   {
    "duration": 9,
    "start_time": "2023-05-02T13:16:42.858Z"
   },
   {
    "duration": 525,
    "start_time": "2023-05-02T13:16:45.066Z"
   },
   {
    "duration": 595,
    "start_time": "2023-05-02T13:17:06.369Z"
   },
   {
    "duration": 546,
    "start_time": "2023-05-02T13:17:12.749Z"
   },
   {
    "duration": 51,
    "start_time": "2023-05-02T13:18:13.950Z"
   },
   {
    "duration": 1436,
    "start_time": "2023-05-02T13:18:32.348Z"
   },
   {
    "duration": 3,
    "start_time": "2023-05-02T13:18:33.787Z"
   },
   {
    "duration": 848,
    "start_time": "2023-05-02T13:18:33.791Z"
   },
   {
    "duration": 39,
    "start_time": "2023-05-02T13:18:34.642Z"
   },
   {
    "duration": 32,
    "start_time": "2023-05-02T13:18:34.683Z"
   },
   {
    "duration": 49,
    "start_time": "2023-05-02T13:18:34.717Z"
   },
   {
    "duration": 23,
    "start_time": "2023-05-02T13:18:34.769Z"
   },
   {
    "duration": 8,
    "start_time": "2023-05-02T13:18:34.794Z"
   },
   {
    "duration": 128,
    "start_time": "2023-05-02T13:18:34.803Z"
   },
   {
    "duration": 149,
    "start_time": "2023-05-02T13:18:34.934Z"
   },
   {
    "duration": 25,
    "start_time": "2023-05-02T13:18:35.085Z"
   },
   {
    "duration": 5,
    "start_time": "2023-05-02T13:18:35.112Z"
   },
   {
    "duration": 19,
    "start_time": "2023-05-02T13:18:35.119Z"
   },
   {
    "duration": 28,
    "start_time": "2023-05-02T13:18:35.140Z"
   },
   {
    "duration": 15,
    "start_time": "2023-05-02T13:18:35.170Z"
   },
   {
    "duration": 33,
    "start_time": "2023-05-02T13:18:35.187Z"
   },
   {
    "duration": 3,
    "start_time": "2023-05-02T13:18:35.222Z"
   },
   {
    "duration": 532,
    "start_time": "2023-05-02T13:18:35.227Z"
   },
   {
    "duration": 3,
    "start_time": "2023-05-02T13:18:35.762Z"
   },
   {
    "duration": 492,
    "start_time": "2023-05-02T13:18:35.767Z"
   },
   {
    "duration": 2,
    "start_time": "2023-05-02T13:18:36.261Z"
   },
   {
    "duration": 568,
    "start_time": "2023-05-02T13:18:36.265Z"
   },
   {
    "duration": 3,
    "start_time": "2023-05-02T13:18:36.835Z"
   },
   {
    "duration": 34,
    "start_time": "2023-05-02T13:18:36.840Z"
   },
   {
    "duration": 29,
    "start_time": "2023-05-02T13:18:36.876Z"
   },
   {
    "duration": 454,
    "start_time": "2023-05-02T13:18:36.908Z"
   },
   {
    "duration": 4,
    "start_time": "2023-05-02T13:18:37.364Z"
   },
   {
    "duration": 593,
    "start_time": "2023-05-02T13:18:37.372Z"
   },
   {
    "duration": 784,
    "start_time": "2023-05-02T13:18:37.967Z"
   },
   {
    "duration": 43,
    "start_time": "2023-05-02T13:18:38.755Z"
   },
   {
    "duration": 5,
    "start_time": "2023-05-02T13:18:38.800Z"
   },
   {
    "duration": 8,
    "start_time": "2023-05-02T13:18:38.807Z"
   },
   {
    "duration": 7,
    "start_time": "2023-05-02T13:18:38.817Z"
   },
   {
    "duration": 50,
    "start_time": "2023-05-02T13:18:38.826Z"
   },
   {
    "duration": 9,
    "start_time": "2023-05-02T13:18:38.878Z"
   },
   {
    "duration": 7,
    "start_time": "2023-05-02T13:18:38.889Z"
   },
   {
    "duration": 14,
    "start_time": "2023-05-02T13:18:38.899Z"
   },
   {
    "duration": 9,
    "start_time": "2023-05-02T13:18:38.915Z"
   },
   {
    "duration": 2531,
    "start_time": "2023-05-02T13:18:38.926Z"
   },
   {
    "duration": 55305,
    "start_time": "2023-05-02T13:18:41.460Z"
   },
   {
    "duration": 459428,
    "start_time": "2023-05-02T13:19:36.766Z"
   },
   {
    "duration": 3,
    "start_time": "2023-05-02T13:27:16.196Z"
   },
   {
    "duration": 1732,
    "start_time": "2023-05-02T13:27:16.200Z"
   },
   {
    "duration": 9,
    "start_time": "2023-05-02T13:27:17.934Z"
   }
  ],
  "kernelspec": {
   "display_name": "Python 3 (ipykernel)",
   "language": "python",
   "name": "python3"
  },
  "language_info": {
   "codemirror_mode": {
    "name": "ipython",
    "version": 3
   },
   "file_extension": ".py",
   "mimetype": "text/x-python",
   "name": "python",
   "nbconvert_exporter": "python",
   "pygments_lexer": "ipython3",
   "version": "3.10.9"
  },
  "toc": {
   "base_numbering": 1,
   "nav_menu": {},
   "number_sections": true,
   "sideBar": true,
   "skip_h1_title": true,
   "title_cell": "Содержание",
   "title_sidebar": "Contents",
   "toc_cell": true,
   "toc_position": {
    "height": "calc(100% - 180px)",
    "left": "10px",
    "top": "150px",
    "width": "165px"
   },
   "toc_section_display": true,
   "toc_window_display": true
  }
 },
 "nbformat": 4,
 "nbformat_minor": 2
}
